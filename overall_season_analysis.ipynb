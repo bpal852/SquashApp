{
 "cells": [
  {
   "cell_type": "code",
   "execution_count": 2,
   "metadata": {},
   "outputs": [],
   "source": [
    "import numpy as np\n",
    "import pandas as pd\n",
    "import os\n",
    "import glob\n",
    "import matplotlib.pyplot as plt\n",
    "import seaborn as sns\n",
    "import re"
   ]
  },
  {
   "cell_type": "code",
   "execution_count": 3,
   "metadata": {},
   "outputs": [],
   "source": [
    "all_divisions = {\n",
    "    \"Premier Main\": 424,\n",
    "    \"2\": 425,\n",
    "    \"3\": 426,\n",
    "    \"4\": 427,\n",
    "    \"5\": 428,\n",
    "    \"6\": 429,\n",
    "    \"7A\": 430,\n",
    "    \"7B\": 431,\n",
    "    \"8A\": 432,\n",
    "    \"8B\": 433,\n",
    "    \"9\": 434,\n",
    "    \"10\": 435,\n",
    "    \"11\": 436,\n",
    "    \"12\": 437,\n",
    "    \"13A\": 438,\n",
    "    \"13B\": 439,\n",
    "    \"14\": 440,\n",
    "    \"15A\": 441,\n",
    "    \"15B\": 442,\n",
    "    \"Premier Masters\": 443,\n",
    "    \"M2\": 444,\n",
    "    \"M3\": 445,\n",
    "    \"M4\": 446,\n",
    "    \"Premier Ladies\": 447,\n",
    "    \"L2\": 448,\n",
    "    \"L3\": 449,\n",
    "    \"L4\": 450,\n",
    "    }"
   ]
  },
  {
   "cell_type": "code",
   "execution_count": 4,
   "metadata": {},
   "outputs": [],
   "source": [
    "base_directory = r\"C:\\Users\\bpali\\PycharmProjects\\SquashApp\\previous_seasons\""
   ]
  },
  {
   "cell_type": "markdown",
   "metadata": {},
   "source": [
    "### Load Summary data"
   ]
  },
  {
   "cell_type": "code",
   "execution_count": 5,
   "metadata": {},
   "outputs": [],
   "source": [
    "# Load all seasons summary data\n",
    "summary_df_list = []\n",
    "for season_folder in os.listdir(base_directory):\n",
    "    season_folder_path = os.path.join(base_directory, season_folder)\n",
    "    ranking_df_folder = os.path.join(season_folder_path, \"summary_df\")\n",
    "    for file in os.listdir(ranking_df_folder):\n",
    "        if not file.endswith(\"summary_df.csv\"):\n",
    "            continue\n",
    "        file_path = os.path.join(ranking_df_folder, file)\n",
    "        df = pd.read_csv(file_path)\n",
    "        # Add Division column to the dataframe\n",
    "        df[\"Division\"] = file.split(\"_\")[0]\n",
    "        # Add Season column to the dataframe\n",
    "        df[\"Season\"] = season_folder\n",
    "        # Add Rank column to the dataframe\n",
    "        df[\"Rank\"] = df.index + 1\n",
    "        summary_df_list.append(df)\n",
    "\n",
    "# Concatenate all the dataframes in df_list into one big dataframe\n",
    "all_previous_summary_df = pd.concat(summary_df_list, ignore_index=True)"
   ]
  },
  {
   "cell_type": "code",
   "execution_count": 6,
   "metadata": {},
   "outputs": [],
   "source": [
    "# Load summary_dfs for 2024-2025 season\n",
    "\n",
    "summary_directory = r\"C:\\Users\\bpali\\PycharmProjects\\SquashApp\\2024-2025\\summary_df\"\n",
    "\n",
    "summary_dfs = []\n",
    "for division in all_divisions.keys():\n",
    "    for week in range(10, 0, -1):\n",
    "        try:\n",
    "            summary_df = pd.read_csv(f\"{summary_directory}\\\\week_{week}\\\\{division}_summary_df.csv\")\n",
    "            summary_df[\"Division\"] = division\n",
    "            # Create Rank column based on Points column\n",
    "            summary_df[\"Rank\"] = summary_df.index + 1\n",
    "            # Add Season column to the dataframe\n",
    "            summary_df[\"Season\"] = \"2024-2025\"\n",
    "            summary_dfs.append(summary_df)\n",
    "            break\n",
    "        except FileNotFoundError:\n",
    "            continue\n",
    "\n",
    "# Concatenate all the summary dataframes into one\n",
    "summary_df_2024_2025 = pd.concat(summary_dfs)"
   ]
  },
  {
   "cell_type": "code",
   "execution_count": 7,
   "metadata": {},
   "outputs": [],
   "source": [
    "# Concatenate the summary dataframes from all seasons\n",
    "big_summary_df = pd.concat([all_previous_summary_df, summary_df_2024_2025], ignore_index=True)\n",
    "\n",
    "# Drop rows where Played is equal to zero\n",
    "big_summary_df = big_summary_df[big_summary_df[\"Played\"] != 0]"
   ]
  },
  {
   "cell_type": "markdown",
   "metadata": {},
   "source": [
    "### Load Ranking data"
   ]
  },
  {
   "cell_type": "code",
   "execution_count": 8,
   "metadata": {},
   "outputs": [],
   "source": [
    "# 2024-2025 ranking_df directory\n",
    "ranking_df_dir = r\"C:\\Users\\bpali\\PycharmProjects\\SquashApp\\2024-2025\\ranking_df\""
   ]
  },
  {
   "cell_type": "code",
   "execution_count": 9,
   "metadata": {},
   "outputs": [],
   "source": [
    "# In the the summary directory are week_x folders (eg week_4). First check the most recent folder (ie the highest number), then check the next highest, etc, \n",
    "# using the all_divisions dictionary to make sure we load every division's most recent summary file and avoid loading an older file for a division that has a more recent file.\n",
    "\n",
    "ranking_dfs = []\n",
    "for division in all_divisions.keys():\n",
    "    for week in range(10, 0, -1):\n",
    "        try:\n",
    "            ranking_df = pd.read_csv(f\"{ranking_df_dir}\\\\week_{week}\\\\{division}_ranking_df.csv\")\n",
    "            ranking_df[\"Season\"] = \"2024-2025\"\n",
    "            ranking_dfs.append(ranking_df)\n",
    "            break\n",
    "        except FileNotFoundError:\n",
    "            continue\n",
    "\n",
    "# Concatenate all the summary dataframes into one\n",
    "ranking_df_2024_2025 = pd.concat(ranking_dfs)"
   ]
  },
  {
   "cell_type": "code",
   "execution_count": 10,
   "metadata": {},
   "outputs": [],
   "source": [
    "# In the base directory are seasons folders (eg. 2019-2020, 2020-2021, etc.). We want to go through each season folder, go into the ranking_df folder for that season, \n",
    "# and read in all the ranking_df files (determined by whether the file ends in ranking_df) into a list of dataframes. We will then concatenate all the dataframes into one big dataframe.\n",
    "# Add a Season column to the dataframe to keep track of which season the data is from.\n",
    "\n",
    "ranking_df_list = []\n",
    "for season_folder in os.listdir(base_directory):\n",
    "    season_folder_path = os.path.join(base_directory, season_folder)\n",
    "    ranking_df_folder = os.path.join(season_folder_path, \"ranking_df\")\n",
    "    for file in os.listdir(ranking_df_folder):\n",
    "        if not file.endswith(\"ranking_df.csv\"):\n",
    "            continue\n",
    "        file_path = os.path.join(ranking_df_folder, file)\n",
    "        df = pd.read_csv(file_path)\n",
    "        df[\"Season\"] = season_folder\n",
    "        ranking_df_list.append(df)\n",
    "\n",
    "# Concatenate all the dataframes in df_list into one big dataframe\n",
    "big_ranking_df = pd.concat(ranking_df_list)\n"
   ]
  },
  {
   "cell_type": "code",
   "execution_count": 11,
   "metadata": {},
   "outputs": [],
   "source": [
    "# Concatenate the 2024-2025 ranking_df with the big_ranking_df\n",
    "final_ranking_df = pd.concat([big_ranking_df, ranking_df_2024_2025])"
   ]
  },
  {
   "cell_type": "markdown",
   "metadata": {},
   "source": [
    "### Load Schedules data"
   ]
  },
  {
   "cell_type": "code",
   "execution_count": 12,
   "metadata": {},
   "outputs": [],
   "source": [
    "# Load all seasons summary data\n",
    "schedules_df_list = []\n",
    "for season_folder in os.listdir(base_directory):\n",
    "    season_folder_path = os.path.join(base_directory, season_folder)\n",
    "    ranking_df_folder = os.path.join(season_folder_path, \"schedules_df\")\n",
    "    for file in os.listdir(ranking_df_folder):\n",
    "        if not file.endswith(\"schedules_df.csv\"):\n",
    "            continue\n",
    "        file_path = os.path.join(ranking_df_folder, file)\n",
    "        df = pd.read_csv(file_path)\n",
    "        # Add Division column to the dataframe\n",
    "        df[\"Division\"] = file.split(\"_\")[0]\n",
    "        # Add Season column to the dataframe\n",
    "        df[\"Season\"] = season_folder\n",
    "\n",
    "        schedules_df_list.append(df)\n",
    "\n",
    "# Concatenate all the dataframes in df_list into one big dataframe\n",
    "all_previous_schedules_df = pd.concat(schedules_df_list, ignore_index=True)"
   ]
  },
  {
   "cell_type": "code",
   "execution_count": 13,
   "metadata": {},
   "outputs": [],
   "source": [
    "# 2024-2025 schedules_df directory\n",
    "schedules_df_dir = r\"C:\\Users\\bpali\\PycharmProjects\\SquashApp\\2024-2025\\schedules_df\""
   ]
  },
  {
   "cell_type": "code",
   "execution_count": 14,
   "metadata": {},
   "outputs": [],
   "source": [
    "schedules_dfs = []\n",
    "for division in all_divisions.keys():\n",
    "    for week in range(10, 0, -1):\n",
    "        try:\n",
    "            schedules_df = pd.read_csv(f\"{schedules_df_dir}\\\\week_{week}\\\\{division}_schedules_df.csv\")\n",
    "            schedules_df[\"Season\"] = \"2024-2025\"\n",
    "            schedules_df[\"Division\"] = division\n",
    "            schedules_dfs.append(schedules_df)\n",
    "            break\n",
    "        except FileNotFoundError:\n",
    "            continue"
   ]
  },
  {
   "cell_type": "code",
   "execution_count": 15,
   "metadata": {},
   "outputs": [],
   "source": [
    "# Concatenate all the summary dataframes into one\n",
    "schedules_df_2024_2025 = pd.concat(schedules_dfs)"
   ]
  },
  {
   "cell_type": "code",
   "execution_count": 16,
   "metadata": {},
   "outputs": [],
   "source": [
    "# Concatenate the schedules dataframes from all seasons\n",
    "all_schedules_df = pd.concat([all_previous_schedules_df, schedules_df_2024_2025], ignore_index=True)"
   ]
  },
  {
   "cell_type": "code",
   "execution_count": 17,
   "metadata": {},
   "outputs": [],
   "source": [
    "# Tidy Venue column\n",
    "all_schedules_df[\"Venue\"] = all_schedules_df[\"Venue\"].str.replace(\"Cornwall Street (CSPSC)\", \"Cornwall Street Squash Centre\")\n",
    "all_schedules_df[\"Venue\"] = all_schedules_df[\"Venue\"].str.replace(\"Masters - Cornwall Street (CSPSC - M)\", \"Cornwall Street Squash Centre\")\n",
    "all_schedules_df[\"Venue\"] = all_schedules_df[\"Venue\"].str.replace(\"Masters - Cornwall Street (M - CSPSC)\", \"Cornwall Street Squash Centre\")\n",
    "all_schedules_df[\"Venue\"] = all_schedules_df[\"Venue\"].str.replace(\"HK Squash Centre (HKSC)\", \"HK Squash Centre\")\n",
    "all_schedules_df[\"Venue\"] = all_schedules_df[\"Venue\"].str.replace(\"Masters - HK Squash Centre\", \"HK Squash Centre\")\n",
    "all_schedules_df[\"Venue\"] = all_schedules_df[\"Venue\"].str.replace(\"HK Squash Centre (M - HKSC)\", \"HK Squash Centre\")\n",
    "all_schedules_df[\"Venue\"] = all_schedules_df[\"Venue\"].str.replace(\"Hong Kong Football Club (HKFC)\", \"Hong Kong Football Club\")\n",
    "all_schedules_df[\"Venue\"] = all_schedules_df[\"Venue\"].str.replace(\"Hong Kong Cricket Club (HKCC)\", \"Hong Kong Cricket Club\")\n",
    "all_schedules_df[\"Venue\"] = all_schedules_df[\"Venue\"].str.replace(\"Kowloon Cricket Club (KCC)\", \"Kowloon Cricket Club\")\n",
    "all_schedules_df[\"Venue\"] = all_schedules_df[\"Venue\"].str.replace(\"United Services Recreation Club (USRC)\", \"United Services Recreation Club\")\n",
    "all_schedules_df[\"Venue\"] = all_schedules_df[\"Venue\"].str.replace(\"Pei Ho Street (PHSSC)\", \"Pei Ho Street Sports Centre\")\n",
    "all_schedules_df[\"Venue\"] = all_schedules_df[\"Venue\"].str.replace(\"Java Road (JRSC)\", \"Java Road\")\n",
    "all_schedules_df[\"Venue\"] = all_schedules_df[\"Venue\"].str.replace(\"Masters - Java Road (JRSC - M)\", \"Java Road\")\n",
    "all_schedules_df[\"Venue\"] = all_schedules_df[\"Venue\"].str.replace(\"Harbour Road (HRSC)\", \"Harbour Road Sports Centre\")\n",
    "all_schedules_df[\"Venue\"] = all_schedules_df[\"Venue\"].str.replace(\"Masters - Harbour Road Sports Centre\", \"Harbour Road Sports Centre\")\n",
    "all_schedules_df[\"Venue\"] = all_schedules_df[\"Venue\"].str.replace(\"Ladies Recreation Club (LRC)\", \"Ladies Recreation Club\")"
   ]
  },
  {
   "cell_type": "code",
   "execution_count": 18,
   "metadata": {},
   "outputs": [
    {
     "data": {
      "text/plain": [
       "Venue\n",
       "Cornwall Street Squash Centre             5178\n",
       "HK Squash Centre                          3349\n",
       "Hong Kong Football Club                   2340\n",
       "Hong Kong Cricket Club                    1214\n",
       "Kowloon Cricket Club                       894\n",
       "Kwun Chung (KCSC)                          513\n",
       "United Services Recreation Club            440\n",
       "Pei Ho Street Sports Centre                430\n",
       "Harbour Road Sports Centre                 246\n",
       "Ladies Recreation Club                     246\n",
       "Java Road                                  166\n",
       "HK CLUB                                    120\n",
       "Yuen Long Jockey Club (YLJCSC)             118\n",
       "Royal Hong Kong Yacht Club (RHKYC)         110\n",
       "Chinese University of HK (CUHK)            108\n",
       "Police Sports & Recreation Club (PSRC)      89\n",
       "Hong Kong Sports Institute (HKSI)           81\n",
       "Yuen Long Jockey Club Squash Courts         79\n",
       "HKJC Sha Tin Club House (HKJC)              77\n",
       "Wai Tsuen (WTSC)                            68\n",
       "Name: count, dtype: int64"
      ]
     },
     "execution_count": 18,
     "metadata": {},
     "output_type": "execute_result"
    }
   ],
   "source": [
    "all_schedules_df[\"Venue\"].value_counts().head(20)"
   ]
  },
  {
   "cell_type": "code",
   "execution_count": 19,
   "metadata": {},
   "outputs": [],
   "source": [
    "def parse_result(result):\n",
    "    \"\"\"\n",
    "    Function to parse the 'result' string\n",
    "    \"\"\"\n",
    "    overall, rubbers = result.split('(')\n",
    "    rubbers = rubbers.strip(')').split(',')\n",
    "    return overall, rubbers"
   ]
  },
  {
   "cell_type": "code",
   "execution_count": 20,
   "metadata": {},
   "outputs": [],
   "source": [
    "# Drop unnecessary columns\n",
    "all_schedules_df.drop(columns=['vs', 'Time'], inplace=True)\n",
    "\n",
    "# Exclude rows where 'Away Team' is '[BYE]' (indicative of a bye week)\n",
    "results_df = all_schedules_df[all_schedules_df['Away Team'] != '[BYE]'].copy()\n",
    "\n",
    "# Replace NaN values in 'Result' with an empty string before applying str.contains\n",
    "results_df['Result'] = results_df['Result'].fillna('')\n",
    "\n",
    "# Keep rows where 'Result' contains brackets (indicative of a played match)\n",
    "results_df = results_df[results_df['Result'].str.contains(r'\\(')]\n",
    "\n",
    "# Apply the function to the 'Result' column\n",
    "results_df[['Overall Score', 'Rubbers']] = results_df['Result'].apply(lambda x: pd.Series(parse_result(x)))\n",
    "\n",
    "# Splitting the 'Overall Score' into two separate columns\n",
    "results_df[['Home Score', 'Away Score']] = results_df['Overall Score'].str.split('-', expand=True).astype(int)\n",
    "\n",
    "# Get counts for CR and WO\n",
    "results_df['CR'] = results_df['Rubbers'].apply(lambda x: x.count('CR'))\n",
    "results_df['WO'] = results_df['Rubbers'].apply(lambda x: x.count('WO'))\n",
    "\n",
    "# Create combined CR and WO column\n",
    "results_df['CR_WO'] = results_df['CR'] + results_df['WO']"
   ]
  },
  {
   "cell_type": "code",
   "execution_count": 21,
   "metadata": {},
   "outputs": [],
   "source": [
    "# Filter out rows where Home Score and Away Score don't sum to 5\n",
    "results_df_5 = results_df[results_df['Home Score'] + results_df['Away Score'] == 5]"
   ]
  },
  {
   "cell_type": "code",
   "execution_count": 22,
   "metadata": {},
   "outputs": [],
   "source": [
    "# Include only rows where Venue equals 'Cornwall Street Squash Centre', 'HK Squash Centre', 'Hong Kong Football Club', 'Hong Kong Cricket Club', 'Kowloon Cricket Club', 'United Services Recreation Club'.\n",
    "\n",
    "venues = ['Cornwall Street Squash Centre', 'HK Squash Centre', 'Hong Kong Football Club', 'Hong Kong Cricket Club', 'Kowloon Cricket Club', 'United Services Recreation Club']\n",
    "results_df_5 = results_df_5[results_df_5['Venue'].isin(venues)]"
   ]
  },
  {
   "cell_type": "code",
   "execution_count": 23,
   "metadata": {},
   "outputs": [
    {
     "data": {
      "text/plain": [
       "Venue\n",
       "Kowloon Cricket Club               3.325581\n",
       "Hong Kong Football Club            2.995342\n",
       "United Services Recreation Club    2.903509\n",
       "Hong Kong Cricket Club             2.845411\n",
       "Cornwall Street Squash Centre      2.630248\n",
       "HK Squash Centre                   2.410567\n",
       "Name: Home Score, dtype: float64"
      ]
     },
     "execution_count": 23,
     "metadata": {},
     "output_type": "execute_result"
    }
   ],
   "source": [
    "# Get average Home Score by Venue\n",
    "results_df_5.groupby('Venue')['Home Score'].mean().sort_values(ascending=False)"
   ]
  },
  {
   "cell_type": "code",
   "execution_count": 24,
   "metadata": {},
   "outputs": [
    {
     "data": {
      "text/plain": [
       "Season\n",
       "2016-2017    2.660000\n",
       "2017-2018    2.713142\n",
       "2018-2019    2.731082\n",
       "2019-2020    2.701635\n",
       "2021-2022    2.586160\n",
       "2022-2023    2.760300\n",
       "2023-2024    2.661187\n",
       "2024-2025    2.660592\n",
       "Name: Home Score, dtype: float64"
      ]
     },
     "execution_count": 24,
     "metadata": {},
     "output_type": "execute_result"
    }
   ],
   "source": [
    "# Get mean of Home Score by Season\n",
    "results_df_5.groupby('Season')['Home Score'].mean()"
   ]
  },
  {
   "cell_type": "code",
   "execution_count": 25,
   "metadata": {},
   "outputs": [
    {
     "data": {
      "text/html": [
       "<div>\n",
       "<style scoped>\n",
       "    .dataframe tbody tr th:only-of-type {\n",
       "        vertical-align: middle;\n",
       "    }\n",
       "\n",
       "    .dataframe tbody tr th {\n",
       "        vertical-align: top;\n",
       "    }\n",
       "\n",
       "    .dataframe thead th {\n",
       "        text-align: right;\n",
       "    }\n",
       "</style>\n",
       "<table border=\"1\" class=\"dataframe\">\n",
       "  <thead>\n",
       "    <tr style=\"text-align: right;\">\n",
       "      <th></th>\n",
       "      <th>CR</th>\n",
       "      <th>WO</th>\n",
       "    </tr>\n",
       "    <tr>\n",
       "      <th>Venue</th>\n",
       "      <th></th>\n",
       "      <th></th>\n",
       "    </tr>\n",
       "  </thead>\n",
       "  <tbody>\n",
       "    <tr>\n",
       "      <th>Cornwall Street Squash Centre</th>\n",
       "      <td>0.262460</td>\n",
       "      <td>0.085195</td>\n",
       "    </tr>\n",
       "    <tr>\n",
       "      <th>HK Squash Centre</th>\n",
       "      <td>0.333911</td>\n",
       "      <td>0.130793</td>\n",
       "    </tr>\n",
       "    <tr>\n",
       "      <th>Hong Kong Cricket Club</th>\n",
       "      <td>0.198068</td>\n",
       "      <td>0.112721</td>\n",
       "    </tr>\n",
       "    <tr>\n",
       "      <th>Hong Kong Football Club</th>\n",
       "      <td>0.149845</td>\n",
       "      <td>0.048913</td>\n",
       "    </tr>\n",
       "    <tr>\n",
       "      <th>Kowloon Cricket Club</th>\n",
       "      <td>0.175313</td>\n",
       "      <td>0.044723</td>\n",
       "    </tr>\n",
       "    <tr>\n",
       "      <th>United Services Recreation Club</th>\n",
       "      <td>0.134503</td>\n",
       "      <td>0.055556</td>\n",
       "    </tr>\n",
       "  </tbody>\n",
       "</table>\n",
       "</div>"
      ],
      "text/plain": [
       "                                       CR        WO\n",
       "Venue                                              \n",
       "Cornwall Street Squash Centre    0.262460  0.085195\n",
       "HK Squash Centre                 0.333911  0.130793\n",
       "Hong Kong Cricket Club           0.198068  0.112721\n",
       "Hong Kong Football Club          0.149845  0.048913\n",
       "Kowloon Cricket Club             0.175313  0.044723\n",
       "United Services Recreation Club  0.134503  0.055556"
      ]
     },
     "execution_count": 25,
     "metadata": {},
     "output_type": "execute_result"
    }
   ],
   "source": [
    "# Count average instances of 'CR' and 'WO' in the 'Rubbers' column per match by Venue\n",
    "results_df_5['CR'] = results_df_5['Rubbers'].apply(lambda x: x.count('CR'))\n",
    "results_df_5['WO'] = results_df_5['Rubbers'].apply(lambda x: x.count('WO'))\n",
    "\n",
    "results_df_5.groupby('Venue')[['CR', 'WO']].mean()"
   ]
  },
  {
   "cell_type": "code",
   "execution_count": 26,
   "metadata": {},
   "outputs": [],
   "source": [
    "# Create 5 match rolling average for CR and WO by Match Week for results_df, \n",
    "results_df_5['CR Rolling Mean'] = results_df_5['CR'].transform(lambda x: x.rolling(5, 1).mean())\n",
    "results_df_5['WO Rolling Mean'] = results_df_5['WO'].transform(lambda x: x.rolling(5, 1).mean())\n"
   ]
  },
  {
   "cell_type": "code",
   "execution_count": 27,
   "metadata": {},
   "outputs": [
    {
     "data": {
      "text/html": [
       "<div>\n",
       "<style scoped>\n",
       "    .dataframe tbody tr th:only-of-type {\n",
       "        vertical-align: middle;\n",
       "    }\n",
       "\n",
       "    .dataframe tbody tr th {\n",
       "        vertical-align: top;\n",
       "    }\n",
       "\n",
       "    .dataframe thead th {\n",
       "        text-align: right;\n",
       "    }\n",
       "</style>\n",
       "<table border=\"1\" class=\"dataframe\">\n",
       "  <thead>\n",
       "    <tr style=\"text-align: right;\">\n",
       "      <th></th>\n",
       "      <th>Home Team</th>\n",
       "      <th>Away Team</th>\n",
       "      <th>Venue</th>\n",
       "      <th>Result</th>\n",
       "      <th>Match Week</th>\n",
       "      <th>Date</th>\n",
       "      <th>Division</th>\n",
       "      <th>Season</th>\n",
       "      <th>Overall Score</th>\n",
       "      <th>Rubbers</th>\n",
       "      <th>Home Score</th>\n",
       "      <th>Away Score</th>\n",
       "      <th>CR</th>\n",
       "      <th>WO</th>\n",
       "      <th>CR_WO</th>\n",
       "    </tr>\n",
       "  </thead>\n",
       "  <tbody>\n",
       "    <tr>\n",
       "      <th>0</th>\n",
       "      <td>The Hong Kong Jockey Club</td>\n",
       "      <td>i-MASK Advance Squash Club 7</td>\n",
       "      <td>HKJC Sha Tin Club House (HKJC)</td>\n",
       "      <td>1-4(0-3,1-3,0-3,3-2,2-3)</td>\n",
       "      <td>1</td>\n",
       "      <td>03/10/2016</td>\n",
       "      <td>10</td>\n",
       "      <td>2016-2017</td>\n",
       "      <td>1-4</td>\n",
       "      <td>[0-3, 1-3, 0-3, 3-2, 2-3]</td>\n",
       "      <td>1</td>\n",
       "      <td>4</td>\n",
       "      <td>0</td>\n",
       "      <td>0</td>\n",
       "      <td>0</td>\n",
       "    </tr>\n",
       "    <tr>\n",
       "      <th>1</th>\n",
       "      <td>Hong Kong Football Club 10A</td>\n",
       "      <td>Hong Kong Football Club 10B</td>\n",
       "      <td>Hong Kong Football Club</td>\n",
       "      <td>3-2(1-3,3-0,3-1,1-3,3-0)</td>\n",
       "      <td>1</td>\n",
       "      <td>03/10/2016</td>\n",
       "      <td>10</td>\n",
       "      <td>2016-2017</td>\n",
       "      <td>3-2</td>\n",
       "      <td>[1-3, 3-0, 3-1, 1-3, 3-0]</td>\n",
       "      <td>3</td>\n",
       "      <td>2</td>\n",
       "      <td>0</td>\n",
       "      <td>0</td>\n",
       "      <td>0</td>\n",
       "    </tr>\n",
       "    <tr>\n",
       "      <th>2</th>\n",
       "      <td>Royal Hong Kong Yacht Club 10</td>\n",
       "      <td>Banbil</td>\n",
       "      <td>Royal Hong Kong Yacht Club (RHKYC)</td>\n",
       "      <td>4-1(0-3,3-0,3-0,3-0,3-0)</td>\n",
       "      <td>1</td>\n",
       "      <td>03/10/2016</td>\n",
       "      <td>10</td>\n",
       "      <td>2016-2017</td>\n",
       "      <td>4-1</td>\n",
       "      <td>[0-3, 3-0, 3-0, 3-0, 3-0]</td>\n",
       "      <td>4</td>\n",
       "      <td>1</td>\n",
       "      <td>0</td>\n",
       "      <td>0</td>\n",
       "      <td>0</td>\n",
       "    </tr>\n",
       "    <tr>\n",
       "      <th>3</th>\n",
       "      <td>Xavier</td>\n",
       "      <td>Perrier KCC 7</td>\n",
       "      <td>Cornwall Street Squash Centre</td>\n",
       "      <td>3-2(3-2,3-0,3-2,0-3,2-3)</td>\n",
       "      <td>1</td>\n",
       "      <td>03/10/2016</td>\n",
       "      <td>10</td>\n",
       "      <td>2016-2017</td>\n",
       "      <td>3-2</td>\n",
       "      <td>[3-2, 3-0, 3-2, 0-3, 2-3]</td>\n",
       "      <td>3</td>\n",
       "      <td>2</td>\n",
       "      <td>0</td>\n",
       "      <td>0</td>\n",
       "      <td>0</td>\n",
       "    </tr>\n",
       "    <tr>\n",
       "      <th>4</th>\n",
       "      <td>i-MASK Advance Squash Club 7</td>\n",
       "      <td>Royal Hong Kong Yacht Club 10</td>\n",
       "      <td>Cornwall Street Squash Centre</td>\n",
       "      <td>3-2(3-0,3-0,3-1,1-3,2-3)</td>\n",
       "      <td>2</td>\n",
       "      <td>17/10/2016</td>\n",
       "      <td>10</td>\n",
       "      <td>2016-2017</td>\n",
       "      <td>3-2</td>\n",
       "      <td>[3-0, 3-0, 3-1, 1-3, 2-3]</td>\n",
       "      <td>3</td>\n",
       "      <td>2</td>\n",
       "      <td>0</td>\n",
       "      <td>0</td>\n",
       "      <td>0</td>\n",
       "    </tr>\n",
       "  </tbody>\n",
       "</table>\n",
       "</div>"
      ],
      "text/plain": [
       "                       Home Team                      Away Team  \\\n",
       "0      The Hong Kong Jockey Club   i-MASK Advance Squash Club 7   \n",
       "1    Hong Kong Football Club 10A    Hong Kong Football Club 10B   \n",
       "2  Royal Hong Kong Yacht Club 10                         Banbil   \n",
       "3                         Xavier                  Perrier KCC 7   \n",
       "4   i-MASK Advance Squash Club 7  Royal Hong Kong Yacht Club 10   \n",
       "\n",
       "                                Venue                    Result  Match Week  \\\n",
       "0      HKJC Sha Tin Club House (HKJC)  1-4(0-3,1-3,0-3,3-2,2-3)           1   \n",
       "1             Hong Kong Football Club  3-2(1-3,3-0,3-1,1-3,3-0)           1   \n",
       "2  Royal Hong Kong Yacht Club (RHKYC)  4-1(0-3,3-0,3-0,3-0,3-0)           1   \n",
       "3       Cornwall Street Squash Centre  3-2(3-2,3-0,3-2,0-3,2-3)           1   \n",
       "4       Cornwall Street Squash Centre  3-2(3-0,3-0,3-1,1-3,2-3)           2   \n",
       "\n",
       "         Date Division     Season Overall Score                    Rubbers  \\\n",
       "0  03/10/2016       10  2016-2017           1-4  [0-3, 1-3, 0-3, 3-2, 2-3]   \n",
       "1  03/10/2016       10  2016-2017           3-2  [1-3, 3-0, 3-1, 1-3, 3-0]   \n",
       "2  03/10/2016       10  2016-2017           4-1  [0-3, 3-0, 3-0, 3-0, 3-0]   \n",
       "3  03/10/2016       10  2016-2017           3-2  [3-2, 3-0, 3-2, 0-3, 2-3]   \n",
       "4  17/10/2016       10  2016-2017           3-2  [3-0, 3-0, 3-1, 1-3, 2-3]   \n",
       "\n",
       "   Home Score  Away Score  CR  WO  CR_WO  \n",
       "0           1           4   0   0      0  \n",
       "1           3           2   0   0      0  \n",
       "2           4           1   0   0      0  \n",
       "3           3           2   0   0      0  \n",
       "4           3           2   0   0      0  "
      ]
     },
     "execution_count": 27,
     "metadata": {},
     "output_type": "execute_result"
    }
   ],
   "source": [
    "results_df.head()"
   ]
  },
  {
   "cell_type": "code",
   "execution_count": 28,
   "metadata": {},
   "outputs": [
    {
     "data": {
      "text/plain": [
       "<matplotlib.legend.Legend at 0x11fec4ee550>"
      ]
     },
     "execution_count": 28,
     "metadata": {},
     "output_type": "execute_result"
    },
    {
     "data": {
      "image/png": "[encoded data removed]",
      "text/plain": [
       "<Figure size 1000x600 with 1 Axes>"
      ]
     },
     "metadata": {},
     "output_type": "display_data"
    }
   ],
   "source": [
    "# Create graph to show average CR and WO per match by Match Week without confidence intervals\n",
    "fig, ax = plt.subplots(figsize=(10, 6))\n",
    "sns.lineplot(data=results_df, x='Match Week', y='CR', label='CR', errorbar=None, color='blue')\n",
    "sns.lineplot(data=results_df, x='Match Week', y='WO', label='WO', errorbar=None, color='orange')\n",
    "sns.despine()\n",
    "\n",
    "plt.title('Average CR and WO per match by Match Week')\n",
    "plt.ylabel('Average CR / WO per match')\n",
    "plt.xlabel('Match Week')\n",
    "plt.legend()"
   ]
  },
  {
   "cell_type": "code",
   "execution_count": 29,
   "metadata": {},
   "outputs": [
    {
     "data": {
      "image/png": "[encoded data removed]",
      "text/plain": [
       "<Figure size 1200x600 with 1 Axes>"
      ]
     },
     "metadata": {},
     "output_type": "display_data"
    }
   ],
   "source": [
    "# Create graph to show average CR and WO per match by Season without confidence intervals\n",
    "plt.figure(figsize=(12, 6))\n",
    "sns.lineplot(data=results_df, x='Season', y='CR', label='CR', errorbar=None, color='blue')\n",
    "sns.lineplot(data=results_df, x='Season', y='WO', label='WO', errorbar=None, color='orange')\n",
    "sns.despine()\n",
    "\n",
    "plt.title('Average CR and WO per match by Season')\n",
    "plt.ylabel('Average CR / WO per match')\n",
    "plt.xlabel('Match Week')\n",
    "plt.legend()\n",
    "plt.show()"
   ]
  },
  {
   "cell_type": "code",
   "execution_count": 30,
   "metadata": {},
   "outputs": [
    {
     "name": "stderr",
     "output_type": "stream",
     "text": [
      "C:\\Users\\bpali\\AppData\\Local\\Temp\\ipykernel_1064\\2814105957.py:9: SettingWithCopyWarning: \n",
      "A value is trying to be set on a copy of a slice from a DataFrame.\n",
      "Try using .loc[row_indexer,col_indexer] = value instead\n",
      "\n",
      "See the caveats in the documentation: https://pandas.pydata.org/pandas-docs/stable/user_guide/indexing.html#returning-a-view-versus-a-copy\n",
      "  results_df_2016['CR_WO Rolling Mean'] = results_df_2016['CR_WO'].transform(lambda x: x.rolling(5, 1).mean())\n",
      "C:\\Users\\bpali\\AppData\\Local\\Temp\\ipykernel_1064\\2814105957.py:10: SettingWithCopyWarning: \n",
      "A value is trying to be set on a copy of a slice from a DataFrame.\n",
      "Try using .loc[row_indexer,col_indexer] = value instead\n",
      "\n",
      "See the caveats in the documentation: https://pandas.pydata.org/pandas-docs/stable/user_guide/indexing.html#returning-a-view-versus-a-copy\n",
      "  results_df_2017['CR_WO Rolling Mean'] = results_df_2017['CR_WO'].transform(lambda x: x.rolling(5, 1).mean())\n",
      "C:\\Users\\bpali\\AppData\\Local\\Temp\\ipykernel_1064\\2814105957.py:11: SettingWithCopyWarning: \n",
      "A value is trying to be set on a copy of a slice from a DataFrame.\n",
      "Try using .loc[row_indexer,col_indexer] = value instead\n",
      "\n",
      "See the caveats in the documentation: https://pandas.pydata.org/pandas-docs/stable/user_guide/indexing.html#returning-a-view-versus-a-copy\n",
      "  results_df_2018['CR_WO Rolling Mean'] = results_df_2018['CR_WO'].transform(lambda x: x.rolling(5, 1).mean())\n",
      "C:\\Users\\bpali\\AppData\\Local\\Temp\\ipykernel_1064\\2814105957.py:12: SettingWithCopyWarning: \n",
      "A value is trying to be set on a copy of a slice from a DataFrame.\n",
      "Try using .loc[row_indexer,col_indexer] = value instead\n",
      "\n",
      "See the caveats in the documentation: https://pandas.pydata.org/pandas-docs/stable/user_guide/indexing.html#returning-a-view-versus-a-copy\n",
      "  results_df_2022['CR_WO Rolling Mean'] = results_df_2022['CR_WO'].transform(lambda x: x.rolling(5, 1).mean())\n",
      "C:\\Users\\bpali\\AppData\\Local\\Temp\\ipykernel_1064\\2814105957.py:13: SettingWithCopyWarning: \n",
      "A value is trying to be set on a copy of a slice from a DataFrame.\n",
      "Try using .loc[row_indexer,col_indexer] = value instead\n",
      "\n",
      "See the caveats in the documentation: https://pandas.pydata.org/pandas-docs/stable/user_guide/indexing.html#returning-a-view-versus-a-copy\n",
      "  results_df_2023['CR_WO Rolling Mean'] = results_df_2023['CR_WO'].transform(lambda x: x.rolling(5, 1).mean())\n",
      "C:\\Users\\bpali\\AppData\\Local\\Temp\\ipykernel_1064\\2814105957.py:14: SettingWithCopyWarning: \n",
      "A value is trying to be set on a copy of a slice from a DataFrame.\n",
      "Try using .loc[row_indexer,col_indexer] = value instead\n",
      "\n",
      "See the caveats in the documentation: https://pandas.pydata.org/pandas-docs/stable/user_guide/indexing.html#returning-a-view-versus-a-copy\n",
      "  results_df_2024['CR_WO Rolling Mean'] = results_df_2024['CR_WO'].transform(lambda x: x.rolling(5, 1).mean())\n"
     ]
    }
   ],
   "source": [
    "results_df_2016 = results_df[results_df['Season'] == '2016-2017']\n",
    "results_df_2017 = results_df[results_df['Season'] == '2017-2018']\n",
    "results_df_2018 = results_df[results_df['Season'] == '2018-2019']\n",
    "results_df_2022 = results_df[results_df['Season'] == '2022-2023']\n",
    "results_df_2023 = results_df[results_df['Season'] == '2023-2024']\n",
    "results_df_2024 = results_df[results_df['Season'] == '2024-2025']\n",
    "\n",
    "# Create 5 Match Week rolling average of CR_WO for each season\n",
    "results_df_2016['CR_WO Rolling Mean'] = results_df_2016['CR_WO'].transform(lambda x: x.rolling(5, 1).mean())\n",
    "results_df_2017['CR_WO Rolling Mean'] = results_df_2017['CR_WO'].transform(lambda x: x.rolling(5, 1).mean())\n",
    "results_df_2018['CR_WO Rolling Mean'] = results_df_2018['CR_WO'].transform(lambda x: x.rolling(5, 1).mean())\n",
    "results_df_2022['CR_WO Rolling Mean'] = results_df_2022['CR_WO'].transform(lambda x: x.rolling(5, 1).mean())\n",
    "results_df_2023['CR_WO Rolling Mean'] = results_df_2023['CR_WO'].transform(lambda x: x.rolling(5, 1).mean())\n",
    "results_df_2024['CR_WO Rolling Mean'] = results_df_2024['CR_WO'].transform(lambda x: x.rolling(5, 1).mean())"
   ]
  },
  {
   "cell_type": "code",
   "execution_count": 31,
   "metadata": {},
   "outputs": [
    {
     "data": {
      "image/png": "[encoded data removed]",
      "text/plain": [
       "<Figure size 1000x600 with 1 Axes>"
      ]
     },
     "metadata": {},
     "output_type": "display_data"
    }
   ],
   "source": [
    "# Create graph to show average CR and WO per match by Match Week without confidence intervals\n",
    "fig, ax = plt.subplots(figsize=(10, 6))\n",
    "sns.lineplot(data=results_df_2016, x='Match Week', y='CR_WO Rolling Mean', label=\"2016-17\", errorbar=None, color='blue', alpha=0.15)\n",
    "sns.lineplot(data=results_df_2017, x='Match Week', y='CR_WO Rolling Mean', label=\"2017-18\", errorbar=None, color='orange', alpha=0.15)\n",
    "sns.lineplot(data=results_df_2018, x='Match Week', y='CR_WO Rolling Mean', label='2018-19', errorbar=None, color='green', alpha=0.15)\n",
    "sns.lineplot(data=results_df_2022, x='Match Week', y='CR_WO Rolling Mean', label='2022-23', errorbar=None, color='red', alpha=0.15)\n",
    "sns.lineplot(data=results_df_2023, x='Match Week', y='CR_WO Rolling Mean', label='2023-24', errorbar=None, color='purple', alpha=0.15)\n",
    "sns.lineplot(data=results_df_2024, x='Match Week', y='CR_WO Rolling Mean', label='2024-25', errorbar=None, color='brown', alpha=1)\n",
    "sns.despine()\n",
    "\n",
    "plt.title('Average CR and WO per match by Match Week')\n",
    "plt.ylabel('Average CR / WO per match')\n",
    "plt.xlabel('Match Week')\n",
    "plt.show()"
   ]
  },
  {
   "cell_type": "code",
   "execution_count": 32,
   "metadata": {},
   "outputs": [
    {
     "data": {
      "text/plain": [
       "Season\n",
       "2016-2017    0.202656\n",
       "2017-2018    0.328165\n",
       "2018-2019    0.351015\n",
       "2019-2020    0.315742\n",
       "2021-2022    0.253644\n",
       "2022-2023    0.430187\n",
       "2023-2024    0.513256\n",
       "2024-2025    0.243531\n",
       "dtype: float64"
      ]
     },
     "execution_count": 32,
     "metadata": {},
     "output_type": "execute_result"
    }
   ],
   "source": [
    "# For results_df, group by 'Season', sum \"CR_WO\" and divide by the number of matches played in that season\n",
    "results_df.groupby('Season')['CR_WO'].sum() / results_df.groupby('Season')['Match Week'].count()"
   ]
  },
  {
   "cell_type": "code",
   "execution_count": 33,
   "metadata": {},
   "outputs": [
    {
     "data": {
      "text/plain": [
       "Season\n",
       "2016-2017    473\n",
       "2017-2018    762\n",
       "2018-2019    847\n",
       "2019-2020    353\n",
       "2021-2022    261\n",
       "2022-2023    761\n",
       "2023-2024    968\n",
       "2024-2025    160\n",
       "Name: CR_WO, dtype: int64"
      ]
     },
     "execution_count": 33,
     "metadata": {},
     "output_type": "execute_result"
    }
   ],
   "source": [
    "results_df.groupby('Season')['CR_WO'].sum()"
   ]
  },
  {
   "cell_type": "code",
   "execution_count": 34,
   "metadata": {},
   "outputs": [
    {
     "data": {
      "text/plain": [
       "Season\n",
       "2016-2017    2334\n",
       "2017-2018    2322\n",
       "2018-2019    2413\n",
       "2019-2020    1118\n",
       "2021-2022    1029\n",
       "2022-2023    1769\n",
       "2023-2024    1886\n",
       "2024-2025     657\n",
       "Name: Home Score, dtype: int64"
      ]
     },
     "execution_count": 34,
     "metadata": {},
     "output_type": "execute_result"
    }
   ],
   "source": [
    "# Count total number of matches per Season\n",
    "results_df.groupby('Season')['Home Score'].count()"
   ]
  },
  {
   "cell_type": "markdown",
   "metadata": {},
   "source": [
    "### Total number of unique registered players by season"
   ]
  },
  {
   "cell_type": "code",
   "execution_count": 35,
   "metadata": {},
   "outputs": [
    {
     "data": {
      "text/plain": [
       "Season\n",
       "2016-2017    1890\n",
       "2017-2018    1946\n",
       "2018-2019    1900\n",
       "2019-2020    1925\n",
       "2021-2022    1592\n",
       "2022-2023    1519\n",
       "2023-2024    1657\n",
       "2024-2025    1695\n",
       "Name: Name of Player, dtype: int64"
      ]
     },
     "execution_count": 35,
     "metadata": {},
     "output_type": "execute_result"
    }
   ],
   "source": [
    "# Get total number of players in each season\n",
    "total_players = final_ranking_df.groupby(\"Season\")[\"Name of Player\"].nunique()\n",
    "total_players"
   ]
  },
  {
   "cell_type": "code",
   "execution_count": 36,
   "metadata": {},
   "outputs": [
    {
     "data": {
      "image/png": "[encoded data removed]",
      "text/plain": [
       "<Figure size 1200x600 with 1 Axes>"
      ]
     },
     "metadata": {},
     "output_type": "display_data"
    }
   ],
   "source": [
    "# Create plot to show total number of players in each season\n",
    "plt.figure(figsize=(12, 6))\n",
    "sns.barplot(x=total_players.index, y=total_players.values, color='darkgreen')\n",
    "plt.title('Total number of registered players in each season', y=1.02, size=15)\n",
    "plt.ylabel('Total number of players')\n",
    "plt.xlabel('Season')\n",
    "sns.despine()\n",
    "plt.show()"
   ]
  },
  {
   "cell_type": "markdown",
   "metadata": {},
   "source": [
    "### Total number of unique players in each season to have played 5+ games"
   ]
  },
  {
   "cell_type": "code",
   "execution_count": 37,
   "metadata": {},
   "outputs": [
    {
     "data": {
      "text/plain": [
       "Season\n",
       "2016-2017    1597\n",
       "2017-2018    1593\n",
       "2018-2019    1584\n",
       "2019-2020    1080\n",
       "2021-2022     980\n",
       "2022-2023    1252\n",
       "2023-2024    1336\n",
       "2024-2025     428\n",
       "Name: Name of Player, dtype: int64"
      ]
     },
     "execution_count": 37,
     "metadata": {},
     "output_type": "execute_result"
    }
   ],
   "source": [
    "# Get total number of players in each season who have played at least 5 matches\n",
    "total_players_5 = final_ranking_df[final_ranking_df[\"Games Played\"] >= 5].groupby(\"Season\")[\"Name of Player\"].nunique()\n",
    "total_players_5"
   ]
  },
  {
   "cell_type": "markdown",
   "metadata": {},
   "source": [
    "### Show which divisions players played in over the seasons"
   ]
  },
  {
   "cell_type": "code",
   "execution_count": 38,
   "metadata": {},
   "outputs": [],
   "source": [
    "# Filter big_df to only include players who have played 5+ games\n",
    "final_ranking_df_filtered = final_ranking_df[final_ranking_df[\"Games Played\"] >= 1]"
   ]
  },
  {
   "cell_type": "code",
   "execution_count": 39,
   "metadata": {},
   "outputs": [],
   "source": [
    "# Drop rows where Division is NaN\n",
    "final_ranking_df_filtered = final_ranking_df_filtered.dropna(subset=[\"Division\"]).copy()\n",
    "# Filter out rows where Division contains \"M\" or \"L\"\n",
    "final_ranking_df_filtered = final_ranking_df_filtered[~final_ranking_df_filtered[\"Division\"].str.contains(\"M|L\", na=False)]\n",
    "# Aggregate the data to ensure no duplicate entries\n",
    "final_ranking_df_filtered_unique = final_ranking_df_filtered.groupby([\"Name of Player\", \"Season\"])[\"Division\"].first().reset_index()\n",
    "# Create a new dataframe where the seasons are the columns, the rows are the players, and the values are the division the player was in that season\n",
    "player_divisions = final_ranking_df_filtered_unique.pivot(index=\"Name of Player\", columns=\"Season\", values=\"Division\")"
   ]
  },
  {
   "cell_type": "code",
   "execution_count": 40,
   "metadata": {},
   "outputs": [
    {
     "data": {
      "text/html": [
       "<div>\n",
       "<style scoped>\n",
       "    .dataframe tbody tr th:only-of-type {\n",
       "        vertical-align: middle;\n",
       "    }\n",
       "\n",
       "    .dataframe tbody tr th {\n",
       "        vertical-align: top;\n",
       "    }\n",
       "\n",
       "    .dataframe thead th {\n",
       "        text-align: right;\n",
       "    }\n",
       "</style>\n",
       "<table border=\"1\" class=\"dataframe\">\n",
       "  <thead>\n",
       "    <tr style=\"text-align: right;\">\n",
       "      <th>Season</th>\n",
       "      <th>2016-2017</th>\n",
       "      <th>2017-2018</th>\n",
       "      <th>2018-2019</th>\n",
       "      <th>2019-2020</th>\n",
       "      <th>2021-2022</th>\n",
       "      <th>2022-2023</th>\n",
       "      <th>2023-2024</th>\n",
       "      <th>2024-2025</th>\n",
       "    </tr>\n",
       "    <tr>\n",
       "      <th>Name of Player</th>\n",
       "      <th></th>\n",
       "      <th></th>\n",
       "      <th></th>\n",
       "      <th></th>\n",
       "      <th></th>\n",
       "      <th></th>\n",
       "      <th></th>\n",
       "      <th></th>\n",
       "    </tr>\n",
       "  </thead>\n",
       "  <tbody>\n",
       "    <tr>\n",
       "      <th>* Chak Tony Kin Chung</th>\n",
       "      <td>15</td>\n",
       "      <td>12B</td>\n",
       "      <td>12A</td>\n",
       "      <td>NaN</td>\n",
       "      <td>17A</td>\n",
       "      <td>NaN</td>\n",
       "      <td>NaN</td>\n",
       "      <td>NaN</td>\n",
       "    </tr>\n",
       "    <tr>\n",
       "      <th>* Chan Kwok Wa</th>\n",
       "      <td>NaN</td>\n",
       "      <td>15B</td>\n",
       "      <td>16</td>\n",
       "      <td>15</td>\n",
       "      <td>15A</td>\n",
       "      <td>12A</td>\n",
       "      <td>NaN</td>\n",
       "      <td>NaN</td>\n",
       "    </tr>\n",
       "    <tr>\n",
       "      <th>* Cheung Tony Cheuk Lim</th>\n",
       "      <td>15</td>\n",
       "      <td>12B</td>\n",
       "      <td>12A</td>\n",
       "      <td>NaN</td>\n",
       "      <td>17A</td>\n",
       "      <td>17A</td>\n",
       "      <td>NaN</td>\n",
       "      <td>NaN</td>\n",
       "    </tr>\n",
       "    <tr>\n",
       "      <th>* Ho Kin Fung</th>\n",
       "      <td>NaN</td>\n",
       "      <td>12B</td>\n",
       "      <td>12A</td>\n",
       "      <td>NaN</td>\n",
       "      <td>17A</td>\n",
       "      <td>17A</td>\n",
       "      <td>NaN</td>\n",
       "      <td>NaN</td>\n",
       "    </tr>\n",
       "    <tr>\n",
       "      <th>* Ho Kwan Yin</th>\n",
       "      <td>NaN</td>\n",
       "      <td>NaN</td>\n",
       "      <td>NaN</td>\n",
       "      <td>NaN</td>\n",
       "      <td>NaN</td>\n",
       "      <td>NaN</td>\n",
       "      <td>NaN</td>\n",
       "      <td>4</td>\n",
       "    </tr>\n",
       "    <tr>\n",
       "      <th>...</th>\n",
       "      <td>...</td>\n",
       "      <td>...</td>\n",
       "      <td>...</td>\n",
       "      <td>...</td>\n",
       "      <td>...</td>\n",
       "      <td>...</td>\n",
       "      <td>...</td>\n",
       "      <td>...</td>\n",
       "    </tr>\n",
       "    <tr>\n",
       "      <th>^ West Steven</th>\n",
       "      <td>NaN</td>\n",
       "      <td>NaN</td>\n",
       "      <td>8</td>\n",
       "      <td>8</td>\n",
       "      <td>5</td>\n",
       "      <td>4</td>\n",
       "      <td>2</td>\n",
       "      <td>NaN</td>\n",
       "    </tr>\n",
       "    <tr>\n",
       "      <th>^ Windmill Mark</th>\n",
       "      <td>4</td>\n",
       "      <td>4</td>\n",
       "      <td>5</td>\n",
       "      <td>4</td>\n",
       "      <td>NaN</td>\n",
       "      <td>NaN</td>\n",
       "      <td>NaN</td>\n",
       "      <td>NaN</td>\n",
       "    </tr>\n",
       "    <tr>\n",
       "      <th>^ Yu Vincent Hok Yan</th>\n",
       "      <td>2</td>\n",
       "      <td>2</td>\n",
       "      <td>2</td>\n",
       "      <td>2</td>\n",
       "      <td>2</td>\n",
       "      <td>2</td>\n",
       "      <td>2</td>\n",
       "      <td>NaN</td>\n",
       "    </tr>\n",
       "    <tr>\n",
       "      <th>^ Zhang James</th>\n",
       "      <td>3</td>\n",
       "      <td>4</td>\n",
       "      <td>3</td>\n",
       "      <td>4</td>\n",
       "      <td>3</td>\n",
       "      <td>3</td>\n",
       "      <td>NaN</td>\n",
       "      <td>NaN</td>\n",
       "    </tr>\n",
       "    <tr>\n",
       "      <th>da Silva Juan</th>\n",
       "      <td>NaN</td>\n",
       "      <td>NaN</td>\n",
       "      <td>NaN</td>\n",
       "      <td>11</td>\n",
       "      <td>4</td>\n",
       "      <td>4</td>\n",
       "      <td>5</td>\n",
       "      <td>4</td>\n",
       "    </tr>\n",
       "  </tbody>\n",
       "</table>\n",
       "<p>3565 rows × 8 columns</p>\n",
       "</div>"
      ],
      "text/plain": [
       "Season                  2016-2017 2017-2018 2018-2019 2019-2020 2021-2022  \\\n",
       "Name of Player                                                              \n",
       "* Chak Tony Kin Chung          15       12B       12A       NaN       17A   \n",
       "* Chan Kwok Wa                NaN       15B        16        15       15A   \n",
       "* Cheung Tony Cheuk Lim        15       12B       12A       NaN       17A   \n",
       "* Ho Kin Fung                 NaN       12B       12A       NaN       17A   \n",
       "* Ho Kwan Yin                 NaN       NaN       NaN       NaN       NaN   \n",
       "...                           ...       ...       ...       ...       ...   \n",
       "^ West Steven                 NaN       NaN         8         8         5   \n",
       "^ Windmill Mark                 4         4         5         4       NaN   \n",
       "^ Yu Vincent Hok Yan            2         2         2         2         2   \n",
       "^ Zhang James                   3         4         3         4         3   \n",
       "da Silva Juan                 NaN       NaN       NaN        11         4   \n",
       "\n",
       "Season                  2022-2023 2023-2024 2024-2025  \n",
       "Name of Player                                         \n",
       "* Chak Tony Kin Chung         NaN       NaN       NaN  \n",
       "* Chan Kwok Wa                12A       NaN       NaN  \n",
       "* Cheung Tony Cheuk Lim       17A       NaN       NaN  \n",
       "* Ho Kin Fung                 17A       NaN       NaN  \n",
       "* Ho Kwan Yin                 NaN       NaN         4  \n",
       "...                           ...       ...       ...  \n",
       "^ West Steven                   4         2       NaN  \n",
       "^ Windmill Mark               NaN       NaN       NaN  \n",
       "^ Yu Vincent Hok Yan            2         2       NaN  \n",
       "^ Zhang James                   3       NaN       NaN  \n",
       "da Silva Juan                   4         5         4  \n",
       "\n",
       "[3565 rows x 8 columns]"
      ]
     },
     "execution_count": 40,
     "metadata": {},
     "output_type": "execute_result"
    }
   ],
   "source": [
    "player_divisions"
   ]
  },
  {
   "cell_type": "code",
   "execution_count": 41,
   "metadata": {},
   "outputs": [],
   "source": [
    "# Add a column to player_divisions that contains the number of seasons each player has played in, then sort by that column\n",
    "player_divisions[\"Seasons Played\"] = player_divisions.count(axis=1)\n",
    "player_divisions_sorted = player_divisions.sort_values(by=\"Seasons Played\", ascending=False)"
   ]
  },
  {
   "cell_type": "code",
   "execution_count": 42,
   "metadata": {},
   "outputs": [
    {
     "data": {
      "text/html": [
       "<div>\n",
       "<style scoped>\n",
       "    .dataframe tbody tr th:only-of-type {\n",
       "        vertical-align: middle;\n",
       "    }\n",
       "\n",
       "    .dataframe tbody tr th {\n",
       "        vertical-align: top;\n",
       "    }\n",
       "\n",
       "    .dataframe thead th {\n",
       "        text-align: right;\n",
       "    }\n",
       "</style>\n",
       "<table border=\"1\" class=\"dataframe\">\n",
       "  <thead>\n",
       "    <tr style=\"text-align: right;\">\n",
       "      <th>Season</th>\n",
       "      <th>2016-2017</th>\n",
       "      <th>2017-2018</th>\n",
       "      <th>2018-2019</th>\n",
       "      <th>2019-2020</th>\n",
       "      <th>2021-2022</th>\n",
       "      <th>2022-2023</th>\n",
       "      <th>2023-2024</th>\n",
       "      <th>2024-2025</th>\n",
       "      <th>Seasons Played</th>\n",
       "    </tr>\n",
       "    <tr>\n",
       "      <th>Name of Player</th>\n",
       "      <th></th>\n",
       "      <th></th>\n",
       "      <th></th>\n",
       "      <th></th>\n",
       "      <th></th>\n",
       "      <th></th>\n",
       "      <th></th>\n",
       "      <th></th>\n",
       "      <th></th>\n",
       "    </tr>\n",
       "  </thead>\n",
       "  <tbody>\n",
       "    <tr>\n",
       "      <th>Adams David</th>\n",
       "      <td>10</td>\n",
       "      <td>11</td>\n",
       "      <td>11A</td>\n",
       "      <td>13A</td>\n",
       "      <td>13B</td>\n",
       "      <td>13</td>\n",
       "      <td>11</td>\n",
       "      <td>10</td>\n",
       "      <td>8</td>\n",
       "    </tr>\n",
       "    <tr>\n",
       "      <th>Adjemian Nicolas</th>\n",
       "      <td>13</td>\n",
       "      <td>10</td>\n",
       "      <td>13A</td>\n",
       "      <td>13A</td>\n",
       "      <td>10</td>\n",
       "      <td>10</td>\n",
       "      <td>10</td>\n",
       "      <td>6</td>\n",
       "      <td>8</td>\n",
       "    </tr>\n",
       "    <tr>\n",
       "      <th>Au Alex Ka Man</th>\n",
       "      <td>6</td>\n",
       "      <td>7B</td>\n",
       "      <td>7</td>\n",
       "      <td>9</td>\n",
       "      <td>8</td>\n",
       "      <td>10</td>\n",
       "      <td>10</td>\n",
       "      <td>7A</td>\n",
       "      <td>8</td>\n",
       "    </tr>\n",
       "    <tr>\n",
       "      <th>Au Ling Yu</th>\n",
       "      <td>18B</td>\n",
       "      <td>12A</td>\n",
       "      <td>10</td>\n",
       "      <td>5</td>\n",
       "      <td>4</td>\n",
       "      <td>3</td>\n",
       "      <td>3</td>\n",
       "      <td>3</td>\n",
       "      <td>8</td>\n",
       "    </tr>\n",
       "    <tr>\n",
       "      <th>Au Shuk Ting</th>\n",
       "      <td>17A</td>\n",
       "      <td>14</td>\n",
       "      <td>14</td>\n",
       "      <td>13A</td>\n",
       "      <td>13A</td>\n",
       "      <td>16</td>\n",
       "      <td>14</td>\n",
       "      <td>7B</td>\n",
       "      <td>8</td>\n",
       "    </tr>\n",
       "    <tr>\n",
       "      <th>...</th>\n",
       "      <td>...</td>\n",
       "      <td>...</td>\n",
       "      <td>...</td>\n",
       "      <td>...</td>\n",
       "      <td>...</td>\n",
       "      <td>...</td>\n",
       "      <td>...</td>\n",
       "      <td>...</td>\n",
       "      <td>...</td>\n",
       "    </tr>\n",
       "    <tr>\n",
       "      <th>Yip Tsz Ho</th>\n",
       "      <td>10</td>\n",
       "      <td>4</td>\n",
       "      <td>3</td>\n",
       "      <td>3</td>\n",
       "      <td>6</td>\n",
       "      <td>4</td>\n",
       "      <td>2</td>\n",
       "      <td>3</td>\n",
       "      <td>8</td>\n",
       "    </tr>\n",
       "    <tr>\n",
       "      <th>Yiu Sai Ngoi</th>\n",
       "      <td>9</td>\n",
       "      <td>11</td>\n",
       "      <td>11A</td>\n",
       "      <td>12B</td>\n",
       "      <td>12A</td>\n",
       "      <td>12A</td>\n",
       "      <td>12A</td>\n",
       "      <td>8B</td>\n",
       "      <td>8</td>\n",
       "    </tr>\n",
       "    <tr>\n",
       "      <th>Young Ki Chun</th>\n",
       "      <td>15</td>\n",
       "      <td>14</td>\n",
       "      <td>13B</td>\n",
       "      <td>13A</td>\n",
       "      <td>15A</td>\n",
       "      <td>12A</td>\n",
       "      <td>13</td>\n",
       "      <td>8A</td>\n",
       "      <td>8</td>\n",
       "    </tr>\n",
       "    <tr>\n",
       "      <th>Yuen Amos Wing Keung</th>\n",
       "      <td>15</td>\n",
       "      <td>15B</td>\n",
       "      <td>13A</td>\n",
       "      <td>15</td>\n",
       "      <td>15A</td>\n",
       "      <td>16</td>\n",
       "      <td>16</td>\n",
       "      <td>12</td>\n",
       "      <td>8</td>\n",
       "    </tr>\n",
       "    <tr>\n",
       "      <th>Yung Kai Sing</th>\n",
       "      <td>15</td>\n",
       "      <td>15A</td>\n",
       "      <td>17B</td>\n",
       "      <td>15</td>\n",
       "      <td>15B</td>\n",
       "      <td>15B</td>\n",
       "      <td>15</td>\n",
       "      <td>11</td>\n",
       "      <td>8</td>\n",
       "    </tr>\n",
       "  </tbody>\n",
       "</table>\n",
       "<p>306 rows × 9 columns</p>\n",
       "</div>"
      ],
      "text/plain": [
       "Season               2016-2017 2017-2018 2018-2019 2019-2020 2021-2022  \\\n",
       "Name of Player                                                           \n",
       "Adams David                 10        11       11A       13A       13B   \n",
       "Adjemian Nicolas            13        10       13A       13A        10   \n",
       "Au Alex Ka Man               6        7B         7         9         8   \n",
       "Au Ling Yu                 18B       12A        10         5         4   \n",
       "Au Shuk Ting               17A        14        14       13A       13A   \n",
       "...                        ...       ...       ...       ...       ...   \n",
       "Yip Tsz Ho                  10         4         3         3         6   \n",
       "Yiu Sai Ngoi                 9        11       11A       12B       12A   \n",
       "Young Ki Chun               15        14       13B       13A       15A   \n",
       "Yuen Amos Wing Keung        15       15B       13A        15       15A   \n",
       "Yung Kai Sing               15       15A       17B        15       15B   \n",
       "\n",
       "Season               2022-2023 2023-2024 2024-2025  Seasons Played  \n",
       "Name of Player                                                      \n",
       "Adams David                 13        11        10               8  \n",
       "Adjemian Nicolas            10        10         6               8  \n",
       "Au Alex Ka Man              10        10        7A               8  \n",
       "Au Ling Yu                   3         3         3               8  \n",
       "Au Shuk Ting                16        14        7B               8  \n",
       "...                        ...       ...       ...             ...  \n",
       "Yip Tsz Ho                   4         2         3               8  \n",
       "Yiu Sai Ngoi               12A       12A        8B               8  \n",
       "Young Ki Chun              12A        13        8A               8  \n",
       "Yuen Amos Wing Keung        16        16        12               8  \n",
       "Yung Kai Sing              15B        15        11               8  \n",
       "\n",
       "[306 rows x 9 columns]"
      ]
     },
     "execution_count": 42,
     "metadata": {},
     "output_type": "execute_result"
    }
   ],
   "source": [
    "player_divisions_sorted[player_divisions_sorted[\"Seasons Played\"] == 8].sort_values(by=\"Name of Player\")"
   ]
  },
  {
   "cell_type": "code",
   "execution_count": 43,
   "metadata": {},
   "outputs": [
    {
     "data": {
      "text/html": [
       "<div>\n",
       "<style scoped>\n",
       "    .dataframe tbody tr th:only-of-type {\n",
       "        vertical-align: middle;\n",
       "    }\n",
       "\n",
       "    .dataframe tbody tr th {\n",
       "        vertical-align: top;\n",
       "    }\n",
       "\n",
       "    .dataframe thead th {\n",
       "        text-align: right;\n",
       "    }\n",
       "</style>\n",
       "<table border=\"1\" class=\"dataframe\">\n",
       "  <thead>\n",
       "    <tr style=\"text-align: right;\">\n",
       "      <th>Season</th>\n",
       "      <th>2016-2017</th>\n",
       "      <th>2017-2018</th>\n",
       "      <th>2018-2019</th>\n",
       "      <th>2019-2020</th>\n",
       "      <th>2021-2022</th>\n",
       "      <th>2022-2023</th>\n",
       "      <th>2023-2024</th>\n",
       "      <th>2024-2025</th>\n",
       "      <th>Seasons Played</th>\n",
       "    </tr>\n",
       "    <tr>\n",
       "      <th>Name of Player</th>\n",
       "      <th></th>\n",
       "      <th></th>\n",
       "      <th></th>\n",
       "      <th></th>\n",
       "      <th></th>\n",
       "      <th></th>\n",
       "      <th></th>\n",
       "      <th></th>\n",
       "      <th></th>\n",
       "    </tr>\n",
       "  </thead>\n",
       "  <tbody>\n",
       "    <tr>\n",
       "      <th>Yeung Himmy Cheuk Him</th>\n",
       "      <td>NaN</td>\n",
       "      <td>10</td>\n",
       "      <td>7</td>\n",
       "      <td>7</td>\n",
       "      <td>7</td>\n",
       "      <td>7</td>\n",
       "      <td>7</td>\n",
       "      <td>7B</td>\n",
       "      <td>7</td>\n",
       "    </tr>\n",
       "  </tbody>\n",
       "</table>\n",
       "</div>"
      ],
      "text/plain": [
       "Season                2016-2017 2017-2018 2018-2019 2019-2020 2021-2022  \\\n",
       "Name of Player                                                            \n",
       "Yeung Himmy Cheuk Him       NaN        10         7         7         7   \n",
       "\n",
       "Season                2022-2023 2023-2024 2024-2025  Seasons Played  \n",
       "Name of Player                                                       \n",
       "Yeung Himmy Cheuk Him         7         7        7B               7  "
      ]
     },
     "execution_count": 43,
     "metadata": {},
     "output_type": "execute_result"
    }
   ],
   "source": [
    "player_divisions_sorted[player_divisions_sorted.index.str.contains(\"himmy\", case=False)]"
   ]
  },
  {
   "cell_type": "markdown",
   "metadata": {},
   "source": [
    "#### Percentage of Players who played at least 5 games"
   ]
  },
  {
   "cell_type": "code",
   "execution_count": 44,
   "metadata": {},
   "outputs": [
    {
     "data": {
      "text/plain": [
       "Season\n",
       "2016-2017    84.497354\n",
       "2017-2018    81.860226\n",
       "2018-2019    83.368421\n",
       "2019-2020    56.103896\n",
       "2021-2022    61.557789\n",
       "2022-2023    82.422646\n",
       "2023-2024    80.627640\n",
       "2024-2025    25.250737\n",
       "Name: Name of Player, dtype: float64"
      ]
     },
     "execution_count": 44,
     "metadata": {},
     "output_type": "execute_result"
    }
   ],
   "source": [
    "# Calculate the percentage of players in each season who have played at least 5 matches\n",
    "total_players_5 / total_players * 100"
   ]
  },
  {
   "cell_type": "markdown",
   "metadata": {},
   "source": [
    "#### Percentage of Players who played at least 1 game"
   ]
  },
  {
   "cell_type": "code",
   "execution_count": 45,
   "metadata": {},
   "outputs": [
    {
     "data": {
      "text/plain": [
       "Season\n",
       "2016-2017    96.613757\n",
       "2017-2018    95.477903\n",
       "2018-2019    95.736842\n",
       "2019-2020    92.467532\n",
       "2021-2022    91.331658\n",
       "2022-2023    96.247531\n",
       "2023-2024    95.473748\n",
       "2024-2025    89.262537\n",
       "Name: Name of Player, dtype: float64"
      ]
     },
     "execution_count": 45,
     "metadata": {},
     "output_type": "execute_result"
    }
   ],
   "source": [
    "# Calculate the percentage of players in each season who have played at least 1 match\n",
    "total_players_1 = final_ranking_df[final_ranking_df[\"Games Played\"] >= 1].groupby(\"Season\")[\"Name of Player\"].nunique()\n",
    "total_players_1 / total_players * 100"
   ]
  },
  {
   "cell_type": "markdown",
   "metadata": {},
   "source": [
    "### HKCC Summary Analysis"
   ]
  },
  {
   "cell_type": "code",
   "execution_count": 46,
   "metadata": {},
   "outputs": [
    {
     "data": {
      "text/html": [
       "<div>\n",
       "<style scoped>\n",
       "    .dataframe tbody tr th:only-of-type {\n",
       "        vertical-align: middle;\n",
       "    }\n",
       "\n",
       "    .dataframe tbody tr th {\n",
       "        vertical-align: top;\n",
       "    }\n",
       "\n",
       "    .dataframe thead th {\n",
       "        text-align: right;\n",
       "    }\n",
       "</style>\n",
       "<table border=\"1\" class=\"dataframe\">\n",
       "  <thead>\n",
       "    <tr style=\"text-align: right;\">\n",
       "      <th></th>\n",
       "      <th>Team</th>\n",
       "      <th>Played</th>\n",
       "      <th>Won</th>\n",
       "      <th>Lost</th>\n",
       "      <th>Points</th>\n",
       "      <th>Division</th>\n",
       "      <th>Season</th>\n",
       "      <th>Rank</th>\n",
       "      <th>Rubbers For</th>\n",
       "      <th>Rubbers Against</th>\n",
       "    </tr>\n",
       "  </thead>\n",
       "  <tbody>\n",
       "  </tbody>\n",
       "</table>\n",
       "</div>"
      ],
      "text/plain": [
       "Empty DataFrame\n",
       "Columns: [Team, Played, Won, Lost, Points, Division, Season, Rank, Rubbers For, Rubbers Against]\n",
       "Index: []"
      ]
     },
     "execution_count": 46,
     "metadata": {},
     "output_type": "execute_result"
    }
   ],
   "source": [
    "big_summary_df[big_summary_df['Played'] == 0]"
   ]
  },
  {
   "cell_type": "code",
   "execution_count": 47,
   "metadata": {},
   "outputs": [],
   "source": [
    "# Filter big_summary_df for Team column that contains \"HKCC\" or \"Hong Kong Cricket Club\"\n",
    "hkcc_summary = big_summary_df[big_summary_df[\"Team\"].str.contains(\"HKCC\", case=False) |\n",
    "                              big_summary_df[\"Team\"].str.contains(\"Hong Kong Cricket Club\", case=False)]"
   ]
  },
  {
   "cell_type": "markdown",
   "metadata": {},
   "source": [
    "#### League Winners"
   ]
  },
  {
   "cell_type": "code",
   "execution_count": 48,
   "metadata": {},
   "outputs": [
    {
     "data": {
      "text/html": [
       "<div>\n",
       "<style scoped>\n",
       "    .dataframe tbody tr th:only-of-type {\n",
       "        vertical-align: middle;\n",
       "    }\n",
       "\n",
       "    .dataframe tbody tr th {\n",
       "        vertical-align: top;\n",
       "    }\n",
       "\n",
       "    .dataframe thead th {\n",
       "        text-align: right;\n",
       "    }\n",
       "</style>\n",
       "<table border=\"1\" class=\"dataframe\">\n",
       "  <thead>\n",
       "    <tr style=\"text-align: right;\">\n",
       "      <th></th>\n",
       "      <th>Team</th>\n",
       "      <th>Played</th>\n",
       "      <th>Won</th>\n",
       "      <th>Lost</th>\n",
       "      <th>Points</th>\n",
       "      <th>Division</th>\n",
       "      <th>Season</th>\n",
       "      <th>Rank</th>\n",
       "      <th>Rubbers For</th>\n",
       "      <th>Rubbers Against</th>\n",
       "    </tr>\n",
       "  </thead>\n",
       "  <tbody>\n",
       "    <tr>\n",
       "      <th>73</th>\n",
       "      <td>HKCC Wednesday Night Rockers</td>\n",
       "      <td>20</td>\n",
       "      <td>18</td>\n",
       "      <td>2</td>\n",
       "      <td>98</td>\n",
       "      <td>16B</td>\n",
       "      <td>2016-2017</td>\n",
       "      <td>1</td>\n",
       "      <td>NaN</td>\n",
       "      <td>NaN</td>\n",
       "    </tr>\n",
       "    <tr>\n",
       "      <th>207</th>\n",
       "      <td>Hong Kong Cricket Club L2B</td>\n",
       "      <td>18</td>\n",
       "      <td>15</td>\n",
       "      <td>3</td>\n",
       "      <td>72</td>\n",
       "      <td>L2</td>\n",
       "      <td>2016-2017</td>\n",
       "      <td>1</td>\n",
       "      <td>NaN</td>\n",
       "      <td>NaN</td>\n",
       "    </tr>\n",
       "    <tr>\n",
       "      <th>214</th>\n",
       "      <td>Hong Kong Cricket Club L3</td>\n",
       "      <td>12</td>\n",
       "      <td>9</td>\n",
       "      <td>3</td>\n",
       "      <td>46</td>\n",
       "      <td>L3</td>\n",
       "      <td>2016-2017</td>\n",
       "      <td>1</td>\n",
       "      <td>NaN</td>\n",
       "      <td>NaN</td>\n",
       "    </tr>\n",
       "    <tr>\n",
       "      <th>387</th>\n",
       "      <td>Hong Kong Cricket Club 1</td>\n",
       "      <td>18</td>\n",
       "      <td>13</td>\n",
       "      <td>5</td>\n",
       "      <td>68</td>\n",
       "      <td>3</td>\n",
       "      <td>2017-2018</td>\n",
       "      <td>1</td>\n",
       "      <td>NaN</td>\n",
       "      <td>NaN</td>\n",
       "    </tr>\n",
       "    <tr>\n",
       "      <th>461</th>\n",
       "      <td>Hong Kong Cricket Club L2</td>\n",
       "      <td>15</td>\n",
       "      <td>13</td>\n",
       "      <td>2</td>\n",
       "      <td>59</td>\n",
       "      <td>L2</td>\n",
       "      <td>2017-2018</td>\n",
       "      <td>1</td>\n",
       "      <td>NaN</td>\n",
       "      <td>NaN</td>\n",
       "    </tr>\n",
       "    <tr>\n",
       "      <th>475</th>\n",
       "      <td>Hong Kong Cricket Club M1</td>\n",
       "      <td>16</td>\n",
       "      <td>13</td>\n",
       "      <td>3</td>\n",
       "      <td>65</td>\n",
       "      <td>M1</td>\n",
       "      <td>2017-2018</td>\n",
       "      <td>1</td>\n",
       "      <td>NaN</td>\n",
       "      <td>NaN</td>\n",
       "    </tr>\n",
       "    <tr>\n",
       "      <th>523</th>\n",
       "      <td>Hong Kong Cricket Club 6</td>\n",
       "      <td>21</td>\n",
       "      <td>20</td>\n",
       "      <td>1</td>\n",
       "      <td>102</td>\n",
       "      <td>11B</td>\n",
       "      <td>2018-2019</td>\n",
       "      <td>1</td>\n",
       "      <td>NaN</td>\n",
       "      <td>NaN</td>\n",
       "    </tr>\n",
       "    <tr>\n",
       "      <th>610</th>\n",
       "      <td>Hong Kong Cricket Club 8</td>\n",
       "      <td>22</td>\n",
       "      <td>19</td>\n",
       "      <td>3</td>\n",
       "      <td>103</td>\n",
       "      <td>18</td>\n",
       "      <td>2018-2019</td>\n",
       "      <td>1</td>\n",
       "      <td>NaN</td>\n",
       "      <td>NaN</td>\n",
       "    </tr>\n",
       "    <tr>\n",
       "      <th>719</th>\n",
       "      <td>Hong Kong Cricket Club M1A</td>\n",
       "      <td>20</td>\n",
       "      <td>14</td>\n",
       "      <td>6</td>\n",
       "      <td>65</td>\n",
       "      <td>M1</td>\n",
       "      <td>2018-2019</td>\n",
       "      <td>1</td>\n",
       "      <td>NaN</td>\n",
       "      <td>NaN</td>\n",
       "    </tr>\n",
       "    <tr>\n",
       "      <th>748</th>\n",
       "      <td>Hong Kong Cricket Club 10</td>\n",
       "      <td>9</td>\n",
       "      <td>9</td>\n",
       "      <td>0</td>\n",
       "      <td>40</td>\n",
       "      <td>10</td>\n",
       "      <td>2019-2020</td>\n",
       "      <td>1</td>\n",
       "      <td>NaN</td>\n",
       "      <td>NaN</td>\n",
       "    </tr>\n",
       "    <tr>\n",
       "      <th>811</th>\n",
       "      <td>HKCC TUESDAY NIGHT ROCKERS</td>\n",
       "      <td>10</td>\n",
       "      <td>9</td>\n",
       "      <td>1</td>\n",
       "      <td>45</td>\n",
       "      <td>15</td>\n",
       "      <td>2019-2020</td>\n",
       "      <td>1</td>\n",
       "      <td>NaN</td>\n",
       "      <td>NaN</td>\n",
       "    </tr>\n",
       "    <tr>\n",
       "      <th>948</th>\n",
       "      <td>Hong Kong Cricket Club L2A</td>\n",
       "      <td>9</td>\n",
       "      <td>9</td>\n",
       "      <td>0</td>\n",
       "      <td>35</td>\n",
       "      <td>L2</td>\n",
       "      <td>2019-2020</td>\n",
       "      <td>1</td>\n",
       "      <td>NaN</td>\n",
       "      <td>NaN</td>\n",
       "    </tr>\n",
       "    <tr>\n",
       "      <th>955</th>\n",
       "      <td>Hong Kong Cricket Club Rockettes</td>\n",
       "      <td>11</td>\n",
       "      <td>10</td>\n",
       "      <td>1</td>\n",
       "      <td>39</td>\n",
       "      <td>L3</td>\n",
       "      <td>2019-2020</td>\n",
       "      <td>1</td>\n",
       "      <td>NaN</td>\n",
       "      <td>NaN</td>\n",
       "    </tr>\n",
       "    <tr>\n",
       "      <th>1159</th>\n",
       "      <td>Hong Kong Cricket Club Rockettes</td>\n",
       "      <td>11</td>\n",
       "      <td>10</td>\n",
       "      <td>1</td>\n",
       "      <td>48</td>\n",
       "      <td>L3</td>\n",
       "      <td>2021-2022</td>\n",
       "      <td>1</td>\n",
       "      <td>NaN</td>\n",
       "      <td>NaN</td>\n",
       "    </tr>\n",
       "    <tr>\n",
       "      <th>1356</th>\n",
       "      <td>Hong Kong Cricket Club Rockettes</td>\n",
       "      <td>20</td>\n",
       "      <td>17</td>\n",
       "      <td>3</td>\n",
       "      <td>79</td>\n",
       "      <td>L3</td>\n",
       "      <td>2022-2023</td>\n",
       "      <td>1</td>\n",
       "      <td>NaN</td>\n",
       "      <td>NaN</td>\n",
       "    </tr>\n",
       "    <tr>\n",
       "      <th>1398</th>\n",
       "      <td>Hong Kong Cricket Club 6</td>\n",
       "      <td>21</td>\n",
       "      <td>19</td>\n",
       "      <td>2</td>\n",
       "      <td>98</td>\n",
       "      <td>12A</td>\n",
       "      <td>2023-2024</td>\n",
       "      <td>1</td>\n",
       "      <td>NaN</td>\n",
       "      <td>NaN</td>\n",
       "    </tr>\n",
       "  </tbody>\n",
       "</table>\n",
       "</div>"
      ],
      "text/plain": [
       "                                  Team  Played  Won  Lost  Points Division  \\\n",
       "73        HKCC Wednesday Night Rockers      20   18     2      98      16B   \n",
       "207         Hong Kong Cricket Club L2B      18   15     3      72       L2   \n",
       "214          Hong Kong Cricket Club L3      12    9     3      46       L3   \n",
       "387           Hong Kong Cricket Club 1      18   13     5      68        3   \n",
       "461          Hong Kong Cricket Club L2      15   13     2      59       L2   \n",
       "475          Hong Kong Cricket Club M1      16   13     3      65       M1   \n",
       "523           Hong Kong Cricket Club 6      21   20     1     102      11B   \n",
       "610           Hong Kong Cricket Club 8      22   19     3     103       18   \n",
       "719         Hong Kong Cricket Club M1A      20   14     6      65       M1   \n",
       "748          Hong Kong Cricket Club 10       9    9     0      40       10   \n",
       "811         HKCC TUESDAY NIGHT ROCKERS      10    9     1      45       15   \n",
       "948         Hong Kong Cricket Club L2A       9    9     0      35       L2   \n",
       "955   Hong Kong Cricket Club Rockettes      11   10     1      39       L3   \n",
       "1159  Hong Kong Cricket Club Rockettes      11   10     1      48       L3   \n",
       "1356  Hong Kong Cricket Club Rockettes      20   17     3      79       L3   \n",
       "1398          Hong Kong Cricket Club 6      21   19     2      98      12A   \n",
       "\n",
       "         Season  Rank  Rubbers For  Rubbers Against  \n",
       "73    2016-2017     1          NaN              NaN  \n",
       "207   2016-2017     1          NaN              NaN  \n",
       "214   2016-2017     1          NaN              NaN  \n",
       "387   2017-2018     1          NaN              NaN  \n",
       "461   2017-2018     1          NaN              NaN  \n",
       "475   2017-2018     1          NaN              NaN  \n",
       "523   2018-2019     1          NaN              NaN  \n",
       "610   2018-2019     1          NaN              NaN  \n",
       "719   2018-2019     1          NaN              NaN  \n",
       "748   2019-2020     1          NaN              NaN  \n",
       "811   2019-2020     1          NaN              NaN  \n",
       "948   2019-2020     1          NaN              NaN  \n",
       "955   2019-2020     1          NaN              NaN  \n",
       "1159  2021-2022     1          NaN              NaN  \n",
       "1356  2022-2023     1          NaN              NaN  \n",
       "1398  2023-2024     1          NaN              NaN  "
      ]
     },
     "execution_count": 48,
     "metadata": {},
     "output_type": "execute_result"
    }
   ],
   "source": [
    "hkcc_summary[hkcc_summary[\"Rank\"] == 1]"
   ]
  },
  {
   "cell_type": "code",
   "execution_count": 49,
   "metadata": {},
   "outputs": [
    {
     "data": {
      "text/plain": [
       "Season\n",
       "2016-2017    3\n",
       "2017-2018    3\n",
       "2018-2019    3\n",
       "2019-2020    4\n",
       "2021-2022    1\n",
       "2022-2023    1\n",
       "2023-2024    1\n",
       "Name: Rank, dtype: int64"
      ]
     },
     "execution_count": 49,
     "metadata": {},
     "output_type": "execute_result"
    }
   ],
   "source": [
    "# Show count of Rank equals 1 by Season\n",
    "hkcc_summary[hkcc_summary[\"Rank\"] == 1].groupby(\"Season\")[\"Rank\"].count()"
   ]
  },
  {
   "cell_type": "code",
   "execution_count": 50,
   "metadata": {},
   "outputs": [
    {
     "data": {
      "text/plain": [
       "0.5330862890418211"
      ]
     },
     "execution_count": 50,
     "metadata": {},
     "output_type": "execute_result"
    }
   ],
   "source": [
    "# Get overall win percentage record for hkcc_summary, summing all rows in Won column and dividing by sum of all rows in Played column\n",
    "win_percentage = hkcc_summary[\"Won\"].sum() / hkcc_summary[\"Played\"].sum()\n",
    "win_percentage\n"
   ]
  },
  {
   "cell_type": "code",
   "execution_count": 51,
   "metadata": {},
   "outputs": [
    {
     "data": {
      "text/plain": [
       "Season\n",
       "2016-2017    0.517713\n",
       "2017-2018    0.578402\n",
       "2018-2019    0.605505\n",
       "2019-2020    0.592215\n",
       "2021-2022    0.483460\n",
       "2022-2023    0.504749\n",
       "2023-2024    0.427531\n",
       "2024-2025    0.445518\n",
       "Name: Win Percentage, dtype: float64"
      ]
     },
     "execution_count": 51,
     "metadata": {},
     "output_type": "execute_result"
    }
   ],
   "source": [
    "# Show Win Percentage by Season buy avoid SettingWithCopyWarning\n",
    "hkcc_summary = hkcc_summary.copy()\n",
    "hkcc_summary[\"Win Percentage\"] = hkcc_summary[\"Won\"] / hkcc_summary[\"Played\"]\n",
    "hkcc_summary.groupby(\"Season\")[\"Win Percentage\"].mean()"
   ]
  },
  {
   "cell_type": "code",
   "execution_count": 52,
   "metadata": {},
   "outputs": [
    {
     "data": {
      "image/png": "[encoded data removed]",
      "text/plain": [
       "<Figure size 1000x600 with 1 Axes>"
      ]
     },
     "metadata": {},
     "output_type": "display_data"
    }
   ],
   "source": [
    "# Draw a line plot of the Win Percentage by Season\n",
    "plt.figure(figsize=(10, 6))\n",
    "# Draw a line plot of the Win Percentage by Season without confidence interval\n",
    "sns.lineplot(data=hkcc_summary, x=\"Season\", y=\"Win Percentage\", errorbar=None)\n",
    "# Set the title of the plot\n",
    "plt.title(\"HKCC Match Win Percentage by Season\", y=1.03)\n",
    "# Remove gridlines\n",
    "plt.grid(False)"
   ]
  },
  {
   "cell_type": "markdown",
   "metadata": {},
   "source": [
    "### KCC Win Percentage by Season"
   ]
  },
  {
   "cell_type": "code",
   "execution_count": 53,
   "metadata": {},
   "outputs": [],
   "source": [
    "# Filter big_summary_df for Team column that contains \"KCC\" or \"Kowloon Cricket Club\", but not \"HKCC\"\n",
    "kcc_summary = big_summary_df[big_summary_df[\"Team\"].str.contains(r\"\\b(?:Kowloon Cricket Club|KCC)\\b\", flags=re.IGNORECASE)]"
   ]
  },
  {
   "cell_type": "code",
   "execution_count": 54,
   "metadata": {},
   "outputs": [
    {
     "data": {
      "text/plain": [
       "0.673869007427414"
      ]
     },
     "execution_count": 54,
     "metadata": {},
     "output_type": "execute_result"
    }
   ],
   "source": [
    "# Get overall win percentage record for hkcc_summary, summing all rows in Won column and dividing by sum of all rows in Played column\n",
    "win_percentage = kcc_summary[\"Won\"].sum() / kcc_summary[\"Played\"].sum()\n",
    "win_percentage"
   ]
  },
  {
   "cell_type": "code",
   "execution_count": 55,
   "metadata": {},
   "outputs": [
    {
     "data": {
      "text/plain": [
       "Season\n",
       "2016-2017    0.625702\n",
       "2017-2018    0.641083\n",
       "2018-2019    0.704762\n",
       "2019-2020    0.681812\n",
       "2021-2022    0.709041\n",
       "2022-2023    0.624034\n",
       "2023-2024    0.683452\n",
       "2024-2025    0.640079\n",
       "Name: Win Percentage, dtype: float64"
      ]
     },
     "execution_count": 55,
     "metadata": {},
     "output_type": "execute_result"
    }
   ],
   "source": [
    "# Show Win Percentage by Season buy avoid SettingWithCopyWarning\n",
    "kcc_summary = kcc_summary.copy()\n",
    "kcc_summary[\"Win Percentage\"] = kcc_summary[\"Won\"] / kcc_summary[\"Played\"]\n",
    "kcc_summary.groupby(\"Season\")[\"Win Percentage\"].mean()"
   ]
  },
  {
   "cell_type": "markdown",
   "metadata": {},
   "source": [
    "### HKFC Win Percentage by Season"
   ]
  },
  {
   "cell_type": "code",
   "execution_count": 56,
   "metadata": {},
   "outputs": [],
   "source": [
    "# Filter big_summary_df for Team column that contains \"HKFC\" or \"Hong Kong Football Club\"\n",
    "hkfc_summary = big_summary_df[big_summary_df[\"Team\"].str.contains(\"HKFC\", case=False) |\n",
    "                              big_summary_df[\"Team\"].str.contains(\"Hong Kong Football Club\", case=False)]"
   ]
  },
  {
   "cell_type": "code",
   "execution_count": 57,
   "metadata": {},
   "outputs": [
    {
     "data": {
      "text/plain": [
       "0.554316069057105"
      ]
     },
     "execution_count": 57,
     "metadata": {},
     "output_type": "execute_result"
    }
   ],
   "source": [
    "# Get overall win percentage record for hkcc_summary, summing all rows in Won column and dividing by sum of all rows in Played column\n",
    "hkfc_win_percentage = hkfc_summary[\"Won\"].sum() / hkfc_summary[\"Played\"].sum()\n",
    "hkfc_win_percentage"
   ]
  },
  {
   "cell_type": "code",
   "execution_count": 58,
   "metadata": {},
   "outputs": [
    {
     "data": {
      "text/plain": [
       "Season\n",
       "2016-2017    0.554078\n",
       "2017-2018    0.540525\n",
       "2018-2019    0.548704\n",
       "2019-2020    0.584957\n",
       "2021-2022    0.509099\n",
       "2022-2023    0.530581\n",
       "2023-2024    0.589479\n",
       "2024-2025    0.539129\n",
       "Name: Win Percentage, dtype: float64"
      ]
     },
     "execution_count": 58,
     "metadata": {},
     "output_type": "execute_result"
    }
   ],
   "source": [
    "# Show Win Percentage by Season buy avoid SettingWithCopyWarning\n",
    "hkfc_summary = hkfc_summary.copy()\n",
    "hkfc_summary[\"Win Percentage\"] = hkfc_summary[\"Won\"] / hkfc_summary[\"Played\"]\n",
    "hkfc_summary.groupby(\"Season\")[\"Win Percentage\"].mean()"
   ]
  },
  {
   "cell_type": "code",
   "execution_count": 59,
   "metadata": {},
   "outputs": [],
   "source": [
    "usrc_summary = big_summary_df[big_summary_df[\"Team\"].str.contains(\"united services\", case=False) |\n",
    "               big_summary_df[\"Team\"].str.contains(\"usrc\", case=False)]"
   ]
  },
  {
   "cell_type": "code",
   "execution_count": 60,
   "metadata": {},
   "outputs": [
    {
     "data": {
      "text/plain": [
       "0.5685997171145686"
      ]
     },
     "execution_count": 60,
     "metadata": {},
     "output_type": "execute_result"
    }
   ],
   "source": [
    "# Get overall win percentage record for usrc_summary, summing all rows in Won column and dividing by sum of all rows in Played column\n",
    "usrc_win_percentage = usrc_summary[\"Won\"].sum() / usrc_summary[\"Played\"].sum()\n",
    "usrc_win_percentage"
   ]
  },
  {
   "cell_type": "code",
   "execution_count": 61,
   "metadata": {},
   "outputs": [
    {
     "data": {
      "text/plain": [
       "Season\n",
       "2016-2017    0.474890\n",
       "2017-2018    0.636508\n",
       "2018-2019    0.649747\n",
       "2019-2020    0.714646\n",
       "2021-2022    0.355219\n",
       "2022-2023    0.518519\n",
       "2023-2024    0.541667\n",
       "2024-2025    0.648810\n",
       "Name: Win Percentage, dtype: float64"
      ]
     },
     "execution_count": 61,
     "metadata": {},
     "output_type": "execute_result"
    }
   ],
   "source": [
    "# Show Win Percentage by Season but avoid SettingWithCopyWarning\n",
    "usrc_summary = usrc_summary.copy()\n",
    "usrc_summary[\"Win Percentage\"] = usrc_summary[\"Won\"] / usrc_summary[\"Played\"]\n",
    "usrc_summary.groupby(\"Season\")[\"Win Percentage\"].mean()"
   ]
  },
  {
   "cell_type": "code",
   "execution_count": 62,
   "metadata": {},
   "outputs": [
    {
     "data": {
      "image/png": "[encoded data removed]",
      "text/plain": [
       "<Figure size 1000x600 with 2 Axes>"
      ]
     },
     "metadata": {},
     "output_type": "display_data"
    }
   ],
   "source": [
    "# Add another axis to show total number of matches played in each season\n",
    "fig, ax = plt.subplots(figsize=(10, 6))\n",
    "# Draw a line plot of the Win Percentage by Season for HKCC with dotted line\n",
    "sns.lineplot(data=hkcc_summary, x=\"Season\", y=\"Win Percentage\", label=\"HKCC\", errorbar=None, linestyle=\"--\", alpha=0.85)\n",
    "# Draw a line plot of the Win Percentage by Season for KCC\n",
    "sns.lineplot(data=kcc_summary, x=\"Season\", y=\"Win Percentage\", label=\"KCC\", errorbar=None, linestyle=\"--\", alpha=0.85)\n",
    "# Draw a line plot of the Win Percentage by Season for HKFC\n",
    "sns.lineplot(data=hkfc_summary, x=\"Season\", y=\"Win Percentage\", label=\"HKFC\", errorbar=None, linestyle=\"--\", alpha=0.85)\n",
    "# Set the title of the plot\n",
    "plt.title(\"Hong Kong Squash League: Match Win Percentage by Season for Selected Clubs\", y=1.04, size=15)\n",
    "# Remove gridlines\n",
    "plt.grid(False)\n",
    "# Add a legend to the plot\n",
    "plt.legend()\n",
    "# Create another y-axis on the right side of the plot\n",
    "ax2 = ax.twinx()\n",
    "# Draw a bar plot of the total number of matches played in each season\n",
    "sns.barplot(data=big_summary_df, x=\"Season\", y=\"Played\", ax=ax2, color=\"lightgray\", alpha=0.25, errorbar=None, estimator=sum)\n",
    "# Set the title of the right y-axis\n",
    "ax2.set_ylabel(\"Total Matches Played\", rotation=-90, labelpad=15)\n",
    "# Remove gridlines from the right y-axis\n",
    "ax2.grid(False)\n",
    "# remove top spine only\n",
    "sns.despine(top=True, right=False)\n"
   ]
  },
  {
   "cell_type": "code",
   "execution_count": 63,
   "metadata": {},
   "outputs": [
    {
     "data": {
      "text/plain": [
       "Season\n",
       "2016-2017    4668\n",
       "2017-2018    4644\n",
       "2018-2019    4826\n",
       "2019-2020    2236\n",
       "2021-2022    2058\n",
       "2022-2023    3538\n",
       "2023-2024    3772\n",
       "2024-2025    1314\n",
       "Name: Played, dtype: int64"
      ]
     },
     "execution_count": 63,
     "metadata": {},
     "output_type": "execute_result"
    }
   ],
   "source": [
    "# Count the total number of matches in Played column by Season in big_summary_df\n",
    "big_summary_df.groupby(\"Season\")[\"Played\"].sum()"
   ]
  },
  {
   "cell_type": "code",
   "execution_count": 64,
   "metadata": {},
   "outputs": [
    {
     "data": {
      "text/plain": [
       "Hong Kong Football Club    261\n",
       "Hong Kong Cricket Club     127\n",
       "KCC                         81\n",
       "Name: count, dtype: int64"
      ]
     },
     "execution_count": 64,
     "metadata": {},
     "output_type": "execute_result"
    }
   ],
   "source": [
    "# Find count of Teams in big_summary_df by Clubs\n",
    "big_summary_df[\"Team\"].str.extract(r\"(Hong Kong Cricket Club|KCC|Hong Kong Football Club)\").value_counts()"
   ]
  },
  {
   "cell_type": "code",
   "execution_count": 65,
   "metadata": {},
   "outputs": [],
   "source": [
    "lrc_summary = big_summary_df[big_summary_df[\"Team\"].str.contains(\"LRC\", case=False) |\n",
    "               big_summary_df[\"Team\"].str.contains(\"Ladies Recreation Club\", case=False)]"
   ]
  },
  {
   "cell_type": "code",
   "execution_count": 66,
   "metadata": {},
   "outputs": [
    {
     "name": "stdout",
     "output_type": "stream",
     "text": [
      "261 107 132 25\n"
     ]
    }
   ],
   "source": [
    "print(len(hkfc_summary), len(kcc_summary), len(hkcc_summary), len(lrc_summary))"
   ]
  },
  {
   "cell_type": "code",
   "execution_count": 67,
   "metadata": {},
   "outputs": [],
   "source": [
    "big_summary_df.sort_values(by=\"Team\").to_csv(\"big_summary_df.csv\", index=False)"
   ]
  },
  {
   "cell_type": "code",
   "execution_count": 68,
   "metadata": {},
   "outputs": [
    {
     "data": {
      "text/plain": [
       "93"
      ]
     },
     "execution_count": 68,
     "metadata": {},
     "output_type": "execute_result"
    }
   ],
   "source": [
    "len(big_summary_df[big_summary_df[\"Team\"].str.contains(\"Advance\", case=False)])"
   ]
  },
  {
   "cell_type": "code",
   "execution_count": 69,
   "metadata": {},
   "outputs": [
    {
     "data": {
      "text/plain": [
       "61"
      ]
     },
     "execution_count": 69,
     "metadata": {},
     "output_type": "execute_result"
    }
   ],
   "source": [
    "len(big_summary_df[big_summary_df[\"Team\"].str.contains(\"friend\", case=False)])"
   ]
  },
  {
   "cell_type": "code",
   "execution_count": 70,
   "metadata": {},
   "outputs": [
    {
     "name": "stdout",
     "output_type": "stream",
     "text": [
      "0.5636114911080712\n",
      "Season\n",
      "2016-2017    0.634783\n",
      "2017-2018    0.628957\n",
      "2018-2019    0.571479\n",
      "2019-2020    0.405789\n",
      "2021-2022    0.673377\n",
      "2022-2023    0.594004\n",
      "2023-2024    0.369848\n",
      "2024-2025    0.293155\n",
      "Name: Win Percentage, dtype: float64\n"
     ]
    }
   ],
   "source": [
    "advance_summary = big_summary_df[big_summary_df[\"Team\"].str.contains(\"Advance\", case=False)]\n",
    "\n",
    "# Get overall win percentage record for advance_summary, summing all rows in Won column and dividing by sum of all rows in Played column\n",
    "advance_win_percentage = advance_summary[\"Won\"].sum() / advance_summary[\"Played\"].sum()\n",
    "print(advance_win_percentage)\n",
    "\n",
    "# Show Win Percentage by Season but avoid SettingWithCopyWarning\n",
    "advance_summary = advance_summary.copy()\n",
    "advance_summary[\"Win Percentage\"] = advance_summary[\"Won\"] / advance_summary[\"Played\"]\n",
    "print(advance_summary.groupby(\"Season\")[\"Win Percentage\"].mean())"
   ]
  },
  {
   "cell_type": "code",
   "execution_count": 71,
   "metadata": {},
   "outputs": [],
   "source": [
    "sha_tin_summary = big_summary_df[big_summary_df[\"Team\"].str.contains(\"sha tin\", case=False) |\n",
    "                big_summary_df[\"Team\"].str.contains(\"shatin\", case=False)]"
   ]
  },
  {
   "cell_type": "code",
   "execution_count": 72,
   "metadata": {},
   "outputs": [],
   "source": [
    "### Calculate Competitiveness of Divisions"
   ]
  },
  {
   "cell_type": "code",
   "execution_count": 73,
   "metadata": {},
   "outputs": [],
   "source": [
    "def gini_coefficient(x):\n",
    "    \"\"\"\n",
    "    Calculate the Gini coefficient of a numpy array.\n",
    "    \"\"\"\n",
    "    # Ensure the array is 1D and sorted\n",
    "    x = np.sort(np.array(x, dtype=np.float64).flatten())\n",
    "    \n",
    "    # Handle negative values and zeros\n",
    "    if np.amin(x) < 0:\n",
    "        x -= np.amin(x)\n",
    "    x += 1e-9  # Prevent division by zero\n",
    "    \n",
    "    n = x.size\n",
    "    index = np.arange(1, n + 1)\n",
    "    gini = (2 * np.sum(index * x) - (n + 1) * np.sum(x)) / (n * np.sum(x))\n",
    "    \n",
    "    return gini"
   ]
  },
  {
   "cell_type": "code",
   "execution_count": 74,
   "metadata": {},
   "outputs": [],
   "source": [
    "gini_results = []\n",
    "\n",
    "for df in summary_df_list:\n",
    "    # Extract division and season information\n",
    "    division = df['Division'].iloc[0]\n",
    "    season = df['Season'].iloc[0]\n",
    "    \n",
    "    # Extract points and handle missing or non-numeric values\n",
    "    points = df['Points'].replace([np.inf, -np.inf], np.nan).dropna().astype(float).values\n",
    "    \n",
    "    # Skip if points array is empty\n",
    "    if points.size == 0:\n",
    "        continue\n",
    "    \n",
    "    # Calculate the Gini coefficient\n",
    "    gini = gini_coefficient(points)\n",
    "    \n",
    "    # Store the results\n",
    "    gini_results.append({'Division': division, 'Season': season, 'Gini_Coefficient': gini})\n"
   ]
  },
  {
   "cell_type": "code",
   "execution_count": 75,
   "metadata": {},
   "outputs": [],
   "source": [
    "gini_df = pd.DataFrame(gini_results)"
   ]
  },
  {
   "cell_type": "code",
   "execution_count": null,
   "metadata": {},
   "outputs": [
    {
     "data": {
      "text/html": [
       "<div>\n",
       "<style scoped>\n",
       "    .dataframe tbody tr th:only-of-type {\n",
       "        vertical-align: middle;\n",
       "    }\n",
       "\n",
       "    .dataframe tbody tr th {\n",
       "        vertical-align: top;\n",
       "    }\n",
       "\n",
       "    .dataframe thead th {\n",
       "        text-align: right;\n",
       "    }\n",
       "</style>\n",
       "<table border=\"1\" class=\"dataframe\">\n",
       "  <thead>\n",
       "    <tr style=\"text-align: right;\">\n",
       "      <th></th>\n",
       "      <th>Division</th>\n",
       "      <th>Season</th>\n",
       "      <th>Gini_Coefficient</th>\n",
       "    </tr>\n",
       "  </thead>\n",
       "  <tbody>\n",
       "    <tr>\n",
       "      <th>14</th>\n",
       "      <td>1</td>\n",
       "      <td>2016-2017</td>\n",
       "      <td>0.055652</td>\n",
       "    </tr>\n",
       "    <tr>\n",
       "      <th>161</th>\n",
       "      <td>1</td>\n",
       "      <td>2022-2023</td>\n",
       "      <td>0.075472</td>\n",
       "    </tr>\n",
       "    <tr>\n",
       "      <th>188</th>\n",
       "      <td>3</td>\n",
       "      <td>2023-2024</td>\n",
       "      <td>0.097890</td>\n",
       "    </tr>\n",
       "    <tr>\n",
       "      <th>90</th>\n",
       "      <td>M3</td>\n",
       "      <td>2018-2019</td>\n",
       "      <td>0.108663</td>\n",
       "    </tr>\n",
       "    <tr>\n",
       "      <th>162</th>\n",
       "      <td>2</td>\n",
       "      <td>2022-2023</td>\n",
       "      <td>0.118333</td>\n",
       "    </tr>\n",
       "    <tr>\n",
       "      <th>88</th>\n",
       "      <td>M1</td>\n",
       "      <td>2018-2019</td>\n",
       "      <td>0.119369</td>\n",
       "    </tr>\n",
       "    <tr>\n",
       "      <th>109</th>\n",
       "      <td>4</td>\n",
       "      <td>2019-2020</td>\n",
       "      <td>0.126157</td>\n",
       "    </tr>\n",
       "    <tr>\n",
       "      <th>60</th>\n",
       "      <td>M3</td>\n",
       "      <td>2017-2018</td>\n",
       "      <td>0.130763</td>\n",
       "    </tr>\n",
       "    <tr>\n",
       "      <th>125</th>\n",
       "      <td>13A</td>\n",
       "      <td>2021-2022</td>\n",
       "      <td>0.138021</td>\n",
       "    </tr>\n",
       "    <tr>\n",
       "      <th>27</th>\n",
       "      <td>L3</td>\n",
       "      <td>2016-2017</td>\n",
       "      <td>0.140152</td>\n",
       "    </tr>\n",
       "    <tr>\n",
       "      <th>96</th>\n",
       "      <td>13A</td>\n",
       "      <td>2019-2020</td>\n",
       "      <td>0.140411</td>\n",
       "    </tr>\n",
       "    <tr>\n",
       "      <th>3</th>\n",
       "      <td>12B</td>\n",
       "      <td>2016-2017</td>\n",
       "      <td>0.142472</td>\n",
       "    </tr>\n",
       "    <tr>\n",
       "      <th>78</th>\n",
       "      <td>2</td>\n",
       "      <td>2018-2019</td>\n",
       "      <td>0.147727</td>\n",
       "    </tr>\n",
       "    <tr>\n",
       "      <th>192</th>\n",
       "      <td>8</td>\n",
       "      <td>2023-2024</td>\n",
       "      <td>0.149691</td>\n",
       "    </tr>\n",
       "    <tr>\n",
       "      <th>65</th>\n",
       "      <td>12A</td>\n",
       "      <td>2018-2019</td>\n",
       "      <td>0.149922</td>\n",
       "    </tr>\n",
       "    <tr>\n",
       "      <th>154</th>\n",
       "      <td>15A</td>\n",
       "      <td>2022-2023</td>\n",
       "      <td>0.152683</td>\n",
       "    </tr>\n",
       "    <tr>\n",
       "      <th>95</th>\n",
       "      <td>12B</td>\n",
       "      <td>2019-2020</td>\n",
       "      <td>0.153409</td>\n",
       "    </tr>\n",
       "    <tr>\n",
       "      <th>155</th>\n",
       "      <td>15B</td>\n",
       "      <td>2022-2023</td>\n",
       "      <td>0.156463</td>\n",
       "    </tr>\n",
       "    <tr>\n",
       "      <th>127</th>\n",
       "      <td>15A</td>\n",
       "      <td>2021-2022</td>\n",
       "      <td>0.157287</td>\n",
       "    </tr>\n",
       "    <tr>\n",
       "      <th>45</th>\n",
       "      <td>1</td>\n",
       "      <td>2017-2018</td>\n",
       "      <td>0.157962</td>\n",
       "    </tr>\n",
       "    <tr>\n",
       "      <th>151</th>\n",
       "      <td>12B</td>\n",
       "      <td>2022-2023</td>\n",
       "      <td>0.158288</td>\n",
       "    </tr>\n",
       "    <tr>\n",
       "      <th>118</th>\n",
       "      <td>M1</td>\n",
       "      <td>2019-2020</td>\n",
       "      <td>0.158333</td>\n",
       "    </tr>\n",
       "    <tr>\n",
       "      <th>167</th>\n",
       "      <td>8</td>\n",
       "      <td>2022-2023</td>\n",
       "      <td>0.160111</td>\n",
       "    </tr>\n",
       "    <tr>\n",
       "      <th>77</th>\n",
       "      <td>1</td>\n",
       "      <td>2018-2019</td>\n",
       "      <td>0.162356</td>\n",
       "    </tr>\n",
       "    <tr>\n",
       "      <th>186</th>\n",
       "      <td>1</td>\n",
       "      <td>2023-2024</td>\n",
       "      <td>0.170000</td>\n",
       "    </tr>\n",
       "  </tbody>\n",
       "</table>\n",
       "</div>"
      ],
      "text/plain": [
       "    Division     Season  Gini_Coefficient\n",
       "14         1  2016-2017          0.055652\n",
       "161        1  2022-2023          0.075472\n",
       "188        3  2023-2024          0.097890\n",
       "90        M3  2018-2019          0.108663\n",
       "162        2  2022-2023          0.118333\n",
       "88        M1  2018-2019          0.119369\n",
       "109        4  2019-2020          0.126157\n",
       "60        M3  2017-2018          0.130763\n",
       "125      13A  2021-2022          0.138021\n",
       "27        L3  2016-2017          0.140152\n",
       "96       13A  2019-2020          0.140411\n",
       "3        12B  2016-2017          0.142472\n",
       "78         2  2018-2019          0.147727\n",
       "192        8  2023-2024          0.149691\n",
       "65       12A  2018-2019          0.149922\n",
       "154      15A  2022-2023          0.152683\n",
       "95       12B  2019-2020          0.153409\n",
       "155      15B  2022-2023          0.156463\n",
       "127      15A  2021-2022          0.157287\n",
       "45         1  2017-2018          0.157962\n",
       "151      12B  2022-2023          0.158288\n",
       "118       M1  2019-2020          0.158333\n",
       "167        8  2022-2023          0.160111\n",
       "77         1  2018-2019          0.162356\n",
       "186        1  2023-2024          0.170000"
      ]
     },
     "execution_count": 76,
     "metadata": {},
     "output_type": "execute_result"
    }
   ],
   "source": []
  },
  {
   "cell_type": "code",
   "execution_count": 77,
   "metadata": {},
   "outputs": [
    {
     "data": {
      "text/plain": [
       "Season\n",
       "2016-2017    0.240137\n",
       "2017-2018    0.253069\n",
       "2018-2019    0.224662\n",
       "2019-2020    0.231791\n",
       "2021-2022    0.232191\n",
       "2022-2023    0.208233\n",
       "2023-2024    0.222884\n",
       "Name: Gini_Coefficient, dtype: float64"
      ]
     },
     "execution_count": 77,
     "metadata": {},
     "output_type": "execute_result"
    }
   ],
   "source": [
    "gini_df.groupby(\"Season\")[\"Gini_Coefficient\"].mean()"
   ]
  },
  {
   "cell_type": "code",
   "execution_count": 78,
   "metadata": {},
   "outputs": [],
   "source": [
    "# Create a new column for gini_df called \"League Type\". If \"M\" is found in Division, League Type is \"Masters\", If \"L\" is found in Division, League Type is \"Ladies\". Otherwise, league type is \"Main\"\n",
    "gini_df[\"League Type\"] = np.where(gini_df[\"Division\"].str.contains(\"M\", case=False), \"Masters\",\n",
    "                                    np.where(gini_df[\"Division\"].str.contains(\"L\", case=False), \"Ladies\", \"Main\"))\n",
    "\n"
   ]
  },
  {
   "cell_type": "code",
   "execution_count": 79,
   "metadata": {},
   "outputs": [
    {
     "data": {
      "text/html": [
       "<div>\n",
       "<style scoped>\n",
       "    .dataframe tbody tr th:only-of-type {\n",
       "        vertical-align: middle;\n",
       "    }\n",
       "\n",
       "    .dataframe tbody tr th {\n",
       "        vertical-align: top;\n",
       "    }\n",
       "\n",
       "    .dataframe thead th {\n",
       "        text-align: right;\n",
       "    }\n",
       "</style>\n",
       "<table border=\"1\" class=\"dataframe\">\n",
       "  <thead>\n",
       "    <tr style=\"text-align: right;\">\n",
       "      <th></th>\n",
       "      <th>Division</th>\n",
       "      <th>Season</th>\n",
       "      <th>Gini_Coefficient</th>\n",
       "      <th>League Type</th>\n",
       "    </tr>\n",
       "  </thead>\n",
       "  <tbody>\n",
       "    <tr>\n",
       "      <th>14</th>\n",
       "      <td>1</td>\n",
       "      <td>2016-2017</td>\n",
       "      <td>0.055652</td>\n",
       "      <td>Main</td>\n",
       "    </tr>\n",
       "    <tr>\n",
       "      <th>161</th>\n",
       "      <td>1</td>\n",
       "      <td>2022-2023</td>\n",
       "      <td>0.075472</td>\n",
       "      <td>Main</td>\n",
       "    </tr>\n",
       "    <tr>\n",
       "      <th>188</th>\n",
       "      <td>3</td>\n",
       "      <td>2023-2024</td>\n",
       "      <td>0.097890</td>\n",
       "      <td>Main</td>\n",
       "    </tr>\n",
       "    <tr>\n",
       "      <th>90</th>\n",
       "      <td>M3</td>\n",
       "      <td>2018-2019</td>\n",
       "      <td>0.108663</td>\n",
       "      <td>Masters</td>\n",
       "    </tr>\n",
       "    <tr>\n",
       "      <th>162</th>\n",
       "      <td>2</td>\n",
       "      <td>2022-2023</td>\n",
       "      <td>0.118333</td>\n",
       "      <td>Main</td>\n",
       "    </tr>\n",
       "    <tr>\n",
       "      <th>88</th>\n",
       "      <td>M1</td>\n",
       "      <td>2018-2019</td>\n",
       "      <td>0.119369</td>\n",
       "      <td>Masters</td>\n",
       "    </tr>\n",
       "    <tr>\n",
       "      <th>109</th>\n",
       "      <td>4</td>\n",
       "      <td>2019-2020</td>\n",
       "      <td>0.126157</td>\n",
       "      <td>Main</td>\n",
       "    </tr>\n",
       "    <tr>\n",
       "      <th>60</th>\n",
       "      <td>M3</td>\n",
       "      <td>2017-2018</td>\n",
       "      <td>0.130763</td>\n",
       "      <td>Masters</td>\n",
       "    </tr>\n",
       "    <tr>\n",
       "      <th>125</th>\n",
       "      <td>13A</td>\n",
       "      <td>2021-2022</td>\n",
       "      <td>0.138021</td>\n",
       "      <td>Main</td>\n",
       "    </tr>\n",
       "    <tr>\n",
       "      <th>27</th>\n",
       "      <td>L3</td>\n",
       "      <td>2016-2017</td>\n",
       "      <td>0.140152</td>\n",
       "      <td>Ladies</td>\n",
       "    </tr>\n",
       "    <tr>\n",
       "      <th>96</th>\n",
       "      <td>13A</td>\n",
       "      <td>2019-2020</td>\n",
       "      <td>0.140411</td>\n",
       "      <td>Main</td>\n",
       "    </tr>\n",
       "    <tr>\n",
       "      <th>3</th>\n",
       "      <td>12B</td>\n",
       "      <td>2016-2017</td>\n",
       "      <td>0.142472</td>\n",
       "      <td>Main</td>\n",
       "    </tr>\n",
       "    <tr>\n",
       "      <th>78</th>\n",
       "      <td>2</td>\n",
       "      <td>2018-2019</td>\n",
       "      <td>0.147727</td>\n",
       "      <td>Main</td>\n",
       "    </tr>\n",
       "    <tr>\n",
       "      <th>192</th>\n",
       "      <td>8</td>\n",
       "      <td>2023-2024</td>\n",
       "      <td>0.149691</td>\n",
       "      <td>Main</td>\n",
       "    </tr>\n",
       "    <tr>\n",
       "      <th>65</th>\n",
       "      <td>12A</td>\n",
       "      <td>2018-2019</td>\n",
       "      <td>0.149922</td>\n",
       "      <td>Main</td>\n",
       "    </tr>\n",
       "    <tr>\n",
       "      <th>154</th>\n",
       "      <td>15A</td>\n",
       "      <td>2022-2023</td>\n",
       "      <td>0.152683</td>\n",
       "      <td>Main</td>\n",
       "    </tr>\n",
       "    <tr>\n",
       "      <th>95</th>\n",
       "      <td>12B</td>\n",
       "      <td>2019-2020</td>\n",
       "      <td>0.153409</td>\n",
       "      <td>Main</td>\n",
       "    </tr>\n",
       "    <tr>\n",
       "      <th>155</th>\n",
       "      <td>15B</td>\n",
       "      <td>2022-2023</td>\n",
       "      <td>0.156463</td>\n",
       "      <td>Main</td>\n",
       "    </tr>\n",
       "    <tr>\n",
       "      <th>127</th>\n",
       "      <td>15A</td>\n",
       "      <td>2021-2022</td>\n",
       "      <td>0.157287</td>\n",
       "      <td>Main</td>\n",
       "    </tr>\n",
       "    <tr>\n",
       "      <th>45</th>\n",
       "      <td>1</td>\n",
       "      <td>2017-2018</td>\n",
       "      <td>0.157962</td>\n",
       "      <td>Main</td>\n",
       "    </tr>\n",
       "    <tr>\n",
       "      <th>151</th>\n",
       "      <td>12B</td>\n",
       "      <td>2022-2023</td>\n",
       "      <td>0.158288</td>\n",
       "      <td>Main</td>\n",
       "    </tr>\n",
       "    <tr>\n",
       "      <th>118</th>\n",
       "      <td>M1</td>\n",
       "      <td>2019-2020</td>\n",
       "      <td>0.158333</td>\n",
       "      <td>Masters</td>\n",
       "    </tr>\n",
       "    <tr>\n",
       "      <th>167</th>\n",
       "      <td>8</td>\n",
       "      <td>2022-2023</td>\n",
       "      <td>0.160111</td>\n",
       "      <td>Main</td>\n",
       "    </tr>\n",
       "    <tr>\n",
       "      <th>77</th>\n",
       "      <td>1</td>\n",
       "      <td>2018-2019</td>\n",
       "      <td>0.162356</td>\n",
       "      <td>Main</td>\n",
       "    </tr>\n",
       "    <tr>\n",
       "      <th>186</th>\n",
       "      <td>1</td>\n",
       "      <td>2023-2024</td>\n",
       "      <td>0.170000</td>\n",
       "      <td>Main</td>\n",
       "    </tr>\n",
       "  </tbody>\n",
       "</table>\n",
       "</div>"
      ],
      "text/plain": [
       "    Division     Season  Gini_Coefficient League Type\n",
       "14         1  2016-2017          0.055652        Main\n",
       "161        1  2022-2023          0.075472        Main\n",
       "188        3  2023-2024          0.097890        Main\n",
       "90        M3  2018-2019          0.108663     Masters\n",
       "162        2  2022-2023          0.118333        Main\n",
       "88        M1  2018-2019          0.119369     Masters\n",
       "109        4  2019-2020          0.126157        Main\n",
       "60        M3  2017-2018          0.130763     Masters\n",
       "125      13A  2021-2022          0.138021        Main\n",
       "27        L3  2016-2017          0.140152      Ladies\n",
       "96       13A  2019-2020          0.140411        Main\n",
       "3        12B  2016-2017          0.142472        Main\n",
       "78         2  2018-2019          0.147727        Main\n",
       "192        8  2023-2024          0.149691        Main\n",
       "65       12A  2018-2019          0.149922        Main\n",
       "154      15A  2022-2023          0.152683        Main\n",
       "95       12B  2019-2020          0.153409        Main\n",
       "155      15B  2022-2023          0.156463        Main\n",
       "127      15A  2021-2022          0.157287        Main\n",
       "45         1  2017-2018          0.157962        Main\n",
       "151      12B  2022-2023          0.158288        Main\n",
       "118       M1  2019-2020          0.158333     Masters\n",
       "167        8  2022-2023          0.160111        Main\n",
       "77         1  2018-2019          0.162356        Main\n",
       "186        1  2023-2024          0.170000        Main"
      ]
     },
     "execution_count": 79,
     "metadata": {},
     "output_type": "execute_result"
    }
   ],
   "source": [
    "gini_df.sort_values(by=\"Gini_Coefficient\", ascending=True).head(25)"
   ]
  },
  {
   "cell_type": "code",
   "execution_count": 80,
   "metadata": {},
   "outputs": [
    {
     "data": {
      "text/plain": [
       "League Type\n",
       "Ladies     0.239536\n",
       "Main       0.233012\n",
       "Masters    0.211647\n",
       "Name: Gini_Coefficient, dtype: float64"
      ]
     },
     "execution_count": 80,
     "metadata": {},
     "output_type": "execute_result"
    }
   ],
   "source": [
    "# See average Gini Coefficient by League Type\n",
    "gini_df.groupby(\"League Type\")[\"Gini_Coefficient\"].mean()"
   ]
  },
  {
   "cell_type": "code",
   "execution_count": null,
   "metadata": {},
   "outputs": [],
   "source": []
  }
 ],
 "metadata": {
  "kernelspec": {
   "display_name": "venv",
   "language": "python",
   "name": "python3"
  },
  "language_info": {
   "codemirror_mode": {
    "name": "ipython",
    "version": 3
   },
   "file_extension": ".py",
   "mimetype": "text/x-python",
   "name": "python",
   "nbconvert_exporter": "python",
   "pygments_lexer": "ipython3",
   "version": "3.11.4"
  }
 },
 "nbformat": 4,
 "nbformat_minor": 2
}
