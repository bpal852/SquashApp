{
 "cells": [
  {
   "cell_type": "code",
   "execution_count": 274,
   "metadata": {},
   "outputs": [],
   "source": [
    "import numpy as np\n",
    "import pandas as pd\n",
    "import os\n",
    "import glob\n",
    "import matplotlib.pyplot as plt\n",
    "import seaborn as sns\n",
    "import re"
   ]
  },
  {
   "cell_type": "code",
   "execution_count": 275,
   "metadata": {},
   "outputs": [],
   "source": [
    "all_divisions = {\n",
    "    \"Premier Main\": 424,\n",
    "    \"2\": 425,\n",
    "    \"3\": 426,\n",
    "    \"4\": 427,\n",
    "    \"5\": 428,\n",
    "    \"6\": 429,\n",
    "    \"7A\": 430,\n",
    "    \"7B\": 431,\n",
    "    \"8A\": 432,\n",
    "    \"8B\": 433,\n",
    "    \"9\": 434,\n",
    "    \"10\": 435,\n",
    "    \"11\": 436,\n",
    "    \"12\": 437,\n",
    "    \"13A\": 438,\n",
    "    \"13B\": 439,\n",
    "    \"14\": 440,\n",
    "    \"15A\": 441,\n",
    "    \"15B\": 442,\n",
    "    \"Premier Masters\": 443,\n",
    "    \"M2\": 444,\n",
    "    \"M3\": 445,\n",
    "    \"M4\": 446,\n",
    "    \"Premier Ladies\": 447,\n",
    "    \"L2\": 448,\n",
    "    \"L3\": 449,\n",
    "    \"L4\": 450,\n",
    "    }"
   ]
  },
  {
   "cell_type": "code",
   "execution_count": 276,
   "metadata": {},
   "outputs": [],
   "source": [
    "base_directory = r\"C:\\Users\\bpali\\PycharmProjects\\SquashApp\\previous_seasons\""
   ]
  },
  {
   "cell_type": "markdown",
   "metadata": {},
   "source": [
    "### Load Summary data"
   ]
  },
  {
   "cell_type": "code",
   "execution_count": 277,
   "metadata": {},
   "outputs": [],
   "source": [
    "# Load all seasons summary data\n",
    "summary_df_list = []\n",
    "for season_folder in os.listdir(base_directory):\n",
    "    season_folder_path = os.path.join(base_directory, season_folder)\n",
    "    ranking_df_folder = os.path.join(season_folder_path, \"summary_df\")\n",
    "    for file in os.listdir(ranking_df_folder):\n",
    "        if not file.endswith(\"summary_df.csv\"):\n",
    "            continue\n",
    "        file_path = os.path.join(ranking_df_folder, file)\n",
    "        df = pd.read_csv(file_path)\n",
    "        # Add Division column to the dataframe\n",
    "        df[\"Division\"] = file.split(\"_\")[0]\n",
    "        # Add Season column to the dataframe\n",
    "        df[\"Season\"] = season_folder\n",
    "        # Add Rank column to the dataframe\n",
    "        df[\"Rank\"] = df.index + 1\n",
    "        summary_df_list.append(df)\n",
    "\n",
    "# Concatenate all the dataframes in df_list into one big dataframe\n",
    "all_previous_summary_df = pd.concat(summary_df_list, ignore_index=True)"
   ]
  },
  {
   "cell_type": "code",
   "execution_count": 278,
   "metadata": {},
   "outputs": [],
   "source": [
    "# Load summary_dfs for 2024-2025 season\n",
    "\n",
    "summary_directory = r\"C:\\Users\\bpali\\PycharmProjects\\SquashApp\\2024-2025\\summary_df\"\n",
    "\n",
    "summary_dfs = []\n",
    "for division in all_divisions.keys():\n",
    "    for week in range(10, 0, -1):\n",
    "        try:\n",
    "            summary_df = pd.read_csv(f\"{summary_directory}\\\\week_{week}\\\\{division}_summary_df.csv\")\n",
    "            summary_df[\"Division\"] = division\n",
    "            # Create Rank column based on Points column\n",
    "            summary_df[\"Rank\"] = summary_df.index + 1\n",
    "            # Add Season column to the dataframe\n",
    "            summary_df[\"Season\"] = \"2024-2025\"\n",
    "            summary_dfs.append(summary_df)\n",
    "            break\n",
    "        except FileNotFoundError:\n",
    "            continue\n",
    "\n",
    "# Concatenate all the summary dataframes into one\n",
    "summary_df_2024_2025 = pd.concat(summary_dfs)"
   ]
  },
  {
   "cell_type": "code",
   "execution_count": 279,
   "metadata": {},
   "outputs": [],
   "source": [
    "# Concatenate the summary dataframes from all seasons\n",
    "big_summary_df = pd.concat([all_previous_summary_df, summary_df_2024_2025], ignore_index=True)\n",
    "\n",
    "# Drop rows where Played is equal to zero\n",
    "big_summary_df = big_summary_df[big_summary_df[\"Played\"] != 0]"
   ]
  },
  {
   "cell_type": "markdown",
   "metadata": {},
   "source": [
    "### Load Ranking data"
   ]
  },
  {
   "cell_type": "code",
   "execution_count": 280,
   "metadata": {},
   "outputs": [],
   "source": [
    "# 2024-2025 ranking_df directory\n",
    "ranking_df_dir = r\"C:\\Users\\bpali\\PycharmProjects\\SquashApp\\2024-2025\\ranking_df\""
   ]
  },
  {
   "cell_type": "code",
   "execution_count": 281,
   "metadata": {},
   "outputs": [],
   "source": [
    "# In the the summary directory are week_x folders (eg week_4). First check the most recent folder (ie the highest number), then check the next highest, etc, \n",
    "# using the all_divisions dictionary to make sure we load every division's most recent summary file and avoid loading an older file for a division that has a more recent file.\n",
    "\n",
    "ranking_dfs = []\n",
    "for division in all_divisions.keys():\n",
    "    for week in range(10, 0, -1):\n",
    "        try:\n",
    "            ranking_df = pd.read_csv(f\"{ranking_df_dir}\\\\week_{week}\\\\{division}_ranking_df.csv\")\n",
    "            ranking_df[\"Season\"] = \"2024-2025\"\n",
    "            ranking_dfs.append(ranking_df)\n",
    "            break\n",
    "        except FileNotFoundError:\n",
    "            continue\n",
    "\n",
    "# Concatenate all the summary dataframes into one\n",
    "ranking_df_2024_2025 = pd.concat(ranking_dfs)"
   ]
  },
  {
   "cell_type": "code",
   "execution_count": 282,
   "metadata": {},
   "outputs": [],
   "source": [
    "# In the base directory are seasons folders (eg. 2019-2020, 2020-2021, etc.). We want to go through each season folder, go into the ranking_df folder for that season, \n",
    "# and read in all the ranking_df files (determined by whether the file ends in ranking_df) into a list of dataframes. We will then concatenate all the dataframes into one big dataframe.\n",
    "# Add a Season column to the dataframe to keep track of which season the data is from.\n",
    "\n",
    "ranking_df_list = []\n",
    "for season_folder in os.listdir(base_directory):\n",
    "    season_folder_path = os.path.join(base_directory, season_folder)\n",
    "    ranking_df_folder = os.path.join(season_folder_path, \"ranking_df\")\n",
    "    for file in os.listdir(ranking_df_folder):\n",
    "        if not file.endswith(\"ranking_df.csv\"):\n",
    "            continue\n",
    "        file_path = os.path.join(ranking_df_folder, file)\n",
    "        df = pd.read_csv(file_path)\n",
    "        df[\"Season\"] = season_folder\n",
    "        ranking_df_list.append(df)\n",
    "\n",
    "# Concatenate all the dataframes in df_list into one big dataframe\n",
    "big_ranking_df = pd.concat(ranking_df_list)\n"
   ]
  },
  {
   "cell_type": "code",
   "execution_count": 283,
   "metadata": {},
   "outputs": [],
   "source": [
    "# Concatenate the 2024-2025 ranking_df with the big_ranking_df\n",
    "final_ranking_df = pd.concat([big_ranking_df, ranking_df_2024_2025])"
   ]
  },
  {
   "cell_type": "markdown",
   "metadata": {},
   "source": [
    "### Load Schedules data"
   ]
  },
  {
   "cell_type": "code",
   "execution_count": 284,
   "metadata": {},
   "outputs": [],
   "source": [
    "# Load all seasons summary data\n",
    "schedules_df_list = []\n",
    "for season_folder in os.listdir(base_directory):\n",
    "    season_folder_path = os.path.join(base_directory, season_folder)\n",
    "    ranking_df_folder = os.path.join(season_folder_path, \"schedules_df\")\n",
    "    for file in os.listdir(ranking_df_folder):\n",
    "        if not file.endswith(\"schedules_df.csv\"):\n",
    "            continue\n",
    "        file_path = os.path.join(ranking_df_folder, file)\n",
    "        df = pd.read_csv(file_path)\n",
    "        # Add Division column to the dataframe\n",
    "        df[\"Division\"] = file.split(\"_\")[0]\n",
    "        # Add Season column to the dataframe\n",
    "        df[\"Season\"] = season_folder\n",
    "\n",
    "        schedules_df_list.append(df)\n",
    "\n",
    "# Concatenate all the dataframes in df_list into one big dataframe\n",
    "all_previous_schedules_df = pd.concat(schedules_df_list, ignore_index=True)"
   ]
  },
  {
   "cell_type": "code",
   "execution_count": 285,
   "metadata": {},
   "outputs": [],
   "source": [
    "# 2024-2025 schedules_df directory\n",
    "schedules_df_dir = r\"C:\\Users\\bpali\\PycharmProjects\\SquashApp\\2024-2025\\schedules_df\""
   ]
  },
  {
   "cell_type": "code",
   "execution_count": 286,
   "metadata": {},
   "outputs": [],
   "source": [
    "schedules_dfs = []\n",
    "for division in all_divisions.keys():\n",
    "    for week in range(10, 0, -1):\n",
    "        try:\n",
    "            schedules_df = pd.read_csv(f\"{schedules_df_dir}\\\\week_{week}\\\\{division}_schedules_df.csv\")\n",
    "            schedules_df[\"Season\"] = \"2024-2025\"\n",
    "            schedules_df[\"Division\"] = division\n",
    "            schedules_dfs.append(schedules_df)\n",
    "            break\n",
    "        except FileNotFoundError:\n",
    "            continue"
   ]
  },
  {
   "cell_type": "code",
   "execution_count": 287,
   "metadata": {},
   "outputs": [],
   "source": [
    "# Concatenate all the summary dataframes into one\n",
    "schedules_df_2024_2025 = pd.concat(schedules_dfs)"
   ]
  },
  {
   "cell_type": "code",
   "execution_count": 288,
   "metadata": {},
   "outputs": [],
   "source": [
    "# Concatenate the schedules dataframes from all seasons\n",
    "all_schedules_df = pd.concat([all_previous_schedules_df, schedules_df_2024_2025], ignore_index=True)"
   ]
  },
  {
   "cell_type": "code",
   "execution_count": 289,
   "metadata": {},
   "outputs": [],
   "source": [
    "# Tidy Venue column\n",
    "all_schedules_df[\"Venue\"] = all_schedules_df[\"Venue\"].str.replace(\"Cornwall Street (CSPSC)\", \"Cornwall Street Squash Centre\")\n",
    "all_schedules_df[\"Venue\"] = all_schedules_df[\"Venue\"].str.replace(\"Masters - Cornwall Street (CSPSC - M)\", \"Cornwall Street Squash Centre\")\n",
    "all_schedules_df[\"Venue\"] = all_schedules_df[\"Venue\"].str.replace(\"Masters - Cornwall Street (M - CSPSC)\", \"Cornwall Street Squash Centre\")\n",
    "all_schedules_df[\"Venue\"] = all_schedules_df[\"Venue\"].str.replace(\"HK Squash Centre (HKSC)\", \"HK Squash Centre\")\n",
    "all_schedules_df[\"Venue\"] = all_schedules_df[\"Venue\"].str.replace(\"Masters - HK Squash Centre\", \"HK Squash Centre\")\n",
    "all_schedules_df[\"Venue\"] = all_schedules_df[\"Venue\"].str.replace(\"HK Squash Centre (M - HKSC)\", \"HK Squash Centre\")\n",
    "all_schedules_df[\"Venue\"] = all_schedules_df[\"Venue\"].str.replace(\"Hong Kong Football Club (HKFC)\", \"Hong Kong Football Club\")\n",
    "all_schedules_df[\"Venue\"] = all_schedules_df[\"Venue\"].str.replace(\"Hong Kong Cricket Club (HKCC)\", \"Hong Kong Cricket Club\")\n",
    "all_schedules_df[\"Venue\"] = all_schedules_df[\"Venue\"].str.replace(\"Kowloon Cricket Club (KCC)\", \"Kowloon Cricket Club\")\n",
    "all_schedules_df[\"Venue\"] = all_schedules_df[\"Venue\"].str.replace(\"United Services Recreation Club (USRC)\", \"United Services Recreation Club\")\n",
    "all_schedules_df[\"Venue\"] = all_schedules_df[\"Venue\"].str.replace(\"Pei Ho Street (PHSSC)\", \"Pei Ho Street Sports Centre\")\n",
    "all_schedules_df[\"Venue\"] = all_schedules_df[\"Venue\"].str.replace(\"Java Road (JRSC)\", \"Java Road\")\n",
    "all_schedules_df[\"Venue\"] = all_schedules_df[\"Venue\"].str.replace(\"Masters - Java Road (JRSC - M)\", \"Java Road\")\n",
    "all_schedules_df[\"Venue\"] = all_schedules_df[\"Venue\"].str.replace(\"Harbour Road (HRSC)\", \"Harbour Road Sports Centre\")\n",
    "all_schedules_df[\"Venue\"] = all_schedules_df[\"Venue\"].str.replace(\"Masters - Harbour Road Sports Centre\", \"Harbour Road Sports Centre\")\n",
    "all_schedules_df[\"Venue\"] = all_schedules_df[\"Venue\"].str.replace(\"Ladies Recreation Club (LRC)\", \"Ladies Recreation Club\")"
   ]
  },
  {
   "cell_type": "code",
   "execution_count": 290,
   "metadata": {},
   "outputs": [
    {
     "data": {
      "text/plain": [
       "Venue\n",
       "Cornwall Street Squash Centre             5178\n",
       "HK Squash Centre                          3349\n",
       "Hong Kong Football Club                   2340\n",
       "Hong Kong Cricket Club                    1214\n",
       "Kowloon Cricket Club                       894\n",
       "Kwun Chung (KCSC)                          513\n",
       "United Services Recreation Club            440\n",
       "Pei Ho Street Sports Centre                430\n",
       "Harbour Road Sports Centre                 246\n",
       "Ladies Recreation Club                     246\n",
       "Java Road                                  166\n",
       "HK CLUB                                    120\n",
       "Yuen Long Jockey Club (YLJCSC)             118\n",
       "Royal Hong Kong Yacht Club (RHKYC)         110\n",
       "Chinese University of HK (CUHK)            108\n",
       "Police Sports & Recreation Club (PSRC)      89\n",
       "Hong Kong Sports Institute (HKSI)           81\n",
       "Yuen Long Jockey Club Squash Courts         79\n",
       "HKJC Sha Tin Club House (HKJC)              77\n",
       "Wai Tsuen (WTSC)                            68\n",
       "Name: count, dtype: int64"
      ]
     },
     "execution_count": 290,
     "metadata": {},
     "output_type": "execute_result"
    }
   ],
   "source": [
    "all_schedules_df[\"Venue\"].value_counts().head(20)"
   ]
  },
  {
   "cell_type": "code",
   "execution_count": 291,
   "metadata": {},
   "outputs": [],
   "source": [
    "def parse_result(result):\n",
    "    \"\"\"\n",
    "    Function to parse the 'result' string\n",
    "    \"\"\"\n",
    "    overall, rubbers = result.split('(')\n",
    "    rubbers = rubbers.strip(')').split(',')\n",
    "    return overall, rubbers"
   ]
  },
  {
   "cell_type": "code",
   "execution_count": 292,
   "metadata": {},
   "outputs": [],
   "source": [
    "# Drop unnecessary columns\n",
    "all_schedules_df.drop(columns=['vs', 'Time'], inplace=True)\n",
    "\n",
    "# Exclude rows where 'Away Team' is '[BYE]' (indicative of a bye week)\n",
    "results_df = all_schedules_df[all_schedules_df['Away Team'] != '[BYE]'].copy()\n",
    "\n",
    "# Replace NaN values in 'Result' with an empty string before applying str.contains\n",
    "results_df['Result'] = results_df['Result'].fillna('')\n",
    "\n",
    "# Keep rows where 'Result' contains brackets (indicative of a played match)\n",
    "results_df = results_df[results_df['Result'].str.contains(r'\\(')]\n",
    "\n",
    "# Apply the function to the 'Result' column\n",
    "results_df[['Overall Score', 'Rubbers']] = results_df['Result'].apply(lambda x: pd.Series(parse_result(x)))\n",
    "\n",
    "# Splitting the 'Overall Score' into two separate columns\n",
    "results_df[['Home Score', 'Away Score']] = results_df['Overall Score'].str.split('-', expand=True).astype(int)\n",
    "\n",
    "# Get counts for CR and WO\n",
    "results_df['CR'] = results_df['Rubbers'].apply(lambda x: x.count('CR'))\n",
    "results_df['WO'] = results_df['Rubbers'].apply(lambda x: x.count('WO'))\n",
    "\n",
    "# Create combined CR and WO column\n",
    "results_df['CR_WO'] = results_df['CR'] + results_df['WO']"
   ]
  },
  {
   "cell_type": "code",
   "execution_count": 293,
   "metadata": {},
   "outputs": [],
   "source": [
    "# Filter out rows where Home Score and Away Score don't sum to 5\n",
    "results_df_5 = results_df[results_df['Home Score'] + results_df['Away Score'] == 5]"
   ]
  },
  {
   "cell_type": "code",
   "execution_count": 294,
   "metadata": {},
   "outputs": [],
   "source": [
    "# Include only rows where Venue equals 'Cornwall Street Squash Centre', 'HK Squash Centre', 'Hong Kong Football Club', 'Hong Kong Cricket Club', 'Kowloon Cricket Club', 'United Services Recreation Club'.\n",
    "\n",
    "venues = ['Cornwall Street Squash Centre', 'HK Squash Centre', 'Hong Kong Football Club', 'Hong Kong Cricket Club', 'Kowloon Cricket Club', 'United Services Recreation Club']\n",
    "results_df_5 = results_df_5[results_df_5['Venue'].isin(venues)]"
   ]
  },
  {
   "cell_type": "code",
   "execution_count": 295,
   "metadata": {},
   "outputs": [
    {
     "data": {
      "text/plain": [
       "Venue\n",
       "Kowloon Cricket Club               3.325581\n",
       "Hong Kong Football Club            2.996904\n",
       "United Services Recreation Club    2.903509\n",
       "Hong Kong Cricket Club             2.840836\n",
       "Cornwall Street Squash Centre      2.628858\n",
       "HK Squash Centre                   2.410876\n",
       "Name: Home Score, dtype: float64"
      ]
     },
     "execution_count": 295,
     "metadata": {},
     "output_type": "execute_result"
    }
   ],
   "source": [
    "# Get average Home Score by Venue\n",
    "results_df_5.groupby('Venue')['Home Score'].mean().sort_values(ascending=False)"
   ]
  },
  {
   "cell_type": "code",
   "execution_count": 296,
   "metadata": {},
   "outputs": [
    {
     "data": {
      "text/plain": [
       "Season\n",
       "2016-2017    2.660000\n",
       "2017-2018    2.713142\n",
       "2018-2019    2.731082\n",
       "2019-2020    2.701635\n",
       "2021-2022    2.586160\n",
       "2022-2023    2.760300\n",
       "2023-2024    2.661187\n",
       "2024-2025    2.646421\n",
       "Name: Home Score, dtype: float64"
      ]
     },
     "execution_count": 296,
     "metadata": {},
     "output_type": "execute_result"
    }
   ],
   "source": [
    "# Get mean of Home Score by Season\n",
    "results_df_5.groupby('Season')['Home Score'].mean()"
   ]
  },
  {
   "cell_type": "code",
   "execution_count": 297,
   "metadata": {},
   "outputs": [
    {
     "data": {
      "text/html": [
       "<div>\n",
       "<style scoped>\n",
       "    .dataframe tbody tr th:only-of-type {\n",
       "        vertical-align: middle;\n",
       "    }\n",
       "\n",
       "    .dataframe tbody tr th {\n",
       "        vertical-align: top;\n",
       "    }\n",
       "\n",
       "    .dataframe thead th {\n",
       "        text-align: right;\n",
       "    }\n",
       "</style>\n",
       "<table border=\"1\" class=\"dataframe\">\n",
       "  <thead>\n",
       "    <tr style=\"text-align: right;\">\n",
       "      <th></th>\n",
       "      <th>CR</th>\n",
       "      <th>WO</th>\n",
       "    </tr>\n",
       "    <tr>\n",
       "      <th>Venue</th>\n",
       "      <th></th>\n",
       "      <th></th>\n",
       "    </tr>\n",
       "  </thead>\n",
       "  <tbody>\n",
       "    <tr>\n",
       "      <th>Cornwall Street Squash Centre</th>\n",
       "      <td>0.262126</td>\n",
       "      <td>0.085007</td>\n",
       "    </tr>\n",
       "    <tr>\n",
       "      <th>HK Squash Centre</th>\n",
       "      <td>0.334916</td>\n",
       "      <td>0.130341</td>\n",
       "    </tr>\n",
       "    <tr>\n",
       "      <th>Hong Kong Cricket Club</th>\n",
       "      <td>0.197749</td>\n",
       "      <td>0.112540</td>\n",
       "    </tr>\n",
       "    <tr>\n",
       "      <th>Hong Kong Football Club</th>\n",
       "      <td>0.149381</td>\n",
       "      <td>0.048762</td>\n",
       "    </tr>\n",
       "    <tr>\n",
       "      <th>Kowloon Cricket Club</th>\n",
       "      <td>0.175313</td>\n",
       "      <td>0.044723</td>\n",
       "    </tr>\n",
       "    <tr>\n",
       "      <th>United Services Recreation Club</th>\n",
       "      <td>0.134503</td>\n",
       "      <td>0.055556</td>\n",
       "    </tr>\n",
       "  </tbody>\n",
       "</table>\n",
       "</div>"
      ],
      "text/plain": [
       "                                       CR        WO\n",
       "Venue                                              \n",
       "Cornwall Street Squash Centre    0.262126  0.085007\n",
       "HK Squash Centre                 0.334916  0.130341\n",
       "Hong Kong Cricket Club           0.197749  0.112540\n",
       "Hong Kong Football Club          0.149381  0.048762\n",
       "Kowloon Cricket Club             0.175313  0.044723\n",
       "United Services Recreation Club  0.134503  0.055556"
      ]
     },
     "execution_count": 297,
     "metadata": {},
     "output_type": "execute_result"
    }
   ],
   "source": [
    "# Count average instances of 'CR' and 'WO' in the 'Rubbers' column per match by Venue\n",
    "results_df_5['CR'] = results_df_5['Rubbers'].apply(lambda x: x.count('CR'))\n",
    "results_df_5['WO'] = results_df_5['Rubbers'].apply(lambda x: x.count('WO'))\n",
    "\n",
    "results_df_5.groupby('Venue')[['CR', 'WO']].mean()"
   ]
  },
  {
   "cell_type": "code",
   "execution_count": 298,
   "metadata": {},
   "outputs": [],
   "source": [
    "# Create 5 match rolling average for CR and WO by Match Week for results_df, \n",
    "results_df_5['CR Rolling Mean'] = results_df_5['CR'].transform(lambda x: x.rolling(5, 1).mean())\n",
    "results_df_5['WO Rolling Mean'] = results_df_5['WO'].transform(lambda x: x.rolling(5, 1).mean())\n"
   ]
  },
  {
   "cell_type": "code",
   "execution_count": 299,
   "metadata": {},
   "outputs": [
    {
     "data": {
      "text/html": [
       "<div>\n",
       "<style scoped>\n",
       "    .dataframe tbody tr th:only-of-type {\n",
       "        vertical-align: middle;\n",
       "    }\n",
       "\n",
       "    .dataframe tbody tr th {\n",
       "        vertical-align: top;\n",
       "    }\n",
       "\n",
       "    .dataframe thead th {\n",
       "        text-align: right;\n",
       "    }\n",
       "</style>\n",
       "<table border=\"1\" class=\"dataframe\">\n",
       "  <thead>\n",
       "    <tr style=\"text-align: right;\">\n",
       "      <th></th>\n",
       "      <th>Home Team</th>\n",
       "      <th>Away Team</th>\n",
       "      <th>Venue</th>\n",
       "      <th>Result</th>\n",
       "      <th>Match Week</th>\n",
       "      <th>Date</th>\n",
       "      <th>Division</th>\n",
       "      <th>Season</th>\n",
       "      <th>Overall Score</th>\n",
       "      <th>Rubbers</th>\n",
       "      <th>Home Score</th>\n",
       "      <th>Away Score</th>\n",
       "      <th>CR</th>\n",
       "      <th>WO</th>\n",
       "      <th>CR_WO</th>\n",
       "    </tr>\n",
       "  </thead>\n",
       "  <tbody>\n",
       "    <tr>\n",
       "      <th>0</th>\n",
       "      <td>The Hong Kong Jockey Club</td>\n",
       "      <td>i-MASK Advance Squash Club 7</td>\n",
       "      <td>HKJC Sha Tin Club House (HKJC)</td>\n",
       "      <td>1-4(0-3,1-3,0-3,3-2,2-3)</td>\n",
       "      <td>1</td>\n",
       "      <td>03/10/2016</td>\n",
       "      <td>10</td>\n",
       "      <td>2016-2017</td>\n",
       "      <td>1-4</td>\n",
       "      <td>[0-3, 1-3, 0-3, 3-2, 2-3]</td>\n",
       "      <td>1</td>\n",
       "      <td>4</td>\n",
       "      <td>0</td>\n",
       "      <td>0</td>\n",
       "      <td>0</td>\n",
       "    </tr>\n",
       "    <tr>\n",
       "      <th>1</th>\n",
       "      <td>Hong Kong Football Club 10A</td>\n",
       "      <td>Hong Kong Football Club 10B</td>\n",
       "      <td>Hong Kong Football Club</td>\n",
       "      <td>3-2(1-3,3-0,3-1,1-3,3-0)</td>\n",
       "      <td>1</td>\n",
       "      <td>03/10/2016</td>\n",
       "      <td>10</td>\n",
       "      <td>2016-2017</td>\n",
       "      <td>3-2</td>\n",
       "      <td>[1-3, 3-0, 3-1, 1-3, 3-0]</td>\n",
       "      <td>3</td>\n",
       "      <td>2</td>\n",
       "      <td>0</td>\n",
       "      <td>0</td>\n",
       "      <td>0</td>\n",
       "    </tr>\n",
       "    <tr>\n",
       "      <th>2</th>\n",
       "      <td>Royal Hong Kong Yacht Club 10</td>\n",
       "      <td>Banbil</td>\n",
       "      <td>Royal Hong Kong Yacht Club (RHKYC)</td>\n",
       "      <td>4-1(0-3,3-0,3-0,3-0,3-0)</td>\n",
       "      <td>1</td>\n",
       "      <td>03/10/2016</td>\n",
       "      <td>10</td>\n",
       "      <td>2016-2017</td>\n",
       "      <td>4-1</td>\n",
       "      <td>[0-3, 3-0, 3-0, 3-0, 3-0]</td>\n",
       "      <td>4</td>\n",
       "      <td>1</td>\n",
       "      <td>0</td>\n",
       "      <td>0</td>\n",
       "      <td>0</td>\n",
       "    </tr>\n",
       "    <tr>\n",
       "      <th>3</th>\n",
       "      <td>Xavier</td>\n",
       "      <td>Perrier KCC 7</td>\n",
       "      <td>Cornwall Street Squash Centre</td>\n",
       "      <td>3-2(3-2,3-0,3-2,0-3,2-3)</td>\n",
       "      <td>1</td>\n",
       "      <td>03/10/2016</td>\n",
       "      <td>10</td>\n",
       "      <td>2016-2017</td>\n",
       "      <td>3-2</td>\n",
       "      <td>[3-2, 3-0, 3-2, 0-3, 2-3]</td>\n",
       "      <td>3</td>\n",
       "      <td>2</td>\n",
       "      <td>0</td>\n",
       "      <td>0</td>\n",
       "      <td>0</td>\n",
       "    </tr>\n",
       "    <tr>\n",
       "      <th>4</th>\n",
       "      <td>i-MASK Advance Squash Club 7</td>\n",
       "      <td>Royal Hong Kong Yacht Club 10</td>\n",
       "      <td>Cornwall Street Squash Centre</td>\n",
       "      <td>3-2(3-0,3-0,3-1,1-3,2-3)</td>\n",
       "      <td>2</td>\n",
       "      <td>17/10/2016</td>\n",
       "      <td>10</td>\n",
       "      <td>2016-2017</td>\n",
       "      <td>3-2</td>\n",
       "      <td>[3-0, 3-0, 3-1, 1-3, 2-3]</td>\n",
       "      <td>3</td>\n",
       "      <td>2</td>\n",
       "      <td>0</td>\n",
       "      <td>0</td>\n",
       "      <td>0</td>\n",
       "    </tr>\n",
       "  </tbody>\n",
       "</table>\n",
       "</div>"
      ],
      "text/plain": [
       "                       Home Team                      Away Team  \\\n",
       "0      The Hong Kong Jockey Club   i-MASK Advance Squash Club 7   \n",
       "1    Hong Kong Football Club 10A    Hong Kong Football Club 10B   \n",
       "2  Royal Hong Kong Yacht Club 10                         Banbil   \n",
       "3                         Xavier                  Perrier KCC 7   \n",
       "4   i-MASK Advance Squash Club 7  Royal Hong Kong Yacht Club 10   \n",
       "\n",
       "                                Venue                    Result  Match Week  \\\n",
       "0      HKJC Sha Tin Club House (HKJC)  1-4(0-3,1-3,0-3,3-2,2-3)           1   \n",
       "1             Hong Kong Football Club  3-2(1-3,3-0,3-1,1-3,3-0)           1   \n",
       "2  Royal Hong Kong Yacht Club (RHKYC)  4-1(0-3,3-0,3-0,3-0,3-0)           1   \n",
       "3       Cornwall Street Squash Centre  3-2(3-2,3-0,3-2,0-3,2-3)           1   \n",
       "4       Cornwall Street Squash Centre  3-2(3-0,3-0,3-1,1-3,2-3)           2   \n",
       "\n",
       "         Date Division     Season Overall Score                    Rubbers  \\\n",
       "0  03/10/2016       10  2016-2017           1-4  [0-3, 1-3, 0-3, 3-2, 2-3]   \n",
       "1  03/10/2016       10  2016-2017           3-2  [1-3, 3-0, 3-1, 1-3, 3-0]   \n",
       "2  03/10/2016       10  2016-2017           4-1  [0-3, 3-0, 3-0, 3-0, 3-0]   \n",
       "3  03/10/2016       10  2016-2017           3-2  [3-2, 3-0, 3-2, 0-3, 2-3]   \n",
       "4  17/10/2016       10  2016-2017           3-2  [3-0, 3-0, 3-1, 1-3, 2-3]   \n",
       "\n",
       "   Home Score  Away Score  CR  WO  CR_WO  \n",
       "0           1           4   0   0      0  \n",
       "1           3           2   0   0      0  \n",
       "2           4           1   0   0      0  \n",
       "3           3           2   0   0      0  \n",
       "4           3           2   0   0      0  "
      ]
     },
     "execution_count": 299,
     "metadata": {},
     "output_type": "execute_result"
    }
   ],
   "source": [
    "results_df.head()"
   ]
  },
  {
   "cell_type": "code",
   "execution_count": 300,
   "metadata": {},
   "outputs": [],
   "source": [
    "match_week_count = results_df.groupby('Match Week')['Home Score'].count().reset_index()"
   ]
  },
  {
   "cell_type": "code",
   "execution_count": 301,
   "metadata": {},
   "outputs": [
    {
     "name": "stdout",
     "output_type": "stream",
     "text": [
      "    Match Week        CR        WO\n",
      "0            1  0.111247  0.046455\n",
      "1            2  0.142005  0.053699\n",
      "2            3  0.179762  0.051190\n",
      "3            4  0.167464  0.071770\n",
      "4            5  0.202454  0.053988\n",
      "5            6  0.193431  0.063260\n",
      "6            7  0.193026  0.090909\n",
      "7            8  0.189333  0.077333\n",
      "8            9  0.307479  0.109418\n",
      "9           10  0.286713  0.099301\n",
      "10          11  0.196455  0.079764\n",
      "11          12  0.186325  0.088889\n",
      "12          13  0.269017  0.103896\n",
      "13          14  0.294896  0.090737\n",
      "14          15  0.303605  0.119545\n",
      "15          16  0.354528  0.098266\n",
      "16          17  0.252896  0.150579\n",
      "17          18  0.317215  0.187621\n",
      "18          19  0.462338  0.158442\n",
      "19          20  0.454545  0.163102\n",
      "20          21  0.586319  0.195440\n",
      "21          22  0.601695  0.152542\n"
     ]
    }
   ],
   "source": [
    "cr_wo_data = results_df.groupby('Match Week')[['CR', 'WO']].mean().reset_index()\n",
    "print(cr_wo_data)"
   ]
  },
  {
   "cell_type": "code",
   "execution_count": 302,
   "metadata": {},
   "outputs": [
    {
     "data": {
      "text/html": [
       "<div>\n",
       "<style scoped>\n",
       "    .dataframe tbody tr th:only-of-type {\n",
       "        vertical-align: middle;\n",
       "    }\n",
       "\n",
       "    .dataframe tbody tr th {\n",
       "        vertical-align: top;\n",
       "    }\n",
       "\n",
       "    .dataframe thead th {\n",
       "        text-align: right;\n",
       "    }\n",
       "</style>\n",
       "<table border=\"1\" class=\"dataframe\">\n",
       "  <thead>\n",
       "    <tr style=\"text-align: right;\">\n",
       "      <th></th>\n",
       "      <th>Match Week</th>\n",
       "      <th>CR</th>\n",
       "      <th>WO</th>\n",
       "    </tr>\n",
       "  </thead>\n",
       "  <tbody>\n",
       "    <tr>\n",
       "      <th>0</th>\n",
       "      <td>1</td>\n",
       "      <td>0.111247</td>\n",
       "      <td>0.046455</td>\n",
       "    </tr>\n",
       "    <tr>\n",
       "      <th>1</th>\n",
       "      <td>2</td>\n",
       "      <td>0.142005</td>\n",
       "      <td>0.053699</td>\n",
       "    </tr>\n",
       "    <tr>\n",
       "      <th>2</th>\n",
       "      <td>3</td>\n",
       "      <td>0.179762</td>\n",
       "      <td>0.051190</td>\n",
       "    </tr>\n",
       "    <tr>\n",
       "      <th>3</th>\n",
       "      <td>4</td>\n",
       "      <td>0.167464</td>\n",
       "      <td>0.071770</td>\n",
       "    </tr>\n",
       "    <tr>\n",
       "      <th>4</th>\n",
       "      <td>5</td>\n",
       "      <td>0.202454</td>\n",
       "      <td>0.053988</td>\n",
       "    </tr>\n",
       "    <tr>\n",
       "      <th>5</th>\n",
       "      <td>6</td>\n",
       "      <td>0.193431</td>\n",
       "      <td>0.063260</td>\n",
       "    </tr>\n",
       "    <tr>\n",
       "      <th>6</th>\n",
       "      <td>7</td>\n",
       "      <td>0.193026</td>\n",
       "      <td>0.090909</td>\n",
       "    </tr>\n",
       "    <tr>\n",
       "      <th>7</th>\n",
       "      <td>8</td>\n",
       "      <td>0.189333</td>\n",
       "      <td>0.077333</td>\n",
       "    </tr>\n",
       "    <tr>\n",
       "      <th>8</th>\n",
       "      <td>9</td>\n",
       "      <td>0.307479</td>\n",
       "      <td>0.109418</td>\n",
       "    </tr>\n",
       "    <tr>\n",
       "      <th>9</th>\n",
       "      <td>10</td>\n",
       "      <td>0.286713</td>\n",
       "      <td>0.099301</td>\n",
       "    </tr>\n",
       "    <tr>\n",
       "      <th>10</th>\n",
       "      <td>11</td>\n",
       "      <td>0.196455</td>\n",
       "      <td>0.079764</td>\n",
       "    </tr>\n",
       "    <tr>\n",
       "      <th>11</th>\n",
       "      <td>12</td>\n",
       "      <td>0.186325</td>\n",
       "      <td>0.088889</td>\n",
       "    </tr>\n",
       "    <tr>\n",
       "      <th>12</th>\n",
       "      <td>13</td>\n",
       "      <td>0.269017</td>\n",
       "      <td>0.103896</td>\n",
       "    </tr>\n",
       "    <tr>\n",
       "      <th>13</th>\n",
       "      <td>14</td>\n",
       "      <td>0.294896</td>\n",
       "      <td>0.090737</td>\n",
       "    </tr>\n",
       "    <tr>\n",
       "      <th>14</th>\n",
       "      <td>15</td>\n",
       "      <td>0.303605</td>\n",
       "      <td>0.119545</td>\n",
       "    </tr>\n",
       "    <tr>\n",
       "      <th>15</th>\n",
       "      <td>16</td>\n",
       "      <td>0.354528</td>\n",
       "      <td>0.098266</td>\n",
       "    </tr>\n",
       "    <tr>\n",
       "      <th>16</th>\n",
       "      <td>17</td>\n",
       "      <td>0.252896</td>\n",
       "      <td>0.150579</td>\n",
       "    </tr>\n",
       "    <tr>\n",
       "      <th>17</th>\n",
       "      <td>18</td>\n",
       "      <td>0.317215</td>\n",
       "      <td>0.187621</td>\n",
       "    </tr>\n",
       "    <tr>\n",
       "      <th>18</th>\n",
       "      <td>19</td>\n",
       "      <td>0.462338</td>\n",
       "      <td>0.158442</td>\n",
       "    </tr>\n",
       "    <tr>\n",
       "      <th>19</th>\n",
       "      <td>20</td>\n",
       "      <td>0.454545</td>\n",
       "      <td>0.163102</td>\n",
       "    </tr>\n",
       "    <tr>\n",
       "      <th>20</th>\n",
       "      <td>21</td>\n",
       "      <td>0.586319</td>\n",
       "      <td>0.195440</td>\n",
       "    </tr>\n",
       "    <tr>\n",
       "      <th>21</th>\n",
       "      <td>22</td>\n",
       "      <td>0.601695</td>\n",
       "      <td>0.152542</td>\n",
       "    </tr>\n",
       "  </tbody>\n",
       "</table>\n",
       "</div>"
      ],
      "text/plain": [
       "    Match Week        CR        WO\n",
       "0            1  0.111247  0.046455\n",
       "1            2  0.142005  0.053699\n",
       "2            3  0.179762  0.051190\n",
       "3            4  0.167464  0.071770\n",
       "4            5  0.202454  0.053988\n",
       "5            6  0.193431  0.063260\n",
       "6            7  0.193026  0.090909\n",
       "7            8  0.189333  0.077333\n",
       "8            9  0.307479  0.109418\n",
       "9           10  0.286713  0.099301\n",
       "10          11  0.196455  0.079764\n",
       "11          12  0.186325  0.088889\n",
       "12          13  0.269017  0.103896\n",
       "13          14  0.294896  0.090737\n",
       "14          15  0.303605  0.119545\n",
       "15          16  0.354528  0.098266\n",
       "16          17  0.252896  0.150579\n",
       "17          18  0.317215  0.187621\n",
       "18          19  0.462338  0.158442\n",
       "19          20  0.454545  0.163102\n",
       "20          21  0.586319  0.195440\n",
       "21          22  0.601695  0.152542"
      ]
     },
     "execution_count": 302,
     "metadata": {},
     "output_type": "execute_result"
    }
   ],
   "source": [
    "cr_wo_data = cr_wo_data.set_index('Match Week').reindex(range(1, cr_wo_data['Match Week'].max() + 1)).reset_index()\n",
    "cr_wo_data"
   ]
  },
  {
   "cell_type": "code",
   "execution_count": 303,
   "metadata": {},
   "outputs": [
    {
     "data": {
      "text/html": [
       "<div>\n",
       "<style scoped>\n",
       "    .dataframe tbody tr th:only-of-type {\n",
       "        vertical-align: middle;\n",
       "    }\n",
       "\n",
       "    .dataframe tbody tr th {\n",
       "        vertical-align: top;\n",
       "    }\n",
       "\n",
       "    .dataframe thead th {\n",
       "        text-align: right;\n",
       "    }\n",
       "</style>\n",
       "<table border=\"1\" class=\"dataframe\">\n",
       "  <thead>\n",
       "    <tr style=\"text-align: right;\">\n",
       "      <th></th>\n",
       "      <th>Match Week</th>\n",
       "      <th>CR</th>\n",
       "      <th>WO</th>\n",
       "      <th>Home Score</th>\n",
       "    </tr>\n",
       "  </thead>\n",
       "  <tbody>\n",
       "    <tr>\n",
       "      <th>0</th>\n",
       "      <td>1</td>\n",
       "      <td>0.111247</td>\n",
       "      <td>0.046455</td>\n",
       "      <td>818</td>\n",
       "    </tr>\n",
       "    <tr>\n",
       "      <th>1</th>\n",
       "      <td>2</td>\n",
       "      <td>0.142005</td>\n",
       "      <td>0.053699</td>\n",
       "      <td>838</td>\n",
       "    </tr>\n",
       "    <tr>\n",
       "      <th>2</th>\n",
       "      <td>3</td>\n",
       "      <td>0.179762</td>\n",
       "      <td>0.051190</td>\n",
       "      <td>840</td>\n",
       "    </tr>\n",
       "    <tr>\n",
       "      <th>3</th>\n",
       "      <td>4</td>\n",
       "      <td>0.167464</td>\n",
       "      <td>0.071770</td>\n",
       "      <td>836</td>\n",
       "    </tr>\n",
       "    <tr>\n",
       "      <th>4</th>\n",
       "      <td>5</td>\n",
       "      <td>0.202454</td>\n",
       "      <td>0.053988</td>\n",
       "      <td>815</td>\n",
       "    </tr>\n",
       "    <tr>\n",
       "      <th>5</th>\n",
       "      <td>6</td>\n",
       "      <td>0.193431</td>\n",
       "      <td>0.063260</td>\n",
       "      <td>822</td>\n",
       "    </tr>\n",
       "    <tr>\n",
       "      <th>6</th>\n",
       "      <td>7</td>\n",
       "      <td>0.193026</td>\n",
       "      <td>0.090909</td>\n",
       "      <td>803</td>\n",
       "    </tr>\n",
       "    <tr>\n",
       "      <th>7</th>\n",
       "      <td>8</td>\n",
       "      <td>0.189333</td>\n",
       "      <td>0.077333</td>\n",
       "      <td>750</td>\n",
       "    </tr>\n",
       "    <tr>\n",
       "      <th>8</th>\n",
       "      <td>9</td>\n",
       "      <td>0.307479</td>\n",
       "      <td>0.109418</td>\n",
       "      <td>722</td>\n",
       "    </tr>\n",
       "    <tr>\n",
       "      <th>9</th>\n",
       "      <td>10</td>\n",
       "      <td>0.286713</td>\n",
       "      <td>0.099301</td>\n",
       "      <td>715</td>\n",
       "    </tr>\n",
       "    <tr>\n",
       "      <th>10</th>\n",
       "      <td>11</td>\n",
       "      <td>0.196455</td>\n",
       "      <td>0.079764</td>\n",
       "      <td>677</td>\n",
       "    </tr>\n",
       "    <tr>\n",
       "      <th>11</th>\n",
       "      <td>12</td>\n",
       "      <td>0.186325</td>\n",
       "      <td>0.088889</td>\n",
       "      <td>585</td>\n",
       "    </tr>\n",
       "    <tr>\n",
       "      <th>12</th>\n",
       "      <td>13</td>\n",
       "      <td>0.269017</td>\n",
       "      <td>0.103896</td>\n",
       "      <td>539</td>\n",
       "    </tr>\n",
       "    <tr>\n",
       "      <th>13</th>\n",
       "      <td>14</td>\n",
       "      <td>0.294896</td>\n",
       "      <td>0.090737</td>\n",
       "      <td>529</td>\n",
       "    </tr>\n",
       "    <tr>\n",
       "      <th>14</th>\n",
       "      <td>15</td>\n",
       "      <td>0.303605</td>\n",
       "      <td>0.119545</td>\n",
       "      <td>527</td>\n",
       "    </tr>\n",
       "    <tr>\n",
       "      <th>15</th>\n",
       "      <td>16</td>\n",
       "      <td>0.354528</td>\n",
       "      <td>0.098266</td>\n",
       "      <td>519</td>\n",
       "    </tr>\n",
       "    <tr>\n",
       "      <th>16</th>\n",
       "      <td>17</td>\n",
       "      <td>0.252896</td>\n",
       "      <td>0.150579</td>\n",
       "      <td>518</td>\n",
       "    </tr>\n",
       "    <tr>\n",
       "      <th>17</th>\n",
       "      <td>18</td>\n",
       "      <td>0.317215</td>\n",
       "      <td>0.187621</td>\n",
       "      <td>517</td>\n",
       "    </tr>\n",
       "    <tr>\n",
       "      <th>18</th>\n",
       "      <td>19</td>\n",
       "      <td>0.462338</td>\n",
       "      <td>0.158442</td>\n",
       "      <td>385</td>\n",
       "    </tr>\n",
       "    <tr>\n",
       "      <th>19</th>\n",
       "      <td>20</td>\n",
       "      <td>0.454545</td>\n",
       "      <td>0.163102</td>\n",
       "      <td>374</td>\n",
       "    </tr>\n",
       "    <tr>\n",
       "      <th>20</th>\n",
       "      <td>21</td>\n",
       "      <td>0.586319</td>\n",
       "      <td>0.195440</td>\n",
       "      <td>307</td>\n",
       "    </tr>\n",
       "    <tr>\n",
       "      <th>21</th>\n",
       "      <td>22</td>\n",
       "      <td>0.601695</td>\n",
       "      <td>0.152542</td>\n",
       "      <td>118</td>\n",
       "    </tr>\n",
       "  </tbody>\n",
       "</table>\n",
       "</div>"
      ],
      "text/plain": [
       "    Match Week        CR        WO  Home Score\n",
       "0            1  0.111247  0.046455         818\n",
       "1            2  0.142005  0.053699         838\n",
       "2            3  0.179762  0.051190         840\n",
       "3            4  0.167464  0.071770         836\n",
       "4            5  0.202454  0.053988         815\n",
       "5            6  0.193431  0.063260         822\n",
       "6            7  0.193026  0.090909         803\n",
       "7            8  0.189333  0.077333         750\n",
       "8            9  0.307479  0.109418         722\n",
       "9           10  0.286713  0.099301         715\n",
       "10          11  0.196455  0.079764         677\n",
       "11          12  0.186325  0.088889         585\n",
       "12          13  0.269017  0.103896         539\n",
       "13          14  0.294896  0.090737         529\n",
       "14          15  0.303605  0.119545         527\n",
       "15          16  0.354528  0.098266         519\n",
       "16          17  0.252896  0.150579         518\n",
       "17          18  0.317215  0.187621         517\n",
       "18          19  0.462338  0.158442         385\n",
       "19          20  0.454545  0.163102         374\n",
       "20          21  0.586319  0.195440         307\n",
       "21          22  0.601695  0.152542         118"
      ]
     },
     "execution_count": 303,
     "metadata": {},
     "output_type": "execute_result"
    }
   ],
   "source": [
    "# Merge cr_wo_data with match_week_count\n",
    "cr_wo_data = cr_wo_data.merge(match_week_count, on='Match Week', how='left')\n",
    "cr_wo_data"
   ]
  },
  {
   "cell_type": "code",
   "execution_count": 304,
   "metadata": {},
   "outputs": [
    {
     "data": {
      "image/png": "[encoded data removed]",
      "text/plain": [
       "<Figure size 1000x600 with 2 Axes>"
      ]
     },
     "metadata": {},
     "output_type": "display_data"
    }
   ],
   "source": [
    "# Create graph to show average CR and WO per match by Match Week without confidence intervals\n",
    "fig, ax = plt.subplots(figsize=(10, 6))\n",
    "sns.lineplot(data=cr_wo_data, x='Match Week', y='CR', label='CR', errorbar=None, color='blue')\n",
    "sns.lineplot(data=cr_wo_data, x='Match Week', y='WO', label='WO', errorbar=None, color='orange')\n",
    "\n",
    "# Add axis to show count of matches per Match Week\n",
    "ax2 = ax.twinx()\n",
    "sns.barplot(data=cr_wo_data, x=\"Match Week\", y='Home Score', label='Matches', color='grey', ax=ax2, alpha=0.15)\n",
    "sns.despine(right=False)\n",
    "\n",
    "plt.title('Average CR and WO per match by Match Week')\n",
    "\n",
    "# Set the title of the left y-axis\n",
    "ax.set_ylabel(\"Average CR / WO per match\", rotation=90, labelpad=15)\n",
    "# Set the title of the right y-axis\n",
    "ax2.set_ylabel(\"Total Matches Played\", rotation=-90, labelpad=15)\n",
    "plt.xlabel('Match Week')\n",
    "plt.legend()\n",
    "plt.show()"
   ]
  },
  {
   "cell_type": "code",
   "execution_count": 358,
   "metadata": {},
   "outputs": [
    {
     "data": {
      "image/png": "[encoded data removed]",
      "text/plain": [
       "<Figure size 1000x600 with 2 Axes>"
      ]
     },
     "metadata": {},
     "output_type": "display_data"
    }
   ],
   "source": [
    "# Convert Match Week to categorical\n",
    "cr_wo_data['Match Week'] = cr_wo_data['Match Week'].astype('category')\n",
    "\n",
    "# Create the plot\n",
    "fig, ax = plt.subplots(figsize=(10, 6))\n",
    "\n",
    "# Plot lineplots\n",
    "sns.lineplot(data=cr_wo_data, x='Match Week', y='CR', label='CR', errorbar=None, color='blue', ax=ax)\n",
    "sns.lineplot(data=cr_wo_data, x='Match Week', y='WO', label='WO', errorbar=None, color='orange', ax=ax)\n",
    "\n",
    "# Add secondary axis with barplot\n",
    "ax2 = ax.twinx()\n",
    "sns.barplot(data=cr_wo_data, x='Match Week', y='Home Score', color='grey', ax=ax2, alpha=0.15, dodge=False)\n",
    "\n",
    "# Adjust x-axis ticks and labels\n",
    "ax.set_xticks(range(len(cr_wo_data['Match Week'])))\n",
    "ax.set_xticklabels(cr_wo_data['Match Week'])\n",
    "\n",
    "# Title and labels\n",
    "plt.title('Average CR and WO per match by Match Week')\n",
    "ax.set_ylabel(\"Average CR / WO per match\", rotation=90, labelpad=15)\n",
    "ax2.set_ylabel(\"Total Matches Played\", rotation=-90, labelpad=15)\n",
    "ax.set_xlabel(\"Match Week\")\n",
    "\n",
    "# Add legend for lineplots\n",
    "ax.legend(loc='upper left')\n",
    "\n",
    "plt.show()"
   ]
  },
  {
   "cell_type": "code",
   "execution_count": 305,
   "metadata": {},
   "outputs": [
    {
     "data": {
      "image/png": "[encoded data removed]",
      "text/plain": [
       "<Figure size 1000x600 with 1 Axes>"
      ]
     },
     "metadata": {},
     "output_type": "display_data"
    }
   ],
   "source": [
    "# Create graph to show average CR and WO per match by Match Week without confidence intervals\n",
    "fig, ax = plt.subplots(figsize=(10, 6))\n",
    "sns.lineplot(data=results_df, x='Match Week', y='CR', label='CR', errorbar=None, color='blue')\n",
    "sns.lineplot(data=results_df, x='Match Week', y='WO', label='WO', errorbar=None, color='orange')\n",
    "plt.xlabel('Match Week')\n",
    "plt.legend()\n",
    "plt.show()"
   ]
  },
  {
   "cell_type": "code",
   "execution_count": 306,
   "metadata": {},
   "outputs": [
    {
     "data": {
      "text/plain": [
       "Match Week\n",
       "1     0.111247\n",
       "2     0.142005\n",
       "3     0.179762\n",
       "4     0.167464\n",
       "5     0.202454\n",
       "6     0.193431\n",
       "7     0.193026\n",
       "8     0.189333\n",
       "9     0.307479\n",
       "10    0.286713\n",
       "11    0.196455\n",
       "12    0.186325\n",
       "13    0.269017\n",
       "14    0.294896\n",
       "15    0.303605\n",
       "16    0.354528\n",
       "17    0.252896\n",
       "18    0.317215\n",
       "19    0.462338\n",
       "20    0.454545\n",
       "21    0.586319\n",
       "22    0.601695\n",
       "Name: CR, dtype: float64"
      ]
     },
     "execution_count": 306,
     "metadata": {},
     "output_type": "execute_result"
    }
   ],
   "source": [
    "results_df.groupby(\"Match Week\")[\"CR\"].mean()"
   ]
  },
  {
   "cell_type": "code",
   "execution_count": 307,
   "metadata": {},
   "outputs": [
    {
     "data": {
      "image/png": "[encoded data removed]",
      "text/plain": [
       "<Figure size 1200x600 with 1 Axes>"
      ]
     },
     "metadata": {},
     "output_type": "display_data"
    }
   ],
   "source": [
    "# Create graph to show average CR and WO per match by Season without confidence intervals\n",
    "plt.figure(figsize=(12, 6))\n",
    "sns.lineplot(data=results_df, x='Season', y='CR', label='CR', errorbar=None, color='blue')\n",
    "sns.lineplot(data=results_df, x='Season', y='WO', label='WO', errorbar=None, color='orange')\n",
    "sns.despine()\n",
    "\n",
    "plt.title('Average CR and WO per match by Season')\n",
    "plt.ylabel('Average CR / WO per match')\n",
    "plt.xlabel('Match Week')\n",
    "plt.legend()\n",
    "plt.show()"
   ]
  },
  {
   "cell_type": "code",
   "execution_count": 308,
   "metadata": {},
   "outputs": [
    {
     "name": "stderr",
     "output_type": "stream",
     "text": [
      "C:\\Users\\bpali\\AppData\\Local\\Temp\\ipykernel_31116\\2814105957.py:9: SettingWithCopyWarning: \n",
      "A value is trying to be set on a copy of a slice from a DataFrame.\n",
      "Try using .loc[row_indexer,col_indexer] = value instead\n",
      "\n",
      "See the caveats in the documentation: https://pandas.pydata.org/pandas-docs/stable/user_guide/indexing.html#returning-a-view-versus-a-copy\n",
      "  results_df_2016['CR_WO Rolling Mean'] = results_df_2016['CR_WO'].transform(lambda x: x.rolling(5, 1).mean())\n",
      "C:\\Users\\bpali\\AppData\\Local\\Temp\\ipykernel_31116\\2814105957.py:10: SettingWithCopyWarning: \n",
      "A value is trying to be set on a copy of a slice from a DataFrame.\n",
      "Try using .loc[row_indexer,col_indexer] = value instead\n",
      "\n",
      "See the caveats in the documentation: https://pandas.pydata.org/pandas-docs/stable/user_guide/indexing.html#returning-a-view-versus-a-copy\n",
      "  results_df_2017['CR_WO Rolling Mean'] = results_df_2017['CR_WO'].transform(lambda x: x.rolling(5, 1).mean())\n",
      "C:\\Users\\bpali\\AppData\\Local\\Temp\\ipykernel_31116\\2814105957.py:11: SettingWithCopyWarning: \n",
      "A value is trying to be set on a copy of a slice from a DataFrame.\n",
      "Try using .loc[row_indexer,col_indexer] = value instead\n",
      "\n",
      "See the caveats in the documentation: https://pandas.pydata.org/pandas-docs/stable/user_guide/indexing.html#returning-a-view-versus-a-copy\n",
      "  results_df_2018['CR_WO Rolling Mean'] = results_df_2018['CR_WO'].transform(lambda x: x.rolling(5, 1).mean())\n",
      "C:\\Users\\bpali\\AppData\\Local\\Temp\\ipykernel_31116\\2814105957.py:12: SettingWithCopyWarning: \n",
      "A value is trying to be set on a copy of a slice from a DataFrame.\n",
      "Try using .loc[row_indexer,col_indexer] = value instead\n",
      "\n",
      "See the caveats in the documentation: https://pandas.pydata.org/pandas-docs/stable/user_guide/indexing.html#returning-a-view-versus-a-copy\n",
      "  results_df_2022['CR_WO Rolling Mean'] = results_df_2022['CR_WO'].transform(lambda x: x.rolling(5, 1).mean())\n",
      "C:\\Users\\bpali\\AppData\\Local\\Temp\\ipykernel_31116\\2814105957.py:13: SettingWithCopyWarning: \n",
      "A value is trying to be set on a copy of a slice from a DataFrame.\n",
      "Try using .loc[row_indexer,col_indexer] = value instead\n",
      "\n",
      "See the caveats in the documentation: https://pandas.pydata.org/pandas-docs/stable/user_guide/indexing.html#returning-a-view-versus-a-copy\n",
      "  results_df_2023['CR_WO Rolling Mean'] = results_df_2023['CR_WO'].transform(lambda x: x.rolling(5, 1).mean())\n",
      "C:\\Users\\bpali\\AppData\\Local\\Temp\\ipykernel_31116\\2814105957.py:14: SettingWithCopyWarning: \n",
      "A value is trying to be set on a copy of a slice from a DataFrame.\n",
      "Try using .loc[row_indexer,col_indexer] = value instead\n",
      "\n",
      "See the caveats in the documentation: https://pandas.pydata.org/pandas-docs/stable/user_guide/indexing.html#returning-a-view-versus-a-copy\n",
      "  results_df_2024['CR_WO Rolling Mean'] = results_df_2024['CR_WO'].transform(lambda x: x.rolling(5, 1).mean())\n"
     ]
    }
   ],
   "source": [
    "results_df_2016 = results_df[results_df['Season'] == '2016-2017']\n",
    "results_df_2017 = results_df[results_df['Season'] == '2017-2018']\n",
    "results_df_2018 = results_df[results_df['Season'] == '2018-2019']\n",
    "results_df_2022 = results_df[results_df['Season'] == '2022-2023']\n",
    "results_df_2023 = results_df[results_df['Season'] == '2023-2024']\n",
    "results_df_2024 = results_df[results_df['Season'] == '2024-2025']\n",
    "\n",
    "# Create 5 Match Week rolling average of CR_WO for each season\n",
    "results_df_2016['CR_WO Rolling Mean'] = results_df_2016['CR_WO'].transform(lambda x: x.rolling(5, 1).mean())\n",
    "results_df_2017['CR_WO Rolling Mean'] = results_df_2017['CR_WO'].transform(lambda x: x.rolling(5, 1).mean())\n",
    "results_df_2018['CR_WO Rolling Mean'] = results_df_2018['CR_WO'].transform(lambda x: x.rolling(5, 1).mean())\n",
    "results_df_2022['CR_WO Rolling Mean'] = results_df_2022['CR_WO'].transform(lambda x: x.rolling(5, 1).mean())\n",
    "results_df_2023['CR_WO Rolling Mean'] = results_df_2023['CR_WO'].transform(lambda x: x.rolling(5, 1).mean())\n",
    "results_df_2024['CR_WO Rolling Mean'] = results_df_2024['CR_WO'].transform(lambda x: x.rolling(5, 1).mean())"
   ]
  },
  {
   "cell_type": "code",
   "execution_count": 309,
   "metadata": {},
   "outputs": [
    {
     "data": {
      "image/png": "[encoded data removed]",
      "text/plain": [
       "<Figure size 1000x600 with 1 Axes>"
      ]
     },
     "metadata": {},
     "output_type": "display_data"
    }
   ],
   "source": [
    "# Create graph to show average CR and WO per match by Match Week without confidence intervals\n",
    "fig, ax = plt.subplots(figsize=(10, 6))\n",
    "sns.lineplot(data=results_df_2016, x='Match Week', y='CR_WO Rolling Mean', label=\"2016-17\", errorbar=None, color='blue', alpha=0.15)\n",
    "sns.lineplot(data=results_df_2017, x='Match Week', y='CR_WO Rolling Mean', label=\"2017-18\", errorbar=None, color='orange', alpha=0.15)\n",
    "sns.lineplot(data=results_df_2018, x='Match Week', y='CR_WO Rolling Mean', label='2018-19', errorbar=None, color='green', alpha=0.15)\n",
    "sns.lineplot(data=results_df_2022, x='Match Week', y='CR_WO Rolling Mean', label='2022-23', errorbar=None, color='red', alpha=0.15)\n",
    "sns.lineplot(data=results_df_2023, x='Match Week', y='CR_WO Rolling Mean', label='2023-24', errorbar=None, color='purple', alpha=0.15)\n",
    "sns.lineplot(data=results_df_2024, x='Match Week', y='CR_WO Rolling Mean', label='2024-25', errorbar=None, color='brown', alpha=1)\n",
    "sns.despine()\n",
    "\n",
    "plt.title('Average CR and WO per match by Match Week')\n",
    "plt.ylabel('Average CR / WO per match')\n",
    "plt.xlabel('Match Week')\n",
    "plt.show()"
   ]
  },
  {
   "cell_type": "code",
   "execution_count": 310,
   "metadata": {},
   "outputs": [
    {
     "data": {
      "text/plain": [
       "Season\n",
       "2016-2017    0.202656\n",
       "2017-2018    0.328165\n",
       "2018-2019    0.351015\n",
       "2019-2020    0.315742\n",
       "2021-2022    0.253644\n",
       "2022-2023    0.430187\n",
       "2023-2024    0.513256\n",
       "2024-2025    0.244510\n",
       "dtype: float64"
      ]
     },
     "execution_count": 310,
     "metadata": {},
     "output_type": "execute_result"
    }
   ],
   "source": [
    "# For results_df, group by 'Season', sum \"CR_WO\" and divide by the number of matches played in that season\n",
    "results_df.groupby('Season')['CR_WO'].sum() / results_df.groupby('Season')['Match Week'].count()"
   ]
  },
  {
   "cell_type": "code",
   "execution_count": 311,
   "metadata": {},
   "outputs": [
    {
     "data": {
      "text/plain": [
       "Season\n",
       "2016-2017    473\n",
       "2017-2018    762\n",
       "2018-2019    847\n",
       "2019-2020    353\n",
       "2021-2022    261\n",
       "2022-2023    761\n",
       "2023-2024    968\n",
       "2024-2025    167\n",
       "Name: CR_WO, dtype: int64"
      ]
     },
     "execution_count": 311,
     "metadata": {},
     "output_type": "execute_result"
    }
   ],
   "source": [
    "results_df.groupby('Season')['CR_WO'].sum()"
   ]
  },
  {
   "cell_type": "code",
   "execution_count": 312,
   "metadata": {},
   "outputs": [
    {
     "data": {
      "text/plain": [
       "Season\n",
       "2016-2017    2334\n",
       "2017-2018    2322\n",
       "2018-2019    2413\n",
       "2019-2020    1118\n",
       "2021-2022    1029\n",
       "2022-2023    1769\n",
       "2023-2024    1886\n",
       "2024-2025     683\n",
       "Name: Home Score, dtype: int64"
      ]
     },
     "execution_count": 312,
     "metadata": {},
     "output_type": "execute_result"
    }
   ],
   "source": [
    "# Count total number of matches per Season\n",
    "results_df.groupby('Season')['Home Score'].count()"
   ]
  },
  {
   "cell_type": "markdown",
   "metadata": {},
   "source": [
    "### Total number of unique registered players by season"
   ]
  },
  {
   "cell_type": "code",
   "execution_count": 313,
   "metadata": {},
   "outputs": [
    {
     "data": {
      "text/plain": [
       "Season\n",
       "2016-2017    1890\n",
       "2017-2018    1946\n",
       "2018-2019    1900\n",
       "2019-2020    1925\n",
       "2021-2022    1592\n",
       "2022-2023    1519\n",
       "2023-2024    1657\n",
       "2024-2025    1698\n",
       "Name: Name of Player, dtype: int64"
      ]
     },
     "execution_count": 313,
     "metadata": {},
     "output_type": "execute_result"
    }
   ],
   "source": [
    "# Get total number of players in each season\n",
    "total_players = final_ranking_df.groupby(\"Season\")[\"Name of Player\"].nunique()\n",
    "total_players"
   ]
  },
  {
   "cell_type": "code",
   "execution_count": 314,
   "metadata": {},
   "outputs": [
    {
     "data": {
      "image/png": "[encoded data removed]",
      "text/plain": [
       "<Figure size 1200x600 with 1 Axes>"
      ]
     },
     "metadata": {},
     "output_type": "display_data"
    }
   ],
   "source": [
    "# Create plot to show total number of players in each season\n",
    "plt.figure(figsize=(12, 6))\n",
    "sns.barplot(x=total_players.index, y=total_players.values, color='darkgreen')\n",
    "plt.title('Total number of registered players in each season', y=1.02, size=15)\n",
    "plt.ylabel('Total number of players')\n",
    "plt.xlabel('Season')\n",
    "sns.despine()\n",
    "plt.show()"
   ]
  },
  {
   "cell_type": "markdown",
   "metadata": {},
   "source": [
    "### Total number of unique players in each season to have played 5+ games"
   ]
  },
  {
   "cell_type": "code",
   "execution_count": 315,
   "metadata": {},
   "outputs": [
    {
     "data": {
      "text/plain": [
       "Season\n",
       "2016-2017    1597\n",
       "2017-2018    1593\n",
       "2018-2019    1584\n",
       "2019-2020    1080\n",
       "2021-2022     980\n",
       "2022-2023    1252\n",
       "2023-2024    1336\n",
       "2024-2025     471\n",
       "Name: Name of Player, dtype: int64"
      ]
     },
     "execution_count": 315,
     "metadata": {},
     "output_type": "execute_result"
    }
   ],
   "source": [
    "# Get total number of players in each season who have played at least 5 matches\n",
    "total_players_5 = final_ranking_df[final_ranking_df[\"Games Played\"] >= 5].groupby(\"Season\")[\"Name of Player\"].nunique()\n",
    "total_players_5"
   ]
  },
  {
   "cell_type": "markdown",
   "metadata": {},
   "source": [
    "### Show which divisions players played in over the seasons"
   ]
  },
  {
   "cell_type": "code",
   "execution_count": 316,
   "metadata": {},
   "outputs": [],
   "source": [
    "# Filter big_df to only include players who have played 5+ games\n",
    "final_ranking_df_filtered = final_ranking_df[final_ranking_df[\"Games Played\"] >= 1]"
   ]
  },
  {
   "cell_type": "code",
   "execution_count": 317,
   "metadata": {},
   "outputs": [],
   "source": [
    "# Drop rows where Division is NaN\n",
    "final_ranking_df_filtered = final_ranking_df_filtered.dropna(subset=[\"Division\"]).copy()\n",
    "# Filter out rows where Division contains \"M\" or \"L\"\n",
    "final_ranking_df_filtered = final_ranking_df_filtered[~final_ranking_df_filtered[\"Division\"].str.contains(\"M|L\", na=False)]\n",
    "# Aggregate the data to ensure no duplicate entries\n",
    "final_ranking_df_filtered_unique = final_ranking_df_filtered.groupby([\"Name of Player\", \"Season\"])[\"Division\"].first().reset_index()\n",
    "# Create a new dataframe where the seasons are the columns, the rows are the players, and the values are the division the player was in that season\n",
    "player_divisions = final_ranking_df_filtered_unique.pivot(index=\"Name of Player\", columns=\"Season\", values=\"Division\")"
   ]
  },
  {
   "cell_type": "code",
   "execution_count": 318,
   "metadata": {},
   "outputs": [
    {
     "data": {
      "text/html": [
       "<div>\n",
       "<style scoped>\n",
       "    .dataframe tbody tr th:only-of-type {\n",
       "        vertical-align: middle;\n",
       "    }\n",
       "\n",
       "    .dataframe tbody tr th {\n",
       "        vertical-align: top;\n",
       "    }\n",
       "\n",
       "    .dataframe thead th {\n",
       "        text-align: right;\n",
       "    }\n",
       "</style>\n",
       "<table border=\"1\" class=\"dataframe\">\n",
       "  <thead>\n",
       "    <tr style=\"text-align: right;\">\n",
       "      <th>Season</th>\n",
       "      <th>2016-2017</th>\n",
       "      <th>2017-2018</th>\n",
       "      <th>2018-2019</th>\n",
       "      <th>2019-2020</th>\n",
       "      <th>2021-2022</th>\n",
       "      <th>2022-2023</th>\n",
       "      <th>2023-2024</th>\n",
       "      <th>2024-2025</th>\n",
       "    </tr>\n",
       "    <tr>\n",
       "      <th>Name of Player</th>\n",
       "      <th></th>\n",
       "      <th></th>\n",
       "      <th></th>\n",
       "      <th></th>\n",
       "      <th></th>\n",
       "      <th></th>\n",
       "      <th></th>\n",
       "      <th></th>\n",
       "    </tr>\n",
       "  </thead>\n",
       "  <tbody>\n",
       "    <tr>\n",
       "      <th>* Chak Tony Kin Chung</th>\n",
       "      <td>15</td>\n",
       "      <td>12B</td>\n",
       "      <td>12A</td>\n",
       "      <td>NaN</td>\n",
       "      <td>17A</td>\n",
       "      <td>NaN</td>\n",
       "      <td>NaN</td>\n",
       "      <td>NaN</td>\n",
       "    </tr>\n",
       "    <tr>\n",
       "      <th>* Chan Kwok Wa</th>\n",
       "      <td>NaN</td>\n",
       "      <td>15B</td>\n",
       "      <td>16</td>\n",
       "      <td>15</td>\n",
       "      <td>15A</td>\n",
       "      <td>12A</td>\n",
       "      <td>NaN</td>\n",
       "      <td>NaN</td>\n",
       "    </tr>\n",
       "    <tr>\n",
       "      <th>* Cheung Tony Cheuk Lim</th>\n",
       "      <td>15</td>\n",
       "      <td>12B</td>\n",
       "      <td>12A</td>\n",
       "      <td>NaN</td>\n",
       "      <td>17A</td>\n",
       "      <td>17A</td>\n",
       "      <td>NaN</td>\n",
       "      <td>NaN</td>\n",
       "    </tr>\n",
       "    <tr>\n",
       "      <th>* Ho Kin Fung</th>\n",
       "      <td>NaN</td>\n",
       "      <td>12B</td>\n",
       "      <td>12A</td>\n",
       "      <td>NaN</td>\n",
       "      <td>17A</td>\n",
       "      <td>17A</td>\n",
       "      <td>NaN</td>\n",
       "      <td>NaN</td>\n",
       "    </tr>\n",
       "    <tr>\n",
       "      <th>* Ho Kwan Yin</th>\n",
       "      <td>NaN</td>\n",
       "      <td>NaN</td>\n",
       "      <td>NaN</td>\n",
       "      <td>NaN</td>\n",
       "      <td>NaN</td>\n",
       "      <td>NaN</td>\n",
       "      <td>NaN</td>\n",
       "      <td>4</td>\n",
       "    </tr>\n",
       "    <tr>\n",
       "      <th>...</th>\n",
       "      <td>...</td>\n",
       "      <td>...</td>\n",
       "      <td>...</td>\n",
       "      <td>...</td>\n",
       "      <td>...</td>\n",
       "      <td>...</td>\n",
       "      <td>...</td>\n",
       "      <td>...</td>\n",
       "    </tr>\n",
       "    <tr>\n",
       "      <th>^ West Steven</th>\n",
       "      <td>NaN</td>\n",
       "      <td>NaN</td>\n",
       "      <td>8</td>\n",
       "      <td>8</td>\n",
       "      <td>5</td>\n",
       "      <td>4</td>\n",
       "      <td>2</td>\n",
       "      <td>NaN</td>\n",
       "    </tr>\n",
       "    <tr>\n",
       "      <th>^ Windmill Mark</th>\n",
       "      <td>4</td>\n",
       "      <td>4</td>\n",
       "      <td>5</td>\n",
       "      <td>4</td>\n",
       "      <td>NaN</td>\n",
       "      <td>NaN</td>\n",
       "      <td>NaN</td>\n",
       "      <td>NaN</td>\n",
       "    </tr>\n",
       "    <tr>\n",
       "      <th>^ Yu Vincent Hok Yan</th>\n",
       "      <td>2</td>\n",
       "      <td>2</td>\n",
       "      <td>2</td>\n",
       "      <td>2</td>\n",
       "      <td>2</td>\n",
       "      <td>2</td>\n",
       "      <td>2</td>\n",
       "      <td>NaN</td>\n",
       "    </tr>\n",
       "    <tr>\n",
       "      <th>^ Zhang James</th>\n",
       "      <td>3</td>\n",
       "      <td>4</td>\n",
       "      <td>3</td>\n",
       "      <td>4</td>\n",
       "      <td>3</td>\n",
       "      <td>3</td>\n",
       "      <td>NaN</td>\n",
       "      <td>NaN</td>\n",
       "    </tr>\n",
       "    <tr>\n",
       "      <th>da Silva Juan</th>\n",
       "      <td>NaN</td>\n",
       "      <td>NaN</td>\n",
       "      <td>NaN</td>\n",
       "      <td>11</td>\n",
       "      <td>4</td>\n",
       "      <td>4</td>\n",
       "      <td>5</td>\n",
       "      <td>4</td>\n",
       "    </tr>\n",
       "  </tbody>\n",
       "</table>\n",
       "<p>3566 rows × 8 columns</p>\n",
       "</div>"
      ],
      "text/plain": [
       "Season                  2016-2017 2017-2018 2018-2019 2019-2020 2021-2022  \\\n",
       "Name of Player                                                              \n",
       "* Chak Tony Kin Chung          15       12B       12A       NaN       17A   \n",
       "* Chan Kwok Wa                NaN       15B        16        15       15A   \n",
       "* Cheung Tony Cheuk Lim        15       12B       12A       NaN       17A   \n",
       "* Ho Kin Fung                 NaN       12B       12A       NaN       17A   \n",
       "* Ho Kwan Yin                 NaN       NaN       NaN       NaN       NaN   \n",
       "...                           ...       ...       ...       ...       ...   \n",
       "^ West Steven                 NaN       NaN         8         8         5   \n",
       "^ Windmill Mark                 4         4         5         4       NaN   \n",
       "^ Yu Vincent Hok Yan            2         2         2         2         2   \n",
       "^ Zhang James                   3         4         3         4         3   \n",
       "da Silva Juan                 NaN       NaN       NaN        11         4   \n",
       "\n",
       "Season                  2022-2023 2023-2024 2024-2025  \n",
       "Name of Player                                         \n",
       "* Chak Tony Kin Chung         NaN       NaN       NaN  \n",
       "* Chan Kwok Wa                12A       NaN       NaN  \n",
       "* Cheung Tony Cheuk Lim       17A       NaN       NaN  \n",
       "* Ho Kin Fung                 17A       NaN       NaN  \n",
       "* Ho Kwan Yin                 NaN       NaN         4  \n",
       "...                           ...       ...       ...  \n",
       "^ West Steven                   4         2       NaN  \n",
       "^ Windmill Mark               NaN       NaN       NaN  \n",
       "^ Yu Vincent Hok Yan            2         2       NaN  \n",
       "^ Zhang James                   3       NaN       NaN  \n",
       "da Silva Juan                   4         5         4  \n",
       "\n",
       "[3566 rows x 8 columns]"
      ]
     },
     "execution_count": 318,
     "metadata": {},
     "output_type": "execute_result"
    }
   ],
   "source": [
    "player_divisions"
   ]
  },
  {
   "cell_type": "code",
   "execution_count": 319,
   "metadata": {},
   "outputs": [],
   "source": [
    "# Add a column to player_divisions that contains the number of seasons each player has played in, then sort by that column\n",
    "player_divisions[\"Seasons Played\"] = player_divisions.count(axis=1)\n",
    "player_divisions_sorted = player_divisions.sort_values(by=\"Seasons Played\", ascending=False)"
   ]
  },
  {
   "cell_type": "code",
   "execution_count": 320,
   "metadata": {},
   "outputs": [
    {
     "data": {
      "text/html": [
       "<div>\n",
       "<style scoped>\n",
       "    .dataframe tbody tr th:only-of-type {\n",
       "        vertical-align: middle;\n",
       "    }\n",
       "\n",
       "    .dataframe tbody tr th {\n",
       "        vertical-align: top;\n",
       "    }\n",
       "\n",
       "    .dataframe thead th {\n",
       "        text-align: right;\n",
       "    }\n",
       "</style>\n",
       "<table border=\"1\" class=\"dataframe\">\n",
       "  <thead>\n",
       "    <tr style=\"text-align: right;\">\n",
       "      <th>Season</th>\n",
       "      <th>2016-2017</th>\n",
       "      <th>2017-2018</th>\n",
       "      <th>2018-2019</th>\n",
       "      <th>2019-2020</th>\n",
       "      <th>2021-2022</th>\n",
       "      <th>2022-2023</th>\n",
       "      <th>2023-2024</th>\n",
       "      <th>2024-2025</th>\n",
       "      <th>Seasons Played</th>\n",
       "    </tr>\n",
       "    <tr>\n",
       "      <th>Name of Player</th>\n",
       "      <th></th>\n",
       "      <th></th>\n",
       "      <th></th>\n",
       "      <th></th>\n",
       "      <th></th>\n",
       "      <th></th>\n",
       "      <th></th>\n",
       "      <th></th>\n",
       "      <th></th>\n",
       "    </tr>\n",
       "  </thead>\n",
       "  <tbody>\n",
       "    <tr>\n",
       "      <th>Adams David</th>\n",
       "      <td>10</td>\n",
       "      <td>11</td>\n",
       "      <td>11A</td>\n",
       "      <td>13A</td>\n",
       "      <td>13B</td>\n",
       "      <td>13</td>\n",
       "      <td>11</td>\n",
       "      <td>10</td>\n",
       "      <td>8</td>\n",
       "    </tr>\n",
       "    <tr>\n",
       "      <th>Adjemian Nicolas</th>\n",
       "      <td>13</td>\n",
       "      <td>10</td>\n",
       "      <td>13A</td>\n",
       "      <td>13A</td>\n",
       "      <td>10</td>\n",
       "      <td>10</td>\n",
       "      <td>10</td>\n",
       "      <td>6</td>\n",
       "      <td>8</td>\n",
       "    </tr>\n",
       "    <tr>\n",
       "      <th>Au Alex Ka Man</th>\n",
       "      <td>6</td>\n",
       "      <td>7B</td>\n",
       "      <td>7</td>\n",
       "      <td>9</td>\n",
       "      <td>8</td>\n",
       "      <td>10</td>\n",
       "      <td>10</td>\n",
       "      <td>7A</td>\n",
       "      <td>8</td>\n",
       "    </tr>\n",
       "    <tr>\n",
       "      <th>Au Ling Yu</th>\n",
       "      <td>18B</td>\n",
       "      <td>12A</td>\n",
       "      <td>10</td>\n",
       "      <td>5</td>\n",
       "      <td>4</td>\n",
       "      <td>3</td>\n",
       "      <td>3</td>\n",
       "      <td>3</td>\n",
       "      <td>8</td>\n",
       "    </tr>\n",
       "    <tr>\n",
       "      <th>Au Shuk Ting</th>\n",
       "      <td>17A</td>\n",
       "      <td>14</td>\n",
       "      <td>14</td>\n",
       "      <td>13A</td>\n",
       "      <td>13A</td>\n",
       "      <td>16</td>\n",
       "      <td>14</td>\n",
       "      <td>7B</td>\n",
       "      <td>8</td>\n",
       "    </tr>\n",
       "    <tr>\n",
       "      <th>...</th>\n",
       "      <td>...</td>\n",
       "      <td>...</td>\n",
       "      <td>...</td>\n",
       "      <td>...</td>\n",
       "      <td>...</td>\n",
       "      <td>...</td>\n",
       "      <td>...</td>\n",
       "      <td>...</td>\n",
       "      <td>...</td>\n",
       "    </tr>\n",
       "    <tr>\n",
       "      <th>Yip Tsz Ho</th>\n",
       "      <td>10</td>\n",
       "      <td>4</td>\n",
       "      <td>3</td>\n",
       "      <td>3</td>\n",
       "      <td>6</td>\n",
       "      <td>4</td>\n",
       "      <td>2</td>\n",
       "      <td>3</td>\n",
       "      <td>8</td>\n",
       "    </tr>\n",
       "    <tr>\n",
       "      <th>Yiu Sai Ngoi</th>\n",
       "      <td>9</td>\n",
       "      <td>11</td>\n",
       "      <td>11A</td>\n",
       "      <td>12B</td>\n",
       "      <td>12A</td>\n",
       "      <td>12A</td>\n",
       "      <td>12A</td>\n",
       "      <td>8B</td>\n",
       "      <td>8</td>\n",
       "    </tr>\n",
       "    <tr>\n",
       "      <th>Young Ki Chun</th>\n",
       "      <td>15</td>\n",
       "      <td>14</td>\n",
       "      <td>13B</td>\n",
       "      <td>13A</td>\n",
       "      <td>15A</td>\n",
       "      <td>12A</td>\n",
       "      <td>13</td>\n",
       "      <td>8A</td>\n",
       "      <td>8</td>\n",
       "    </tr>\n",
       "    <tr>\n",
       "      <th>Yuen Amos Wing Keung</th>\n",
       "      <td>15</td>\n",
       "      <td>15B</td>\n",
       "      <td>13A</td>\n",
       "      <td>15</td>\n",
       "      <td>15A</td>\n",
       "      <td>16</td>\n",
       "      <td>16</td>\n",
       "      <td>12</td>\n",
       "      <td>8</td>\n",
       "    </tr>\n",
       "    <tr>\n",
       "      <th>Yung Kai Sing</th>\n",
       "      <td>15</td>\n",
       "      <td>15A</td>\n",
       "      <td>17B</td>\n",
       "      <td>15</td>\n",
       "      <td>15B</td>\n",
       "      <td>15B</td>\n",
       "      <td>15</td>\n",
       "      <td>11</td>\n",
       "      <td>8</td>\n",
       "    </tr>\n",
       "  </tbody>\n",
       "</table>\n",
       "<p>308 rows × 9 columns</p>\n",
       "</div>"
      ],
      "text/plain": [
       "Season               2016-2017 2017-2018 2018-2019 2019-2020 2021-2022  \\\n",
       "Name of Player                                                           \n",
       "Adams David                 10        11       11A       13A       13B   \n",
       "Adjemian Nicolas            13        10       13A       13A        10   \n",
       "Au Alex Ka Man               6        7B         7         9         8   \n",
       "Au Ling Yu                 18B       12A        10         5         4   \n",
       "Au Shuk Ting               17A        14        14       13A       13A   \n",
       "...                        ...       ...       ...       ...       ...   \n",
       "Yip Tsz Ho                  10         4         3         3         6   \n",
       "Yiu Sai Ngoi                 9        11       11A       12B       12A   \n",
       "Young Ki Chun               15        14       13B       13A       15A   \n",
       "Yuen Amos Wing Keung        15       15B       13A        15       15A   \n",
       "Yung Kai Sing               15       15A       17B        15       15B   \n",
       "\n",
       "Season               2022-2023 2023-2024 2024-2025  Seasons Played  \n",
       "Name of Player                                                      \n",
       "Adams David                 13        11        10               8  \n",
       "Adjemian Nicolas            10        10         6               8  \n",
       "Au Alex Ka Man              10        10        7A               8  \n",
       "Au Ling Yu                   3         3         3               8  \n",
       "Au Shuk Ting                16        14        7B               8  \n",
       "...                        ...       ...       ...             ...  \n",
       "Yip Tsz Ho                   4         2         3               8  \n",
       "Yiu Sai Ngoi               12A       12A        8B               8  \n",
       "Young Ki Chun              12A        13        8A               8  \n",
       "Yuen Amos Wing Keung        16        16        12               8  \n",
       "Yung Kai Sing              15B        15        11               8  \n",
       "\n",
       "[308 rows x 9 columns]"
      ]
     },
     "execution_count": 320,
     "metadata": {},
     "output_type": "execute_result"
    }
   ],
   "source": [
    "player_divisions_sorted[player_divisions_sorted[\"Seasons Played\"] == 8].sort_values(by=\"Name of Player\")"
   ]
  },
  {
   "cell_type": "code",
   "execution_count": 321,
   "metadata": {},
   "outputs": [
    {
     "data": {
      "text/html": [
       "<div>\n",
       "<style scoped>\n",
       "    .dataframe tbody tr th:only-of-type {\n",
       "        vertical-align: middle;\n",
       "    }\n",
       "\n",
       "    .dataframe tbody tr th {\n",
       "        vertical-align: top;\n",
       "    }\n",
       "\n",
       "    .dataframe thead th {\n",
       "        text-align: right;\n",
       "    }\n",
       "</style>\n",
       "<table border=\"1\" class=\"dataframe\">\n",
       "  <thead>\n",
       "    <tr style=\"text-align: right;\">\n",
       "      <th>Season</th>\n",
       "      <th>2016-2017</th>\n",
       "      <th>2017-2018</th>\n",
       "      <th>2018-2019</th>\n",
       "      <th>2019-2020</th>\n",
       "      <th>2021-2022</th>\n",
       "      <th>2022-2023</th>\n",
       "      <th>2023-2024</th>\n",
       "      <th>2024-2025</th>\n",
       "      <th>Seasons Played</th>\n",
       "    </tr>\n",
       "    <tr>\n",
       "      <th>Name of Player</th>\n",
       "      <th></th>\n",
       "      <th></th>\n",
       "      <th></th>\n",
       "      <th></th>\n",
       "      <th></th>\n",
       "      <th></th>\n",
       "      <th></th>\n",
       "      <th></th>\n",
       "      <th></th>\n",
       "    </tr>\n",
       "  </thead>\n",
       "  <tbody>\n",
       "    <tr>\n",
       "      <th>Yeung Himmy Cheuk Him</th>\n",
       "      <td>NaN</td>\n",
       "      <td>10</td>\n",
       "      <td>7</td>\n",
       "      <td>7</td>\n",
       "      <td>7</td>\n",
       "      <td>7</td>\n",
       "      <td>7</td>\n",
       "      <td>7B</td>\n",
       "      <td>7</td>\n",
       "    </tr>\n",
       "  </tbody>\n",
       "</table>\n",
       "</div>"
      ],
      "text/plain": [
       "Season                2016-2017 2017-2018 2018-2019 2019-2020 2021-2022  \\\n",
       "Name of Player                                                            \n",
       "Yeung Himmy Cheuk Him       NaN        10         7         7         7   \n",
       "\n",
       "Season                2022-2023 2023-2024 2024-2025  Seasons Played  \n",
       "Name of Player                                                       \n",
       "Yeung Himmy Cheuk Him         7         7        7B               7  "
      ]
     },
     "execution_count": 321,
     "metadata": {},
     "output_type": "execute_result"
    }
   ],
   "source": [
    "player_divisions_sorted[player_divisions_sorted.index.str.contains(\"himmy\", case=False)]"
   ]
  },
  {
   "cell_type": "markdown",
   "metadata": {},
   "source": [
    "#### Percentage of Players who played at least 5 games"
   ]
  },
  {
   "cell_type": "code",
   "execution_count": 322,
   "metadata": {},
   "outputs": [
    {
     "data": {
      "text/plain": [
       "Season\n",
       "2016-2017    84.497354\n",
       "2017-2018    81.860226\n",
       "2018-2019    83.368421\n",
       "2019-2020    56.103896\n",
       "2021-2022    61.557789\n",
       "2022-2023    82.422646\n",
       "2023-2024    80.627640\n",
       "2024-2025    27.738516\n",
       "Name: Name of Player, dtype: float64"
      ]
     },
     "execution_count": 322,
     "metadata": {},
     "output_type": "execute_result"
    }
   ],
   "source": [
    "# Calculate the percentage of players in each season who have played at least 5 matches\n",
    "total_players_5 / total_players * 100"
   ]
  },
  {
   "cell_type": "markdown",
   "metadata": {},
   "source": [
    "#### Percentage of Players who played at least 1 game"
   ]
  },
  {
   "cell_type": "code",
   "execution_count": 323,
   "metadata": {},
   "outputs": [
    {
     "data": {
      "text/plain": [
       "Season\n",
       "2016-2017    96.613757\n",
       "2017-2018    95.477903\n",
       "2018-2019    95.736842\n",
       "2019-2020    92.467532\n",
       "2021-2022    91.331658\n",
       "2022-2023    96.247531\n",
       "2023-2024    95.473748\n",
       "2024-2025    89.634865\n",
       "Name: Name of Player, dtype: float64"
      ]
     },
     "execution_count": 323,
     "metadata": {},
     "output_type": "execute_result"
    }
   ],
   "source": [
    "# Calculate the percentage of players in each season who have played at least 1 match\n",
    "total_players_1 = final_ranking_df[final_ranking_df[\"Games Played\"] >= 1].groupby(\"Season\")[\"Name of Player\"].nunique()\n",
    "total_players_1 / total_players * 100"
   ]
  },
  {
   "cell_type": "markdown",
   "metadata": {},
   "source": [
    "### HKCC Summary Analysis"
   ]
  },
  {
   "cell_type": "code",
   "execution_count": 324,
   "metadata": {},
   "outputs": [
    {
     "data": {
      "text/html": [
       "<div>\n",
       "<style scoped>\n",
       "    .dataframe tbody tr th:only-of-type {\n",
       "        vertical-align: middle;\n",
       "    }\n",
       "\n",
       "    .dataframe tbody tr th {\n",
       "        vertical-align: top;\n",
       "    }\n",
       "\n",
       "    .dataframe thead th {\n",
       "        text-align: right;\n",
       "    }\n",
       "</style>\n",
       "<table border=\"1\" class=\"dataframe\">\n",
       "  <thead>\n",
       "    <tr style=\"text-align: right;\">\n",
       "      <th></th>\n",
       "      <th>Team</th>\n",
       "      <th>Played</th>\n",
       "      <th>Won</th>\n",
       "      <th>Lost</th>\n",
       "      <th>Points</th>\n",
       "      <th>Division</th>\n",
       "      <th>Season</th>\n",
       "      <th>Rank</th>\n",
       "      <th>Rubbers For</th>\n",
       "      <th>Rubbers Against</th>\n",
       "    </tr>\n",
       "  </thead>\n",
       "  <tbody>\n",
       "  </tbody>\n",
       "</table>\n",
       "</div>"
      ],
      "text/plain": [
       "Empty DataFrame\n",
       "Columns: [Team, Played, Won, Lost, Points, Division, Season, Rank, Rubbers For, Rubbers Against]\n",
       "Index: []"
      ]
     },
     "execution_count": 324,
     "metadata": {},
     "output_type": "execute_result"
    }
   ],
   "source": [
    "big_summary_df[big_summary_df['Played'] == 0]"
   ]
  },
  {
   "cell_type": "code",
   "execution_count": 325,
   "metadata": {},
   "outputs": [],
   "source": [
    "# Filter big_summary_df for Team column that contains \"HKCC\" or \"Hong Kong Cricket Club\"\n",
    "hkcc_summary = big_summary_df[big_summary_df[\"Team\"].str.contains(\"HKCC\", case=False) |\n",
    "                              big_summary_df[\"Team\"].str.contains(\"Hong Kong Cricket Club\", case=False)]"
   ]
  },
  {
   "cell_type": "markdown",
   "metadata": {},
   "source": [
    "#### League Winners"
   ]
  },
  {
   "cell_type": "code",
   "execution_count": 326,
   "metadata": {},
   "outputs": [
    {
     "data": {
      "text/html": [
       "<div>\n",
       "<style scoped>\n",
       "    .dataframe tbody tr th:only-of-type {\n",
       "        vertical-align: middle;\n",
       "    }\n",
       "\n",
       "    .dataframe tbody tr th {\n",
       "        vertical-align: top;\n",
       "    }\n",
       "\n",
       "    .dataframe thead th {\n",
       "        text-align: right;\n",
       "    }\n",
       "</style>\n",
       "<table border=\"1\" class=\"dataframe\">\n",
       "  <thead>\n",
       "    <tr style=\"text-align: right;\">\n",
       "      <th></th>\n",
       "      <th>Team</th>\n",
       "      <th>Played</th>\n",
       "      <th>Won</th>\n",
       "      <th>Lost</th>\n",
       "      <th>Points</th>\n",
       "      <th>Division</th>\n",
       "      <th>Season</th>\n",
       "      <th>Rank</th>\n",
       "      <th>Rubbers For</th>\n",
       "      <th>Rubbers Against</th>\n",
       "    </tr>\n",
       "  </thead>\n",
       "  <tbody>\n",
       "    <tr>\n",
       "      <th>73</th>\n",
       "      <td>HKCC Wednesday Night Rockers</td>\n",
       "      <td>20</td>\n",
       "      <td>18</td>\n",
       "      <td>2</td>\n",
       "      <td>98</td>\n",
       "      <td>16B</td>\n",
       "      <td>2016-2017</td>\n",
       "      <td>1</td>\n",
       "      <td>NaN</td>\n",
       "      <td>NaN</td>\n",
       "    </tr>\n",
       "    <tr>\n",
       "      <th>207</th>\n",
       "      <td>Hong Kong Cricket Club L2B</td>\n",
       "      <td>18</td>\n",
       "      <td>15</td>\n",
       "      <td>3</td>\n",
       "      <td>72</td>\n",
       "      <td>L2</td>\n",
       "      <td>2016-2017</td>\n",
       "      <td>1</td>\n",
       "      <td>NaN</td>\n",
       "      <td>NaN</td>\n",
       "    </tr>\n",
       "    <tr>\n",
       "      <th>214</th>\n",
       "      <td>Hong Kong Cricket Club L3</td>\n",
       "      <td>12</td>\n",
       "      <td>9</td>\n",
       "      <td>3</td>\n",
       "      <td>46</td>\n",
       "      <td>L3</td>\n",
       "      <td>2016-2017</td>\n",
       "      <td>1</td>\n",
       "      <td>NaN</td>\n",
       "      <td>NaN</td>\n",
       "    </tr>\n",
       "    <tr>\n",
       "      <th>387</th>\n",
       "      <td>Hong Kong Cricket Club 1</td>\n",
       "      <td>18</td>\n",
       "      <td>13</td>\n",
       "      <td>5</td>\n",
       "      <td>68</td>\n",
       "      <td>3</td>\n",
       "      <td>2017-2018</td>\n",
       "      <td>1</td>\n",
       "      <td>NaN</td>\n",
       "      <td>NaN</td>\n",
       "    </tr>\n",
       "    <tr>\n",
       "      <th>461</th>\n",
       "      <td>Hong Kong Cricket Club L2</td>\n",
       "      <td>15</td>\n",
       "      <td>13</td>\n",
       "      <td>2</td>\n",
       "      <td>59</td>\n",
       "      <td>L2</td>\n",
       "      <td>2017-2018</td>\n",
       "      <td>1</td>\n",
       "      <td>NaN</td>\n",
       "      <td>NaN</td>\n",
       "    </tr>\n",
       "    <tr>\n",
       "      <th>475</th>\n",
       "      <td>Hong Kong Cricket Club M1</td>\n",
       "      <td>16</td>\n",
       "      <td>13</td>\n",
       "      <td>3</td>\n",
       "      <td>65</td>\n",
       "      <td>M1</td>\n",
       "      <td>2017-2018</td>\n",
       "      <td>1</td>\n",
       "      <td>NaN</td>\n",
       "      <td>NaN</td>\n",
       "    </tr>\n",
       "    <tr>\n",
       "      <th>523</th>\n",
       "      <td>Hong Kong Cricket Club 6</td>\n",
       "      <td>21</td>\n",
       "      <td>20</td>\n",
       "      <td>1</td>\n",
       "      <td>102</td>\n",
       "      <td>11B</td>\n",
       "      <td>2018-2019</td>\n",
       "      <td>1</td>\n",
       "      <td>NaN</td>\n",
       "      <td>NaN</td>\n",
       "    </tr>\n",
       "    <tr>\n",
       "      <th>610</th>\n",
       "      <td>Hong Kong Cricket Club 8</td>\n",
       "      <td>22</td>\n",
       "      <td>19</td>\n",
       "      <td>3</td>\n",
       "      <td>103</td>\n",
       "      <td>18</td>\n",
       "      <td>2018-2019</td>\n",
       "      <td>1</td>\n",
       "      <td>NaN</td>\n",
       "      <td>NaN</td>\n",
       "    </tr>\n",
       "    <tr>\n",
       "      <th>719</th>\n",
       "      <td>Hong Kong Cricket Club M1A</td>\n",
       "      <td>20</td>\n",
       "      <td>14</td>\n",
       "      <td>6</td>\n",
       "      <td>65</td>\n",
       "      <td>M1</td>\n",
       "      <td>2018-2019</td>\n",
       "      <td>1</td>\n",
       "      <td>NaN</td>\n",
       "      <td>NaN</td>\n",
       "    </tr>\n",
       "    <tr>\n",
       "      <th>748</th>\n",
       "      <td>Hong Kong Cricket Club 10</td>\n",
       "      <td>9</td>\n",
       "      <td>9</td>\n",
       "      <td>0</td>\n",
       "      <td>40</td>\n",
       "      <td>10</td>\n",
       "      <td>2019-2020</td>\n",
       "      <td>1</td>\n",
       "      <td>NaN</td>\n",
       "      <td>NaN</td>\n",
       "    </tr>\n",
       "    <tr>\n",
       "      <th>811</th>\n",
       "      <td>HKCC TUESDAY NIGHT ROCKERS</td>\n",
       "      <td>10</td>\n",
       "      <td>9</td>\n",
       "      <td>1</td>\n",
       "      <td>45</td>\n",
       "      <td>15</td>\n",
       "      <td>2019-2020</td>\n",
       "      <td>1</td>\n",
       "      <td>NaN</td>\n",
       "      <td>NaN</td>\n",
       "    </tr>\n",
       "    <tr>\n",
       "      <th>948</th>\n",
       "      <td>Hong Kong Cricket Club L2A</td>\n",
       "      <td>9</td>\n",
       "      <td>9</td>\n",
       "      <td>0</td>\n",
       "      <td>35</td>\n",
       "      <td>L2</td>\n",
       "      <td>2019-2020</td>\n",
       "      <td>1</td>\n",
       "      <td>NaN</td>\n",
       "      <td>NaN</td>\n",
       "    </tr>\n",
       "    <tr>\n",
       "      <th>955</th>\n",
       "      <td>Hong Kong Cricket Club Rockettes</td>\n",
       "      <td>11</td>\n",
       "      <td>10</td>\n",
       "      <td>1</td>\n",
       "      <td>39</td>\n",
       "      <td>L3</td>\n",
       "      <td>2019-2020</td>\n",
       "      <td>1</td>\n",
       "      <td>NaN</td>\n",
       "      <td>NaN</td>\n",
       "    </tr>\n",
       "    <tr>\n",
       "      <th>1159</th>\n",
       "      <td>Hong Kong Cricket Club Rockettes</td>\n",
       "      <td>11</td>\n",
       "      <td>10</td>\n",
       "      <td>1</td>\n",
       "      <td>48</td>\n",
       "      <td>L3</td>\n",
       "      <td>2021-2022</td>\n",
       "      <td>1</td>\n",
       "      <td>NaN</td>\n",
       "      <td>NaN</td>\n",
       "    </tr>\n",
       "    <tr>\n",
       "      <th>1356</th>\n",
       "      <td>Hong Kong Cricket Club Rockettes</td>\n",
       "      <td>20</td>\n",
       "      <td>17</td>\n",
       "      <td>3</td>\n",
       "      <td>79</td>\n",
       "      <td>L3</td>\n",
       "      <td>2022-2023</td>\n",
       "      <td>1</td>\n",
       "      <td>NaN</td>\n",
       "      <td>NaN</td>\n",
       "    </tr>\n",
       "    <tr>\n",
       "      <th>1398</th>\n",
       "      <td>Hong Kong Cricket Club 6</td>\n",
       "      <td>21</td>\n",
       "      <td>19</td>\n",
       "      <td>2</td>\n",
       "      <td>98</td>\n",
       "      <td>12A</td>\n",
       "      <td>2023-2024</td>\n",
       "      <td>1</td>\n",
       "      <td>NaN</td>\n",
       "      <td>NaN</td>\n",
       "    </tr>\n",
       "  </tbody>\n",
       "</table>\n",
       "</div>"
      ],
      "text/plain": [
       "                                  Team  Played  Won  Lost  Points Division  \\\n",
       "73        HKCC Wednesday Night Rockers      20   18     2      98      16B   \n",
       "207         Hong Kong Cricket Club L2B      18   15     3      72       L2   \n",
       "214          Hong Kong Cricket Club L3      12    9     3      46       L3   \n",
       "387           Hong Kong Cricket Club 1      18   13     5      68        3   \n",
       "461          Hong Kong Cricket Club L2      15   13     2      59       L2   \n",
       "475          Hong Kong Cricket Club M1      16   13     3      65       M1   \n",
       "523           Hong Kong Cricket Club 6      21   20     1     102      11B   \n",
       "610           Hong Kong Cricket Club 8      22   19     3     103       18   \n",
       "719         Hong Kong Cricket Club M1A      20   14     6      65       M1   \n",
       "748          Hong Kong Cricket Club 10       9    9     0      40       10   \n",
       "811         HKCC TUESDAY NIGHT ROCKERS      10    9     1      45       15   \n",
       "948         Hong Kong Cricket Club L2A       9    9     0      35       L2   \n",
       "955   Hong Kong Cricket Club Rockettes      11   10     1      39       L3   \n",
       "1159  Hong Kong Cricket Club Rockettes      11   10     1      48       L3   \n",
       "1356  Hong Kong Cricket Club Rockettes      20   17     3      79       L3   \n",
       "1398          Hong Kong Cricket Club 6      21   19     2      98      12A   \n",
       "\n",
       "         Season  Rank  Rubbers For  Rubbers Against  \n",
       "73    2016-2017     1          NaN              NaN  \n",
       "207   2016-2017     1          NaN              NaN  \n",
       "214   2016-2017     1          NaN              NaN  \n",
       "387   2017-2018     1          NaN              NaN  \n",
       "461   2017-2018     1          NaN              NaN  \n",
       "475   2017-2018     1          NaN              NaN  \n",
       "523   2018-2019     1          NaN              NaN  \n",
       "610   2018-2019     1          NaN              NaN  \n",
       "719   2018-2019     1          NaN              NaN  \n",
       "748   2019-2020     1          NaN              NaN  \n",
       "811   2019-2020     1          NaN              NaN  \n",
       "948   2019-2020     1          NaN              NaN  \n",
       "955   2019-2020     1          NaN              NaN  \n",
       "1159  2021-2022     1          NaN              NaN  \n",
       "1356  2022-2023     1          NaN              NaN  \n",
       "1398  2023-2024     1          NaN              NaN  "
      ]
     },
     "execution_count": 326,
     "metadata": {},
     "output_type": "execute_result"
    }
   ],
   "source": [
    "hkcc_summary[hkcc_summary[\"Rank\"] == 1]"
   ]
  },
  {
   "cell_type": "code",
   "execution_count": 327,
   "metadata": {},
   "outputs": [
    {
     "data": {
      "text/plain": [
       "Season\n",
       "2016-2017    3\n",
       "2017-2018    3\n",
       "2018-2019    3\n",
       "2019-2020    4\n",
       "2021-2022    1\n",
       "2022-2023    1\n",
       "2023-2024    1\n",
       "Name: Rank, dtype: int64"
      ]
     },
     "execution_count": 327,
     "metadata": {},
     "output_type": "execute_result"
    }
   ],
   "source": [
    "# Show count of Rank equals 1 by Season\n",
    "hkcc_summary[hkcc_summary[\"Rank\"] == 1].groupby(\"Season\")[\"Rank\"].count()"
   ]
  },
  {
   "cell_type": "code",
   "execution_count": 328,
   "metadata": {},
   "outputs": [
    {
     "data": {
      "text/plain": [
       "0.5322410147991543"
      ]
     },
     "execution_count": 328,
     "metadata": {},
     "output_type": "execute_result"
    }
   ],
   "source": [
    "# Get overall win percentage record for hkcc_summary, summing all rows in Won column and dividing by sum of all rows in Played column\n",
    "win_percentage = hkcc_summary[\"Won\"].sum() / hkcc_summary[\"Played\"].sum()\n",
    "win_percentage\n"
   ]
  },
  {
   "cell_type": "code",
   "execution_count": 329,
   "metadata": {},
   "outputs": [
    {
     "data": {
      "text/plain": [
       "Season\n",
       "2016-2017    0.517713\n",
       "2017-2018    0.578402\n",
       "2018-2019    0.605505\n",
       "2019-2020    0.592215\n",
       "2021-2022    0.483460\n",
       "2022-2023    0.504749\n",
       "2023-2024    0.427531\n",
       "2024-2025    0.429412\n",
       "Name: Win Percentage, dtype: float64"
      ]
     },
     "execution_count": 329,
     "metadata": {},
     "output_type": "execute_result"
    }
   ],
   "source": [
    "# Show Win Percentage by Season buy avoid SettingWithCopyWarning\n",
    "hkcc_summary = hkcc_summary.copy()\n",
    "hkcc_summary[\"Win Percentage\"] = hkcc_summary[\"Won\"] / hkcc_summary[\"Played\"]\n",
    "hkcc_summary.groupby(\"Season\")[\"Win Percentage\"].mean()"
   ]
  },
  {
   "cell_type": "code",
   "execution_count": 330,
   "metadata": {},
   "outputs": [
    {
     "data": {
      "image/png": "[encoded data removed]",
      "text/plain": [
       "<Figure size 1000x600 with 1 Axes>"
      ]
     },
     "metadata": {},
     "output_type": "display_data"
    }
   ],
   "source": [
    "# Draw a line plot of the Win Percentage by Season\n",
    "plt.figure(figsize=(10, 6))\n",
    "# Draw a line plot of the Win Percentage by Season without confidence interval\n",
    "sns.lineplot(data=hkcc_summary, x=\"Season\", y=\"Win Percentage\", errorbar=None)\n",
    "# Set the title of the plot\n",
    "plt.title(\"HKCC Match Win Percentage by Season\", y=1.03)\n",
    "# Remove gridlines\n",
    "plt.grid(False)"
   ]
  },
  {
   "cell_type": "markdown",
   "metadata": {},
   "source": [
    "### KCC Win Percentage by Season"
   ]
  },
  {
   "cell_type": "code",
   "execution_count": 331,
   "metadata": {},
   "outputs": [],
   "source": [
    "# Filter big_summary_df for Team column that contains \"KCC\" or \"Kowloon Cricket Club\", but not \"HKCC\"\n",
    "kcc_summary = big_summary_df[big_summary_df[\"Team\"].str.contains(r\"\\b(?:Kowloon Cricket Club|KCC)\\b\", flags=re.IGNORECASE)]"
   ]
  },
  {
   "cell_type": "code",
   "execution_count": 332,
   "metadata": {},
   "outputs": [
    {
     "data": {
      "text/plain": [
       "0.6740890688259109"
      ]
     },
     "execution_count": 332,
     "metadata": {},
     "output_type": "execute_result"
    }
   ],
   "source": [
    "# Get overall win percentage record for hkcc_summary, summing all rows in Won column and dividing by sum of all rows in Played column\n",
    "win_percentage = kcc_summary[\"Won\"].sum() / kcc_summary[\"Played\"].sum()\n",
    "win_percentage"
   ]
  },
  {
   "cell_type": "code",
   "execution_count": 333,
   "metadata": {},
   "outputs": [
    {
     "data": {
      "text/plain": [
       "Season\n",
       "2016-2017    0.625702\n",
       "2017-2018    0.641083\n",
       "2018-2019    0.704762\n",
       "2019-2020    0.681812\n",
       "2021-2022    0.709041\n",
       "2022-2023    0.624034\n",
       "2023-2024    0.683452\n",
       "2024-2025    0.640079\n",
       "Name: Win Percentage, dtype: float64"
      ]
     },
     "execution_count": 333,
     "metadata": {},
     "output_type": "execute_result"
    }
   ],
   "source": [
    "# Show Win Percentage by Season buy avoid SettingWithCopyWarning\n",
    "kcc_summary = kcc_summary.copy()\n",
    "kcc_summary[\"Win Percentage\"] = kcc_summary[\"Won\"] / kcc_summary[\"Played\"]\n",
    "kcc_summary.groupby(\"Season\")[\"Win Percentage\"].mean()"
   ]
  },
  {
   "cell_type": "markdown",
   "metadata": {},
   "source": [
    "### HKFC Win Percentage by Season"
   ]
  },
  {
   "cell_type": "code",
   "execution_count": 334,
   "metadata": {},
   "outputs": [],
   "source": [
    "# Filter big_summary_df for Team column that contains \"HKFC\" or \"Hong Kong Football Club\"\n",
    "hkfc_summary = big_summary_df[big_summary_df[\"Team\"].str.contains(\"HKFC\", case=False) |\n",
    "                              big_summary_df[\"Team\"].str.contains(\"Hong Kong Football Club\", case=False)]"
   ]
  },
  {
   "cell_type": "code",
   "execution_count": 335,
   "metadata": {},
   "outputs": [
    {
     "data": {
      "text/plain": [
       "0.5547019867549668"
      ]
     },
     "execution_count": 335,
     "metadata": {},
     "output_type": "execute_result"
    }
   ],
   "source": [
    "# Get overall win percentage record for hkcc_summary, summing all rows in Won column and dividing by sum of all rows in Played column\n",
    "hkfc_win_percentage = hkfc_summary[\"Won\"].sum() / hkfc_summary[\"Played\"].sum()\n",
    "hkfc_win_percentage"
   ]
  },
  {
   "cell_type": "code",
   "execution_count": 336,
   "metadata": {},
   "outputs": [
    {
     "data": {
      "text/plain": [
       "Season\n",
       "2016-2017    0.554078\n",
       "2017-2018    0.540525\n",
       "2018-2019    0.548704\n",
       "2019-2020    0.584957\n",
       "2021-2022    0.509099\n",
       "2022-2023    0.530581\n",
       "2023-2024    0.589479\n",
       "2024-2025    0.545739\n",
       "Name: Win Percentage, dtype: float64"
      ]
     },
     "execution_count": 336,
     "metadata": {},
     "output_type": "execute_result"
    }
   ],
   "source": [
    "# Show Win Percentage by Season buy avoid SettingWithCopyWarning\n",
    "hkfc_summary = hkfc_summary.copy()\n",
    "hkfc_summary[\"Win Percentage\"] = hkfc_summary[\"Won\"] / hkfc_summary[\"Played\"]\n",
    "hkfc_summary.groupby(\"Season\")[\"Win Percentage\"].mean()"
   ]
  },
  {
   "cell_type": "code",
   "execution_count": 337,
   "metadata": {},
   "outputs": [],
   "source": [
    "usrc_summary = big_summary_df[big_summary_df[\"Team\"].str.contains(\"united services\", case=False) |\n",
    "               big_summary_df[\"Team\"].str.contains(\"usrc\", case=False)]"
   ]
  },
  {
   "cell_type": "code",
   "execution_count": 338,
   "metadata": {},
   "outputs": [
    {
     "data": {
      "text/plain": [
       "0.5692090395480226"
      ]
     },
     "execution_count": 338,
     "metadata": {},
     "output_type": "execute_result"
    }
   ],
   "source": [
    "# Get overall win percentage record for usrc_summary, summing all rows in Won column and dividing by sum of all rows in Played column\n",
    "usrc_win_percentage = usrc_summary[\"Won\"].sum() / usrc_summary[\"Played\"].sum()\n",
    "usrc_win_percentage"
   ]
  },
  {
   "cell_type": "code",
   "execution_count": 339,
   "metadata": {},
   "outputs": [
    {
     "data": {
      "text/plain": [
       "Season\n",
       "2016-2017    0.474890\n",
       "2017-2018    0.636508\n",
       "2018-2019    0.649747\n",
       "2019-2020    0.714646\n",
       "2021-2022    0.355219\n",
       "2022-2023    0.518519\n",
       "2023-2024    0.541667\n",
       "2024-2025    0.651786\n",
       "Name: Win Percentage, dtype: float64"
      ]
     },
     "execution_count": 339,
     "metadata": {},
     "output_type": "execute_result"
    }
   ],
   "source": [
    "# Show Win Percentage by Season but avoid SettingWithCopyWarning\n",
    "usrc_summary = usrc_summary.copy()\n",
    "usrc_summary[\"Win Percentage\"] = usrc_summary[\"Won\"] / usrc_summary[\"Played\"]\n",
    "usrc_summary.groupby(\"Season\")[\"Win Percentage\"].mean()"
   ]
  },
  {
   "cell_type": "code",
   "execution_count": 340,
   "metadata": {},
   "outputs": [
    {
     "data": {
      "image/png": "[encoded data removed]",
      "text/plain": [
       "<Figure size 1000x600 with 2 Axes>"
      ]
     },
     "metadata": {},
     "output_type": "display_data"
    }
   ],
   "source": [
    "# Add another axis to show total number of matches played in each season\n",
    "fig, ax = plt.subplots(figsize=(10, 6))\n",
    "# Draw a line plot of the Win Percentage by Season for HKCC with dotted line\n",
    "sns.lineplot(data=hkcc_summary, x=\"Season\", y=\"Win Percentage\", label=\"HKCC\", errorbar=None, linestyle=\"--\", alpha=0.85)\n",
    "# Draw a line plot of the Win Percentage by Season for KCC\n",
    "sns.lineplot(data=kcc_summary, x=\"Season\", y=\"Win Percentage\", label=\"KCC\", errorbar=None, linestyle=\"--\", alpha=0.85)\n",
    "# Draw a line plot of the Win Percentage by Season for HKFC\n",
    "sns.lineplot(data=hkfc_summary, x=\"Season\", y=\"Win Percentage\", label=\"HKFC\", errorbar=None, linestyle=\"--\", alpha=0.85)\n",
    "# Set the title of the plot\n",
    "plt.title(\"Hong Kong Squash League: Match Win Percentage by Season for Selected Clubs\", y=1.04, size=15)\n",
    "# Remove gridlines\n",
    "plt.grid(False)\n",
    "# Add a legend to the plot\n",
    "plt.legend()\n",
    "# Create another y-axis on the right side of the plot\n",
    "ax2 = ax.twinx()\n",
    "# Draw a bar plot of the total number of matches played in each season\n",
    "sns.barplot(data=big_summary_df, x=\"Season\", y=\"Played\", ax=ax2, color=\"lightgray\", alpha=0.25, errorbar=None, estimator=sum)\n",
    "# Set the title of the right y-axis\n",
    "ax2.set_ylabel(\"Total Matches Played\", rotation=-90, labelpad=15)\n",
    "# Remove gridlines from the right y-axis\n",
    "ax2.grid(False)\n",
    "# remove top spine only\n",
    "sns.despine(top=True, right=False)\n"
   ]
  },
  {
   "cell_type": "code",
   "execution_count": 341,
   "metadata": {},
   "outputs": [
    {
     "data": {
      "text/plain": [
       "Season\n",
       "2016-2017    4668\n",
       "2017-2018    4644\n",
       "2018-2019    4826\n",
       "2019-2020    2236\n",
       "2021-2022    2058\n",
       "2022-2023    3538\n",
       "2023-2024    3772\n",
       "2024-2025    1366\n",
       "Name: Played, dtype: int64"
      ]
     },
     "execution_count": 341,
     "metadata": {},
     "output_type": "execute_result"
    }
   ],
   "source": [
    "# Count the total number of matches in Played column by Season in big_summary_df\n",
    "big_summary_df.groupby(\"Season\")[\"Played\"].sum()"
   ]
  },
  {
   "cell_type": "code",
   "execution_count": 342,
   "metadata": {},
   "outputs": [
    {
     "data": {
      "text/plain": [
       "Hong Kong Football Club    261\n",
       "Hong Kong Cricket Club     127\n",
       "KCC                         81\n",
       "Name: count, dtype: int64"
      ]
     },
     "execution_count": 342,
     "metadata": {},
     "output_type": "execute_result"
    }
   ],
   "source": [
    "# Find count of Teams in big_summary_df by Clubs\n",
    "big_summary_df[\"Team\"].str.extract(r\"(Hong Kong Cricket Club|KCC|Hong Kong Football Club)\").value_counts()"
   ]
  },
  {
   "cell_type": "code",
   "execution_count": 343,
   "metadata": {},
   "outputs": [],
   "source": [
    "lrc_summary = big_summary_df[big_summary_df[\"Team\"].str.contains(\"LRC\", case=False) |\n",
    "               big_summary_df[\"Team\"].str.contains(\"Ladies Recreation Club\", case=False)]"
   ]
  },
  {
   "cell_type": "code",
   "execution_count": 344,
   "metadata": {},
   "outputs": [
    {
     "name": "stdout",
     "output_type": "stream",
     "text": [
      "261 107 132 25\n"
     ]
    }
   ],
   "source": [
    "print(len(hkfc_summary), len(kcc_summary), len(hkcc_summary), len(lrc_summary))"
   ]
  },
  {
   "cell_type": "code",
   "execution_count": 345,
   "metadata": {},
   "outputs": [],
   "source": [
    "big_summary_df.sort_values(by=\"Team\").to_csv(\"big_summary_df.csv\", index=False)"
   ]
  },
  {
   "cell_type": "code",
   "execution_count": 346,
   "metadata": {},
   "outputs": [
    {
     "data": {
      "text/plain": [
       "93"
      ]
     },
     "execution_count": 346,
     "metadata": {},
     "output_type": "execute_result"
    }
   ],
   "source": [
    "len(big_summary_df[big_summary_df[\"Team\"].str.contains(\"Advance\", case=False)])"
   ]
  },
  {
   "cell_type": "code",
   "execution_count": 347,
   "metadata": {},
   "outputs": [
    {
     "data": {
      "text/plain": [
       "61"
      ]
     },
     "execution_count": 347,
     "metadata": {},
     "output_type": "execute_result"
    }
   ],
   "source": [
    "len(big_summary_df[big_summary_df[\"Team\"].str.contains(\"friend\", case=False)])"
   ]
  },
  {
   "cell_type": "code",
   "execution_count": 348,
   "metadata": {},
   "outputs": [
    {
     "name": "stdout",
     "output_type": "stream",
     "text": [
      "0.5632262474367737\n",
      "Season\n",
      "2016-2017    0.634783\n",
      "2017-2018    0.628957\n",
      "2018-2019    0.571479\n",
      "2019-2020    0.405789\n",
      "2021-2022    0.673377\n",
      "2022-2023    0.594004\n",
      "2023-2024    0.369848\n",
      "2024-2025    0.293155\n",
      "Name: Win Percentage, dtype: float64\n"
     ]
    }
   ],
   "source": [
    "advance_summary = big_summary_df[big_summary_df[\"Team\"].str.contains(\"Advance\", case=False)]\n",
    "\n",
    "# Get overall win percentage record for advance_summary, summing all rows in Won column and dividing by sum of all rows in Played column\n",
    "advance_win_percentage = advance_summary[\"Won\"].sum() / advance_summary[\"Played\"].sum()\n",
    "print(advance_win_percentage)\n",
    "\n",
    "# Show Win Percentage by Season but avoid SettingWithCopyWarning\n",
    "advance_summary = advance_summary.copy()\n",
    "advance_summary[\"Win Percentage\"] = advance_summary[\"Won\"] / advance_summary[\"Played\"]\n",
    "print(advance_summary.groupby(\"Season\")[\"Win Percentage\"].mean())"
   ]
  },
  {
   "cell_type": "code",
   "execution_count": 349,
   "metadata": {},
   "outputs": [],
   "source": [
    "sha_tin_summary = big_summary_df[big_summary_df[\"Team\"].str.contains(\"sha tin\", case=False) |\n",
    "                big_summary_df[\"Team\"].str.contains(\"shatin\", case=False)]"
   ]
  },
  {
   "cell_type": "markdown",
   "metadata": {},
   "source": [
    "### Calculate Competitiveness of Divisions"
   ]
  },
  {
   "cell_type": "code",
   "execution_count": 350,
   "metadata": {},
   "outputs": [],
   "source": [
    "def gini_coefficient(x):\n",
    "    \"\"\"\n",
    "    Calculate the Gini coefficient of a numpy array.\n",
    "    \"\"\"\n",
    "    # Ensure the array is 1D and sorted\n",
    "    x = np.sort(np.array(x, dtype=np.float64).flatten())\n",
    "    \n",
    "    # Handle negative values and zeros\n",
    "    if np.amin(x) < 0:\n",
    "        x -= np.amin(x)\n",
    "    x += 1e-9  # Prevent division by zero\n",
    "    \n",
    "    n = x.size\n",
    "    index = np.arange(1, n + 1)\n",
    "    gini = (2 * np.sum(index * x) - (n + 1) * np.sum(x)) / (n * np.sum(x))\n",
    "    \n",
    "    return gini"
   ]
  },
  {
   "cell_type": "code",
   "execution_count": 351,
   "metadata": {},
   "outputs": [],
   "source": [
    "gini_results = []\n",
    "\n",
    "for df in summary_df_list:\n",
    "    # Extract division and season information\n",
    "    division = df['Division'].iloc[0]\n",
    "    season = df['Season'].iloc[0]\n",
    "    \n",
    "    # Extract points and handle missing or non-numeric values\n",
    "    points = df['Points'].replace([np.inf, -np.inf], np.nan).dropna().astype(float).values\n",
    "    \n",
    "    # Skip if points array is empty\n",
    "    if points.size == 0:\n",
    "        continue\n",
    "    \n",
    "    # Calculate the Gini coefficient\n",
    "    gini = gini_coefficient(points)\n",
    "    \n",
    "    # Store the results\n",
    "    gini_results.append({'Division': division, 'Season': season, 'Gini_Coefficient': gini})\n"
   ]
  },
  {
   "cell_type": "code",
   "execution_count": 352,
   "metadata": {},
   "outputs": [],
   "source": [
    "gini_df = pd.DataFrame(gini_results)"
   ]
  },
  {
   "cell_type": "code",
   "execution_count": 353,
   "metadata": {},
   "outputs": [
    {
     "data": {
      "text/plain": [
       "Season\n",
       "2016-2017    0.240137\n",
       "2017-2018    0.253069\n",
       "2018-2019    0.224662\n",
       "2019-2020    0.231791\n",
       "2021-2022    0.232191\n",
       "2022-2023    0.208233\n",
       "2023-2024    0.222884\n",
       "Name: Gini_Coefficient, dtype: float64"
      ]
     },
     "execution_count": 353,
     "metadata": {},
     "output_type": "execute_result"
    }
   ],
   "source": [
    "gini_df.groupby(\"Season\")[\"Gini_Coefficient\"].mean()"
   ]
  },
  {
   "cell_type": "code",
   "execution_count": 354,
   "metadata": {},
   "outputs": [],
   "source": [
    "# Create a new column for gini_df called \"League Type\". If \"M\" is found in Division, League Type is \"Masters\", \n",
    "# If \"L\" is found in Division, League Type is \"Ladies\". Otherwise, league type is \"Main\"\n",
    "gini_df[\"League Type\"] = np.where(gini_df[\"Division\"].str.contains(\"M\", case=False), \"Masters\",\n",
    "                                    np.where(gini_df[\"Division\"].str.contains(\"L\", case=False), \"Ladies\", \"Main\"))\n",
    "\n"
   ]
  },
  {
   "cell_type": "code",
   "execution_count": 355,
   "metadata": {},
   "outputs": [
    {
     "data": {
      "text/html": [
       "<div>\n",
       "<style scoped>\n",
       "    .dataframe tbody tr th:only-of-type {\n",
       "        vertical-align: middle;\n",
       "    }\n",
       "\n",
       "    .dataframe tbody tr th {\n",
       "        vertical-align: top;\n",
       "    }\n",
       "\n",
       "    .dataframe thead th {\n",
       "        text-align: right;\n",
       "    }\n",
       "</style>\n",
       "<table border=\"1\" class=\"dataframe\">\n",
       "  <thead>\n",
       "    <tr style=\"text-align: right;\">\n",
       "      <th></th>\n",
       "      <th>Division</th>\n",
       "      <th>Season</th>\n",
       "      <th>Gini_Coefficient</th>\n",
       "      <th>League Type</th>\n",
       "    </tr>\n",
       "  </thead>\n",
       "  <tbody>\n",
       "    <tr>\n",
       "      <th>8</th>\n",
       "      <td>16B</td>\n",
       "      <td>2016-2017</td>\n",
       "      <td>0.379455</td>\n",
       "      <td>Main</td>\n",
       "    </tr>\n",
       "    <tr>\n",
       "      <th>7</th>\n",
       "      <td>16A</td>\n",
       "      <td>2016-2017</td>\n",
       "      <td>0.374445</td>\n",
       "      <td>Main</td>\n",
       "    </tr>\n",
       "    <tr>\n",
       "      <th>56</th>\n",
       "      <td>L2</td>\n",
       "      <td>2017-2018</td>\n",
       "      <td>0.357810</td>\n",
       "      <td>Ladies</td>\n",
       "    </tr>\n",
       "    <tr>\n",
       "      <th>13</th>\n",
       "      <td>19</td>\n",
       "      <td>2016-2017</td>\n",
       "      <td>0.338599</td>\n",
       "      <td>Main</td>\n",
       "    </tr>\n",
       "    <tr>\n",
       "      <th>42</th>\n",
       "      <td>17B</td>\n",
       "      <td>2017-2018</td>\n",
       "      <td>0.326230</td>\n",
       "      <td>Main</td>\n",
       "    </tr>\n",
       "    <tr>\n",
       "      <th>105</th>\n",
       "      <td>19B</td>\n",
       "      <td>2019-2020</td>\n",
       "      <td>0.319876</td>\n",
       "      <td>Main</td>\n",
       "    </tr>\n",
       "    <tr>\n",
       "      <th>73</th>\n",
       "      <td>17B</td>\n",
       "      <td>2018-2019</td>\n",
       "      <td>0.317827</td>\n",
       "      <td>Main</td>\n",
       "    </tr>\n",
       "    <tr>\n",
       "      <th>103</th>\n",
       "      <td>18</td>\n",
       "      <td>2019-2020</td>\n",
       "      <td>0.313346</td>\n",
       "      <td>Main</td>\n",
       "    </tr>\n",
       "    <tr>\n",
       "      <th>124</th>\n",
       "      <td>12B</td>\n",
       "      <td>2021-2022</td>\n",
       "      <td>0.312977</td>\n",
       "      <td>Main</td>\n",
       "    </tr>\n",
       "    <tr>\n",
       "      <th>25</th>\n",
       "      <td>L1</td>\n",
       "      <td>2016-2017</td>\n",
       "      <td>0.312261</td>\n",
       "      <td>Ladies</td>\n",
       "    </tr>\n",
       "    <tr>\n",
       "      <th>34</th>\n",
       "      <td>12A</td>\n",
       "      <td>2017-2018</td>\n",
       "      <td>0.311563</td>\n",
       "      <td>Main</td>\n",
       "    </tr>\n",
       "    <tr>\n",
       "      <th>142</th>\n",
       "      <td>L1</td>\n",
       "      <td>2021-2022</td>\n",
       "      <td>0.311475</td>\n",
       "      <td>Ladies</td>\n",
       "    </tr>\n",
       "    <tr>\n",
       "      <th>134</th>\n",
       "      <td>1</td>\n",
       "      <td>2021-2022</td>\n",
       "      <td>0.309524</td>\n",
       "      <td>Main</td>\n",
       "    </tr>\n",
       "    <tr>\n",
       "      <th>37</th>\n",
       "      <td>14</td>\n",
       "      <td>2017-2018</td>\n",
       "      <td>0.308668</td>\n",
       "      <td>Main</td>\n",
       "    </tr>\n",
       "    <tr>\n",
       "      <th>35</th>\n",
       "      <td>12B</td>\n",
       "      <td>2017-2018</td>\n",
       "      <td>0.303112</td>\n",
       "      <td>Main</td>\n",
       "    </tr>\n",
       "    <tr>\n",
       "      <th>50</th>\n",
       "      <td>6</td>\n",
       "      <td>2017-2018</td>\n",
       "      <td>0.300497</td>\n",
       "      <td>Main</td>\n",
       "    </tr>\n",
       "    <tr>\n",
       "      <th>72</th>\n",
       "      <td>17A</td>\n",
       "      <td>2018-2019</td>\n",
       "      <td>0.300430</td>\n",
       "      <td>Main</td>\n",
       "    </tr>\n",
       "    <tr>\n",
       "      <th>116</th>\n",
       "      <td>L2</td>\n",
       "      <td>2019-2020</td>\n",
       "      <td>0.299320</td>\n",
       "      <td>Ladies</td>\n",
       "    </tr>\n",
       "    <tr>\n",
       "      <th>49</th>\n",
       "      <td>5</td>\n",
       "      <td>2017-2018</td>\n",
       "      <td>0.298832</td>\n",
       "      <td>Main</td>\n",
       "    </tr>\n",
       "    <tr>\n",
       "      <th>193</th>\n",
       "      <td>L1</td>\n",
       "      <td>2023-2024</td>\n",
       "      <td>0.297900</td>\n",
       "      <td>Ladies</td>\n",
       "    </tr>\n",
       "    <tr>\n",
       "      <th>102</th>\n",
       "      <td>17B</td>\n",
       "      <td>2019-2020</td>\n",
       "      <td>0.297521</td>\n",
       "      <td>Main</td>\n",
       "    </tr>\n",
       "    <tr>\n",
       "      <th>17</th>\n",
       "      <td>4</td>\n",
       "      <td>2016-2017</td>\n",
       "      <td>0.296643</td>\n",
       "      <td>Main</td>\n",
       "    </tr>\n",
       "    <tr>\n",
       "      <th>108</th>\n",
       "      <td>3</td>\n",
       "      <td>2019-2020</td>\n",
       "      <td>0.292063</td>\n",
       "      <td>Main</td>\n",
       "    </tr>\n",
       "    <tr>\n",
       "      <th>2</th>\n",
       "      <td>12A</td>\n",
       "      <td>2016-2017</td>\n",
       "      <td>0.291977</td>\n",
       "      <td>Main</td>\n",
       "    </tr>\n",
       "    <tr>\n",
       "      <th>194</th>\n",
       "      <td>L2</td>\n",
       "      <td>2023-2024</td>\n",
       "      <td>0.291246</td>\n",
       "      <td>Ladies</td>\n",
       "    </tr>\n",
       "  </tbody>\n",
       "</table>\n",
       "</div>"
      ],
      "text/plain": [
       "    Division     Season  Gini_Coefficient League Type\n",
       "8        16B  2016-2017          0.379455        Main\n",
       "7        16A  2016-2017          0.374445        Main\n",
       "56        L2  2017-2018          0.357810      Ladies\n",
       "13        19  2016-2017          0.338599        Main\n",
       "42       17B  2017-2018          0.326230        Main\n",
       "105      19B  2019-2020          0.319876        Main\n",
       "73       17B  2018-2019          0.317827        Main\n",
       "103       18  2019-2020          0.313346        Main\n",
       "124      12B  2021-2022          0.312977        Main\n",
       "25        L1  2016-2017          0.312261      Ladies\n",
       "34       12A  2017-2018          0.311563        Main\n",
       "142       L1  2021-2022          0.311475      Ladies\n",
       "134        1  2021-2022          0.309524        Main\n",
       "37        14  2017-2018          0.308668        Main\n",
       "35       12B  2017-2018          0.303112        Main\n",
       "50         6  2017-2018          0.300497        Main\n",
       "72       17A  2018-2019          0.300430        Main\n",
       "116       L2  2019-2020          0.299320      Ladies\n",
       "49         5  2017-2018          0.298832        Main\n",
       "193       L1  2023-2024          0.297900      Ladies\n",
       "102      17B  2019-2020          0.297521        Main\n",
       "17         4  2016-2017          0.296643        Main\n",
       "108        3  2019-2020          0.292063        Main\n",
       "2        12A  2016-2017          0.291977        Main\n",
       "194       L2  2023-2024          0.291246      Ladies"
      ]
     },
     "execution_count": 355,
     "metadata": {},
     "output_type": "execute_result"
    }
   ],
   "source": [
    "gini_df.sort_values(by=\"Gini_Coefficient\", ascending=False).head(25)"
   ]
  },
  {
   "cell_type": "code",
   "execution_count": 356,
   "metadata": {},
   "outputs": [
    {
     "data": {
      "text/plain": [
       "League Type\n",
       "Ladies     0.239536\n",
       "Main       0.233012\n",
       "Masters    0.211647\n",
       "Name: Gini_Coefficient, dtype: float64"
      ]
     },
     "execution_count": 356,
     "metadata": {},
     "output_type": "execute_result"
    }
   ],
   "source": [
    "# See average Gini Coefficient by League Type\n",
    "gini_df.groupby(\"League Type\")[\"Gini_Coefficient\"].mean()"
   ]
  },
  {
   "cell_type": "code",
   "execution_count": null,
   "metadata": {},
   "outputs": [],
   "source": []
  }
 ],
 "metadata": {
  "kernelspec": {
   "display_name": "venv",
   "language": "python",
   "name": "python3"
  },
  "language_info": {
   "codemirror_mode": {
    "name": "ipython",
    "version": 3
   },
   "file_extension": ".py",
   "mimetype": "text/x-python",
   "name": "python",
   "nbconvert_exporter": "python",
   "pygments_lexer": "ipython3",
   "version": "3.11.4"
  }
 },
 "nbformat": 4,
 "nbformat_minor": 2
}
