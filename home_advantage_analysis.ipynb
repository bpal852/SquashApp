{
 "cells": [
  {
   "cell_type": "code",
   "execution_count": 77,
   "metadata": {},
   "outputs": [],
   "source": [
    "import numpy as np\n",
    "import pandas as pd\n",
    "import os\n",
    "import glob\n",
    "import scipy.stats as stats"
   ]
  },
  {
   "cell_type": "code",
   "execution_count": 58,
   "metadata": {},
   "outputs": [],
   "source": [
    "base_directory = r\"C:\\Users\\bpali\\PycharmProjects\\SquashApp\\previous_seasons\""
   ]
  },
  {
   "cell_type": "markdown",
   "metadata": {},
   "source": [
    "\n",
    "### Load Schedules Data"
   ]
  },
  {
   "cell_type": "markdown",
   "metadata": {},
   "source": [
    "#### Load Previous Seasons"
   ]
  },
  {
   "cell_type": "code",
   "execution_count": 59,
   "metadata": {},
   "outputs": [],
   "source": [
    "# Load all seasons summary data\n",
    "schedules_df_list = []\n",
    "for season_folder in os.listdir(base_directory):\n",
    "    season_folder_path = os.path.join(base_directory, season_folder)\n",
    "    schedules_df_folder = os.path.join(season_folder_path, \"schedules_df\")\n",
    "    for file in os.listdir(schedules_df_folder):\n",
    "        if not file.endswith(\"schedules_df.csv\"):\n",
    "            continue\n",
    "        file_path = os.path.join(schedules_df_folder, file)\n",
    "        df = pd.read_csv(file_path)\n",
    "        # Add Division column to the dataframe\n",
    "        df[\"Division\"] = file.split(\"_\")[0]\n",
    "        # Add Season column to the dataframe\n",
    "        df[\"Season\"] = season_folder\n",
    "\n",
    "        schedules_df_list.append(df)\n",
    "\n",
    "# Concatenate all the dataframes in df_list into one big dataframe\n",
    "all_previous_schedules_df = pd.concat(schedules_df_list, ignore_index=True)"
   ]
  },
  {
   "cell_type": "markdown",
   "metadata": {},
   "source": [
    "#### Load Current Season"
   ]
  },
  {
   "cell_type": "code",
   "execution_count": 60,
   "metadata": {},
   "outputs": [],
   "source": [
    "all_divisions = {\n",
    "    \"Premier Main\": 424,\n",
    "    \"2\": 425,\n",
    "    \"3\": 426,\n",
    "    \"4\": 427,\n",
    "    \"5\": 428,\n",
    "    \"6\": 429,\n",
    "    \"7A\": 430,\n",
    "    \"7B\": 431,\n",
    "    \"8A\": 432,\n",
    "    \"8B\": 433,\n",
    "    \"9\": 434,\n",
    "    \"10\": 435,\n",
    "    \"11\": 436,\n",
    "    \"12\": 437,\n",
    "    \"13A\": 438,\n",
    "    \"13B\": 439,\n",
    "    \"14\": 440,\n",
    "    \"15A\": 441,\n",
    "    \"15B\": 442,\n",
    "    \"Premier Masters\": 443,\n",
    "    \"M2\": 444,\n",
    "    \"M3\": 445,\n",
    "    \"M4\": 446,\n",
    "    \"Premier Ladies\": 447,\n",
    "    \"L2\": 448,\n",
    "    \"L3\": 449,\n",
    "    \"L4\": 450,\n",
    "    }"
   ]
  },
  {
   "cell_type": "code",
   "execution_count": 61,
   "metadata": {},
   "outputs": [],
   "source": [
    "# 2024-2025 schedules_df directory\n",
    "schedules_df_dir = r\"C:\\Users\\bpali\\PycharmProjects\\SquashApp\\2024-2025\\schedules_df\""
   ]
  },
  {
   "cell_type": "code",
   "execution_count": 62,
   "metadata": {},
   "outputs": [],
   "source": [
    "schedules_dfs = []\n",
    "for division in all_divisions.keys():\n",
    "    for week in range(30, 0, -1):\n",
    "        try:\n",
    "            schedules_df = pd.read_csv(f\"{schedules_df_dir}\\\\week_{week}\\\\{division}_schedules_df.csv\")\n",
    "            schedules_df[\"Season\"] = \"2024-2025\"\n",
    "            schedules_df[\"Division\"] = division\n",
    "            schedules_dfs.append(schedules_df)\n",
    "            break\n",
    "        except FileNotFoundError:\n",
    "            continue"
   ]
  },
  {
   "cell_type": "code",
   "execution_count": 63,
   "metadata": {},
   "outputs": [],
   "source": [
    "# Concatenate all the summary dataframes into one\n",
    "schedules_df_2024_2025 = pd.concat(schedules_dfs)"
   ]
  },
  {
   "cell_type": "code",
   "execution_count": 64,
   "metadata": {},
   "outputs": [],
   "source": [
    "# Concatenate the schedules dataframes from all seasons\n",
    "all_schedules_df = pd.concat([all_previous_schedules_df, schedules_df_2024_2025], ignore_index=True)"
   ]
  },
  {
   "cell_type": "markdown",
   "metadata": {},
   "source": [
    "### Create Results Dataframe"
   ]
  },
  {
   "cell_type": "code",
   "execution_count": 65,
   "metadata": {},
   "outputs": [],
   "source": [
    "def parse_result(result):\n",
    "    \"\"\"\n",
    "    Function to parse the 'result' string\n",
    "    \"\"\"\n",
    "    overall, rubbers = result.split('(')\n",
    "    rubbers = rubbers.strip(')').split(',')\n",
    "    return overall, rubbers"
   ]
  },
  {
   "cell_type": "code",
   "execution_count": 66,
   "metadata": {},
   "outputs": [],
   "source": [
    "# Drop unnecessary columns\n",
    "all_schedules_df.drop(columns=['vs', 'Time'], inplace=True)\n",
    "\n",
    "# Exclude rows where 'Away Team' is '[BYE]' (indicative of a bye week)\n",
    "results_df = all_schedules_df[all_schedules_df['Away Team'] != '[BYE]'].copy()\n",
    "\n",
    "# Replace NaN values in 'Result' with an empty string before applying str.contains\n",
    "results_df['Result'] = results_df['Result'].fillna('')\n",
    "\n",
    "# Keep rows where 'Result' contains brackets (indicative of a played match)\n",
    "results_df = results_df[results_df['Result'].str.contains(r'\\(')]\n",
    "\n",
    "# Apply the function to the 'Result' column\n",
    "results_df[['Overall Score', 'Rubbers']] = results_df['Result'].apply(lambda x: pd.Series(parse_result(x)))\n",
    "\n",
    "# Splitting the 'Overall Score' into two separate columns\n",
    "results_df[['Home Score', 'Away Score']] = results_df['Overall Score'].str.split('-', expand=True).astype(int)\n",
    "\n",
    "# Get counts for CR and WO\n",
    "results_df['CR'] = results_df['Rubbers'].apply(lambda x: x.count('CR'))\n",
    "results_df['WO'] = results_df['Rubbers'].apply(lambda x: x.count('WO'))\n",
    "\n",
    "# Create combined CR and WO column\n",
    "results_df['CR_WO'] = results_df['CR'] + results_df['WO']"
   ]
  },
  {
   "cell_type": "markdown",
   "metadata": {},
   "source": [
    "### Load Teams dataframes"
   ]
  },
  {
   "cell_type": "code",
   "execution_count": 67,
   "metadata": {},
   "outputs": [],
   "source": [
    "# Load all seasons summary data\n",
    "teams_df_list = []\n",
    "for season_folder in os.listdir(base_directory):\n",
    "    season_folder_path = os.path.join(base_directory, season_folder)\n",
    "    teams_df_folder = os.path.join(season_folder_path, \"teams_df\")\n",
    "    for file in os.listdir(teams_df_folder):\n",
    "        if not file.endswith(\"teams_df.csv\"):\n",
    "            continue\n",
    "        file_path = os.path.join(teams_df_folder, file)\n",
    "        df = pd.read_csv(file_path)\n",
    "        # Add Division column to the dataframe\n",
    "        df[\"Division\"] = file.split(\"_\")[0]\n",
    "        # Add Season column to the dataframe\n",
    "        df[\"Season\"] = season_folder\n",
    "\n",
    "        teams_df_list.append(df)\n",
    "\n",
    "# Concatenate all the dataframes in df_list into one big dataframe\n",
    "all_previous_teams_df = pd.concat(teams_df_list, ignore_index=True)"
   ]
  },
  {
   "cell_type": "code",
   "execution_count": 68,
   "metadata": {},
   "outputs": [],
   "source": [
    "# 2024-2025 teams_df directory\n",
    "teams_df_dir = r\"C:\\Users\\bpali\\PycharmProjects\\SquashApp\\2024-2025\\teams_df\"\n",
    "\n",
    "teams_dfs = []\n",
    "for division in all_divisions.keys():\n",
    "    for week in range(30, 0, -1):\n",
    "        try:\n",
    "            df = pd.read_csv(f\"{teams_df_dir}\\\\week_{week}\\\\{division}_teams_df.csv\")\n",
    "            df[\"Season\"] = \"2024-2025\"\n",
    "            df[\"Division\"] = division\n",
    "            teams_dfs.append(df)\n",
    "            break\n",
    "        except FileNotFoundError:\n",
    "            continue\n",
    "\n",
    "# Concatenate all the teams dataframes into one\n",
    "teams_df_2024_2025 = pd.concat(teams_dfs)\n",
    "\n",
    "# Concatenate the teams dataframes from all seasons\n",
    "all_teams_df = pd.concat([all_previous_teams_df, teams_df_2024_2025], ignore_index=True)"
   ]
  },
  {
   "cell_type": "markdown",
   "metadata": {},
   "source": [
    "### Merge the results and teams dataframes"
   ]
  },
  {
   "cell_type": "code",
   "execution_count": 70,
   "metadata": {},
   "outputs": [],
   "source": [
    "# Using \"Team Name\", \"Home\", \"Divison\", and \"Season\" columns of all_teams_df, and \"Away Team\", \"Divsion\", and \"Season\" columns of results_df, merge the two dataframes\n",
    "merged_df = pd.merge(results_df, all_teams_df, left_on=['Away Team', 'Division', 'Season'], right_on=['Team Name', 'Division', 'Season'], how='left')"
   ]
  },
  {
   "cell_type": "code",
   "execution_count": 71,
   "metadata": {},
   "outputs": [],
   "source": [
    "# Drop unnecessary columns\n",
    "columns_to_drop = [\"Email\", \"Convenor\", \"Team Name\"]\n",
    "merged_df.drop(columns=columns_to_drop, inplace=True)\n",
    "\n",
    "# Rename \"Home\" column to \"Away Team Home\"\n",
    "merged_df.rename(columns={\"Home\": \"Away Team Home\"}, inplace=True)"
   ]
  },
  {
   "cell_type": "markdown",
   "metadata": {},
   "source": [
    "### Remove neutral venues matches"
   ]
  },
  {
   "cell_type": "code",
   "execution_count": 72,
   "metadata": {},
   "outputs": [],
   "source": [
    "# Remove rows where \"Venue\" is equal to \"Away Team Home\"\n",
    "filtered_merged_df = merged_df[merged_df[\"Venue\"] != merged_df[\"Away Team Home\"]].copy()"
   ]
  },
  {
   "cell_type": "markdown",
   "metadata": {},
   "source": [
    "#### Create dataframe only for 5 player teams"
   ]
  },
  {
   "cell_type": "code",
   "execution_count": 73,
   "metadata": {},
   "outputs": [],
   "source": [
    "filtered_merged_5_df = filtered_merged_df[filtered_merged_df[\"Home Score\"] + filtered_merged_df[\"Away Score\"] == 5].copy()"
   ]
  },
  {
   "cell_type": "code",
   "execution_count": 74,
   "metadata": {},
   "outputs": [
    {
     "data": {
      "text/plain": [
       "Season\n",
       "2016-2017    2.642896\n",
       "2017-2018    2.654420\n",
       "2018-2019    2.642656\n",
       "2019-2020    2.726250\n",
       "2021-2022    2.656296\n",
       "2022-2023    2.711636\n",
       "2023-2024    2.689470\n",
       "2024-2025    2.725768\n",
       "Name: Home Score, dtype: float64"
      ]
     },
     "execution_count": 74,
     "metadata": {},
     "output_type": "execute_result"
    }
   ],
   "source": [
    "filtered_merged_5_df.groupby(\"Season\")[\"Home Score\"].mean()"
   ]
  },
  {
   "cell_type": "code",
   "execution_count": null,
   "metadata": {},
   "outputs": [
    {
     "data": {
      "text/html": [
       "<div>\n",
       "<style scoped>\n",
       "    .dataframe tbody tr th:only-of-type {\n",
       "        vertical-align: middle;\n",
       "    }\n",
       "\n",
       "    .dataframe tbody tr th {\n",
       "        vertical-align: top;\n",
       "    }\n",
       "\n",
       "    .dataframe thead th {\n",
       "        text-align: right;\n",
       "    }\n",
       "</style>\n",
       "<table border=\"1\" class=\"dataframe\">\n",
       "  <thead>\n",
       "    <tr style=\"text-align: right;\">\n",
       "      <th></th>\n",
       "      <th>Home Team</th>\n",
       "      <th>Away Team</th>\n",
       "      <th>Venue</th>\n",
       "      <th>Result</th>\n",
       "      <th>Match Week</th>\n",
       "      <th>Date</th>\n",
       "      <th>Division</th>\n",
       "      <th>Season</th>\n",
       "      <th>Overall Score</th>\n",
       "      <th>Rubbers</th>\n",
       "      <th>Home Score</th>\n",
       "      <th>Away Score</th>\n",
       "      <th>CR</th>\n",
       "      <th>WO</th>\n",
       "      <th>CR_WO</th>\n",
       "      <th>Away Team Home</th>\n",
       "      <th>Home Win</th>\n",
       "    </tr>\n",
       "  </thead>\n",
       "  <tbody>\n",
       "    <tr>\n",
       "      <th>0</th>\n",
       "      <td>The Hong Kong Jockey Club</td>\n",
       "      <td>i-MASK Advance Squash Club 7</td>\n",
       "      <td>HKJC Sha Tin Club House (HKJC)</td>\n",
       "      <td>1-4(0-3,1-3,0-3,3-2,2-3)</td>\n",
       "      <td>1</td>\n",
       "      <td>03/10/2016</td>\n",
       "      <td>10</td>\n",
       "      <td>2016-2017</td>\n",
       "      <td>1-4</td>\n",
       "      <td>[0-3, 1-3, 0-3, 3-2, 2-3]</td>\n",
       "      <td>1</td>\n",
       "      <td>4</td>\n",
       "      <td>0</td>\n",
       "      <td>0</td>\n",
       "      <td>0</td>\n",
       "      <td>Cornwall Street (CSPSC)</td>\n",
       "      <td>0</td>\n",
       "    </tr>\n",
       "    <tr>\n",
       "      <th>2</th>\n",
       "      <td>Royal Hong Kong Yacht Club 10</td>\n",
       "      <td>Banbil</td>\n",
       "      <td>Royal Hong Kong Yacht Club (RHKYC)</td>\n",
       "      <td>4-1(0-3,3-0,3-0,3-0,3-0)</td>\n",
       "      <td>1</td>\n",
       "      <td>03/10/2016</td>\n",
       "      <td>10</td>\n",
       "      <td>2016-2017</td>\n",
       "      <td>4-1</td>\n",
       "      <td>[0-3, 3-0, 3-0, 3-0, 3-0]</td>\n",
       "      <td>4</td>\n",
       "      <td>1</td>\n",
       "      <td>0</td>\n",
       "      <td>0</td>\n",
       "      <td>0</td>\n",
       "      <td>HK Squash Centre (HKSC)</td>\n",
       "      <td>1</td>\n",
       "    </tr>\n",
       "    <tr>\n",
       "      <th>3</th>\n",
       "      <td>Xavier</td>\n",
       "      <td>Perrier KCC 7</td>\n",
       "      <td>Cornwall Street (CSPSC)</td>\n",
       "      <td>3-2(3-2,3-0,3-2,0-3,2-3)</td>\n",
       "      <td>1</td>\n",
       "      <td>03/10/2016</td>\n",
       "      <td>10</td>\n",
       "      <td>2016-2017</td>\n",
       "      <td>3-2</td>\n",
       "      <td>[3-2, 3-0, 3-2, 0-3, 2-3]</td>\n",
       "      <td>3</td>\n",
       "      <td>2</td>\n",
       "      <td>0</td>\n",
       "      <td>0</td>\n",
       "      <td>0</td>\n",
       "      <td>Kowloon Cricket Club (KCC)</td>\n",
       "      <td>1</td>\n",
       "    </tr>\n",
       "    <tr>\n",
       "      <th>4</th>\n",
       "      <td>i-MASK Advance Squash Club 7</td>\n",
       "      <td>Royal Hong Kong Yacht Club 10</td>\n",
       "      <td>Cornwall Street (CSPSC)</td>\n",
       "      <td>3-2(3-0,3-0,3-1,1-3,2-3)</td>\n",
       "      <td>2</td>\n",
       "      <td>17/10/2016</td>\n",
       "      <td>10</td>\n",
       "      <td>2016-2017</td>\n",
       "      <td>3-2</td>\n",
       "      <td>[3-0, 3-0, 3-1, 1-3, 2-3]</td>\n",
       "      <td>3</td>\n",
       "      <td>2</td>\n",
       "      <td>0</td>\n",
       "      <td>0</td>\n",
       "      <td>0</td>\n",
       "      <td>Royal Hong Kong Yacht Club (RHKYC)</td>\n",
       "      <td>1</td>\n",
       "    </tr>\n",
       "    <tr>\n",
       "      <th>5</th>\n",
       "      <td>Banbil</td>\n",
       "      <td>Perrier KCC 7</td>\n",
       "      <td>HK Squash Centre (HKSC)</td>\n",
       "      <td>1-4(1-3,1-3,3-2,1-3,0-3)</td>\n",
       "      <td>2</td>\n",
       "      <td>17/10/2016</td>\n",
       "      <td>10</td>\n",
       "      <td>2016-2017</td>\n",
       "      <td>1-4</td>\n",
       "      <td>[1-3, 1-3, 3-2, 1-3, 0-3]</td>\n",
       "      <td>1</td>\n",
       "      <td>4</td>\n",
       "      <td>0</td>\n",
       "      <td>0</td>\n",
       "      <td>0</td>\n",
       "      <td>Kowloon Cricket Club (KCC)</td>\n",
       "      <td>0</td>\n",
       "    </tr>\n",
       "  </tbody>\n",
       "</table>\n",
       "</div>"
      ],
      "text/plain": [
       "                       Home Team                      Away Team  \\\n",
       "0      The Hong Kong Jockey Club   i-MASK Advance Squash Club 7   \n",
       "2  Royal Hong Kong Yacht Club 10                         Banbil   \n",
       "3                         Xavier                  Perrier KCC 7   \n",
       "4   i-MASK Advance Squash Club 7  Royal Hong Kong Yacht Club 10   \n",
       "5                         Banbil                  Perrier KCC 7   \n",
       "\n",
       "                                Venue                    Result  Match Week  \\\n",
       "0      HKJC Sha Tin Club House (HKJC)  1-4(0-3,1-3,0-3,3-2,2-3)           1   \n",
       "2  Royal Hong Kong Yacht Club (RHKYC)  4-1(0-3,3-0,3-0,3-0,3-0)           1   \n",
       "3             Cornwall Street (CSPSC)  3-2(3-2,3-0,3-2,0-3,2-3)           1   \n",
       "4             Cornwall Street (CSPSC)  3-2(3-0,3-0,3-1,1-3,2-3)           2   \n",
       "5             HK Squash Centre (HKSC)  1-4(1-3,1-3,3-2,1-3,0-3)           2   \n",
       "\n",
       "         Date Division     Season Overall Score                    Rubbers  \\\n",
       "0  03/10/2016       10  2016-2017           1-4  [0-3, 1-3, 0-3, 3-2, 2-3]   \n",
       "2  03/10/2016       10  2016-2017           4-1  [0-3, 3-0, 3-0, 3-0, 3-0]   \n",
       "3  03/10/2016       10  2016-2017           3-2  [3-2, 3-0, 3-2, 0-3, 2-3]   \n",
       "4  17/10/2016       10  2016-2017           3-2  [3-0, 3-0, 3-1, 1-3, 2-3]   \n",
       "5  17/10/2016       10  2016-2017           1-4  [1-3, 1-3, 3-2, 1-3, 0-3]   \n",
       "\n",
       "   Home Score  Away Score  CR  WO  CR_WO                      Away Team Home  \\\n",
       "0           1           4   0   0      0             Cornwall Street (CSPSC)   \n",
       "2           4           1   0   0      0             HK Squash Centre (HKSC)   \n",
       "3           3           2   0   0      0          Kowloon Cricket Club (KCC)   \n",
       "4           3           2   0   0      0  Royal Hong Kong Yacht Club (RHKYC)   \n",
       "5           1           4   0   0      0          Kowloon Cricket Club (KCC)   \n",
       "\n",
       "   Home Win  \n",
       "0         0  \n",
       "2         1  \n",
       "3         1  \n",
       "4         1  \n",
       "5         0  "
      ]
     },
     "execution_count": 75,
     "metadata": {},
     "output_type": "execute_result"
    }
   ],
   "source": [
    "# Create 'Home Win' column to indicate whether the home team won the match, with 1 indicating a win and 0 indicating a loss\n",
    "filtered_merged_5_df[\"Home Win\"] = np.where(filtered_merged_5_df[\"Home Score\"] > filtered_merged_5_df[\"Away Score\"], 1, 0)"
   ]
  },
  {
   "cell_type": "code",
   "execution_count": 76,
   "metadata": {},
   "outputs": [
    {
     "data": {
      "text/plain": [
       "Season\n",
       "2016-2017    0.545255\n",
       "2017-2018    0.529277\n",
       "2018-2019    0.532921\n",
       "2019-2020    0.573750\n",
       "2021-2022    0.539259\n",
       "2022-2023    0.540472\n",
       "2023-2024    0.550346\n",
       "2024-2025    0.550827\n",
       "Name: Home Win, dtype: float64"
      ]
     },
     "execution_count": 76,
     "metadata": {},
     "output_type": "execute_result"
    }
   ],
   "source": [
    "filtered_merged_5_df.groupby(\"Season\")[\"Home Win\"].mean()"
   ]
  },
  {
   "cell_type": "code",
   "execution_count": null,
   "metadata": {},
   "outputs": [
    {
     "name": "stdout",
     "output_type": "stream",
     "text": [
      "Observed Home Win Rate: 0.5424\n",
      "Z-Score: 8.3650\n",
      "P-Value: 0.0000\n",
      "Reject the null hypothesis: Home advantage is statistically significant.\n"
     ]
    }
   ],
   "source": [
    "# Observed data\n",
    "home_win_mean = filtered_merged_5_df[\"Home Win\"].mean()  # Observed proportion\n",
    "n = len(filtered_merged_5_df)  # Sample size\n",
    "p_null = 0.5  # Null hypothesis proportion\n",
    "\n",
    "# Calculate z-score\n",
    "z = (home_win_mean - p_null) / ((p_null * (1 - p_null)) / n) ** 0.5\n",
    "\n",
    "# Calculate p-value (one-tailed test)\n",
    "p_value = 1 - stats.norm.cdf(z)\n",
    "\n",
    "# Print results\n",
    "print(f\"Observed Home Win Rate: {home_win_mean:.4f}\")\n",
    "print(f\"Z-Score: {z:.4f}\")\n",
    "print(f\"P-Value: {p_value:.4f}\")\n",
    "\n",
    "# Decision\n",
    "alpha = 0.01\n",
    "if p_value < alpha:\n",
    "    print(\"Reject the null hypothesis: Home advantage is statistically significant.\")\n",
    "else:\n",
    "    print(\"Fail to reject the null hypothesis: No significant home advantage.\")"
   ]
  },
  {
   "cell_type": "code",
   "execution_count": 79,
   "metadata": {},
   "outputs": [
    {
     "name": "stdout",
     "output_type": "stream",
     "text": [
      "Mean Home Score: 2.6709\n",
      "T-Statistic: 10.4109\n",
      "P-Value: 0.0000\n",
      "Reject the null hypothesis: The average Home Score is significantly different from 2.5.\n"
     ]
    }
   ],
   "source": [
    "# Extract Home Score column\n",
    "home_scores = filtered_merged_5_df[\"Home Score\"]\n",
    "\n",
    "# Define parameters\n",
    "mu_null = 2.5  # Null hypothesis mean\n",
    "\n",
    "# Calculate t-test\n",
    "t_stat, p_value = stats.ttest_1samp(home_scores, mu_null)\n",
    "\n",
    "# Print results\n",
    "print(f\"Mean Home Score: {np.mean(home_scores):.4f}\")\n",
    "print(f\"T-Statistic: {t_stat:.4f}\")\n",
    "print(f\"P-Value: {p_value:.4f}\")\n",
    "\n",
    "# Decision\n",
    "alpha = 0.01\n",
    "if p_value < alpha:\n",
    "    print(\"Reject the null hypothesis: The average Home Score is significantly different from 2.5.\")\n",
    "else:\n",
    "    print(\"Fail to reject the null hypothesis: No significant difference from 2.5.\")"
   ]
  },
  {
   "cell_type": "markdown",
   "metadata": {},
   "source": [
    "### Create dataframe for only 2023-2024 season"
   ]
  },
  {
   "cell_type": "code",
   "execution_count": 80,
   "metadata": {},
   "outputs": [],
   "source": [
    "filtered_merged_5_2023_df = filtered_merged_5_df[filtered_merged_5_df[\"Season\"] == \"2023-2024\"].copy()"
   ]
  },
  {
   "cell_type": "code",
   "execution_count": 81,
   "metadata": {},
   "outputs": [
    {
     "data": {
      "text/plain": [
       "Venue\n",
       "Cornwall Street Squash Centre          367\n",
       "HK Squash Centre                       243\n",
       "Hong Kong Football Club                178\n",
       "Kowloon Cricket Club                    91\n",
       "Hong Kong Cricket Club                  77\n",
       "United Services Recreation Club         54\n",
       "Kwun Chung Sports Centre                39\n",
       "Pei Ho Street Sports Centre             37\n",
       "Ladies Recreation Club                  29\n",
       "Masters - HK Squash Centre              24\n",
       "Harbour Road Sports Centre              22\n",
       "Wai Tsuen Sports Centre                 17\n",
       "Yuen Long Jockey Club Squash Courts     17\n",
       "Royal Hong Kong Yacht Club              16\n",
       "Tai Po Sports Ground                    16\n",
       "Java Road Sports Centre                 12\n",
       "Craigengower Cricket Club               11\n",
       "Sir Denys Roberts Squash Court          10\n",
       "Tsing Yi Sports Centre                   9\n",
       "HKJC Sha Tin Club House                  8\n",
       "HK CLUB                                  8\n",
       "MTR Club House                           8\n",
       "Tai Kiu Market Squash Courts             4\n",
       "Yeung Uk Road Sports Centre              4\n",
       "Name: Home Win, dtype: int64"
      ]
     },
     "execution_count": 81,
     "metadata": {},
     "output_type": "execute_result"
    }
   ],
   "source": [
    "filtered_merged_5_2023_df.groupby(\"Venue\")[\"Home Win\"].count().sort_values(ascending=False)"
   ]
  },
  {
   "cell_type": "code",
   "execution_count": 82,
   "metadata": {},
   "outputs": [
    {
     "data": {
      "text/plain": [
       "Venue\n",
       "Kowloon Cricket Club                   0.824176\n",
       "Wai Tsuen Sports Centre                0.764706\n",
       "Pei Ho Street Sports Centre            0.756757\n",
       "Tai Po Sports Ground                   0.750000\n",
       "Hong Kong Football Club                0.679775\n",
       "Sir Denys Roberts Squash Court         0.600000\n",
       "United Services Recreation Club        0.574074\n",
       "Tsing Yi Sports Centre                 0.555556\n",
       "Cornwall Street Squash Centre          0.544959\n",
       "Hong Kong Cricket Club                 0.519481\n",
       "Harbour Road Sports Centre             0.500000\n",
       "Masters - HK Squash Centre             0.500000\n",
       "Ladies Recreation Club                 0.482759\n",
       "HK Squash Centre                       0.465021\n",
       "Craigengower Cricket Club              0.454545\n",
       "Kwun Chung Sports Centre               0.358974\n",
       "Yuen Long Jockey Club Squash Courts    0.352941\n",
       "Royal Hong Kong Yacht Club             0.312500\n",
       "Java Road Sports Centre                0.250000\n",
       "HK CLUB                                0.250000\n",
       "Tai Kiu Market Squash Courts           0.000000\n",
       "HKJC Sha Tin Club House                0.000000\n",
       "Yeung Uk Road Sports Centre            0.000000\n",
       "MTR Club House                         0.000000\n",
       "Name: Home Win, dtype: float64"
      ]
     },
     "execution_count": 82,
     "metadata": {},
     "output_type": "execute_result"
    }
   ],
   "source": [
    "filtered_merged_5_2023_df.groupby(\"Venue\")[\"Home Win\"].mean().sort_values(ascending=False)"
   ]
  },
  {
   "cell_type": "code",
   "execution_count": 83,
   "metadata": {},
   "outputs": [
    {
     "data": {
      "text/html": [
       "<div>\n",
       "<style scoped>\n",
       "    .dataframe tbody tr th:only-of-type {\n",
       "        vertical-align: middle;\n",
       "    }\n",
       "\n",
       "    .dataframe tbody tr th {\n",
       "        vertical-align: top;\n",
       "    }\n",
       "\n",
       "    .dataframe thead th {\n",
       "        text-align: right;\n",
       "    }\n",
       "</style>\n",
       "<table border=\"1\" class=\"dataframe\">\n",
       "  <thead>\n",
       "    <tr style=\"text-align: right;\">\n",
       "      <th></th>\n",
       "      <th>Home Team</th>\n",
       "      <th>Away Team</th>\n",
       "      <th>Venue</th>\n",
       "      <th>Result</th>\n",
       "      <th>Match Week</th>\n",
       "      <th>Date</th>\n",
       "      <th>Division</th>\n",
       "      <th>Season</th>\n",
       "      <th>Overall Score</th>\n",
       "      <th>Rubbers</th>\n",
       "      <th>Home Score</th>\n",
       "      <th>Away Score</th>\n",
       "      <th>CR</th>\n",
       "      <th>WO</th>\n",
       "      <th>CR_WO</th>\n",
       "      <th>Away Team Home</th>\n",
       "      <th>Home Win</th>\n",
       "    </tr>\n",
       "  </thead>\n",
       "  <tbody>\n",
       "    <tr>\n",
       "      <th>10985</th>\n",
       "      <td>Kowloon Cricket Club 10</td>\n",
       "      <td>Twister 2</td>\n",
       "      <td>Kowloon Cricket Club</td>\n",
       "      <td>5-0(3-0,3-0,3-0,3-0,3-1)</td>\n",
       "      <td>1</td>\n",
       "      <td>09/10/2023</td>\n",
       "      <td>10</td>\n",
       "      <td>2023-2024</td>\n",
       "      <td>5-0</td>\n",
       "      <td>[3-0, 3-0, 3-0, 3-0, 3-1]</td>\n",
       "      <td>5</td>\n",
       "      <td>0</td>\n",
       "      <td>0</td>\n",
       "      <td>0</td>\n",
       "      <td>0</td>\n",
       "      <td>Cornwall Street Squash Centre</td>\n",
       "      <td>1</td>\n",
       "    </tr>\n",
       "    <tr>\n",
       "      <th>10987</th>\n",
       "      <td>HKU</td>\n",
       "      <td>The Hong Kong Jockey Club Div 10</td>\n",
       "      <td>Cornwall Street Squash Centre</td>\n",
       "      <td>3-2(3-1,0-3,3-0,3-1,0-3)</td>\n",
       "      <td>1</td>\n",
       "      <td>09/10/2023</td>\n",
       "      <td>10</td>\n",
       "      <td>2023-2024</td>\n",
       "      <td>3-2</td>\n",
       "      <td>[3-1, 0-3, 3-0, 3-1, 0-3]</td>\n",
       "      <td>3</td>\n",
       "      <td>2</td>\n",
       "      <td>0</td>\n",
       "      <td>0</td>\n",
       "      <td>0</td>\n",
       "      <td>HKJC Sha Tin Club House</td>\n",
       "      <td>1</td>\n",
       "    </tr>\n",
       "    <tr>\n",
       "      <th>10990</th>\n",
       "      <td>Hong Kong Football Club 10B</td>\n",
       "      <td>The Best Group</td>\n",
       "      <td>Hong Kong Football Club</td>\n",
       "      <td>4-1(3-1,3-0,3-1,3-1,0-3)</td>\n",
       "      <td>2</td>\n",
       "      <td>16/10/2023</td>\n",
       "      <td>10</td>\n",
       "      <td>2023-2024</td>\n",
       "      <td>4-1</td>\n",
       "      <td>[3-1, 3-0, 3-1, 3-1, 0-3]</td>\n",
       "      <td>4</td>\n",
       "      <td>1</td>\n",
       "      <td>0</td>\n",
       "      <td>0</td>\n",
       "      <td>0</td>\n",
       "      <td>Cornwall Street Squash Centre</td>\n",
       "      <td>1</td>\n",
       "    </tr>\n",
       "    <tr>\n",
       "      <th>10991</th>\n",
       "      <td>Kowloon Cricket Club 10</td>\n",
       "      <td>Hong Kong Football Club 10A</td>\n",
       "      <td>Kowloon Cricket Club</td>\n",
       "      <td>4-1(3-1,3-0,3-0,0-3,3-1)</td>\n",
       "      <td>2</td>\n",
       "      <td>16/10/2023</td>\n",
       "      <td>10</td>\n",
       "      <td>2023-2024</td>\n",
       "      <td>4-1</td>\n",
       "      <td>[3-1, 3-0, 3-0, 0-3, 3-1]</td>\n",
       "      <td>4</td>\n",
       "      <td>1</td>\n",
       "      <td>0</td>\n",
       "      <td>0</td>\n",
       "      <td>0</td>\n",
       "      <td>Hong Kong Football Club</td>\n",
       "      <td>1</td>\n",
       "    </tr>\n",
       "    <tr>\n",
       "      <th>10992</th>\n",
       "      <td>Social Squash Team</td>\n",
       "      <td>Twister 2</td>\n",
       "      <td>HK Squash Centre</td>\n",
       "      <td>3-2(0-3,3-2,3-0,3-1,2-3)</td>\n",
       "      <td>2</td>\n",
       "      <td>16/10/2023</td>\n",
       "      <td>10</td>\n",
       "      <td>2023-2024</td>\n",
       "      <td>3-2</td>\n",
       "      <td>[0-3, 3-2, 3-0, 3-1, 2-3]</td>\n",
       "      <td>3</td>\n",
       "      <td>2</td>\n",
       "      <td>0</td>\n",
       "      <td>0</td>\n",
       "      <td>0</td>\n",
       "      <td>Cornwall Street Squash Centre</td>\n",
       "      <td>1</td>\n",
       "    </tr>\n",
       "  </tbody>\n",
       "</table>\n",
       "</div>"
      ],
      "text/plain": [
       "                         Home Team                         Away Team  \\\n",
       "10985      Kowloon Cricket Club 10                         Twister 2   \n",
       "10987                          HKU  The Hong Kong Jockey Club Div 10   \n",
       "10990  Hong Kong Football Club 10B                    The Best Group   \n",
       "10991      Kowloon Cricket Club 10       Hong Kong Football Club 10A   \n",
       "10992           Social Squash Team                         Twister 2   \n",
       "\n",
       "                               Venue                    Result  Match Week  \\\n",
       "10985           Kowloon Cricket Club  5-0(3-0,3-0,3-0,3-0,3-1)           1   \n",
       "10987  Cornwall Street Squash Centre  3-2(3-1,0-3,3-0,3-1,0-3)           1   \n",
       "10990        Hong Kong Football Club  4-1(3-1,3-0,3-1,3-1,0-3)           2   \n",
       "10991           Kowloon Cricket Club  4-1(3-1,3-0,3-0,0-3,3-1)           2   \n",
       "10992               HK Squash Centre  3-2(0-3,3-2,3-0,3-1,2-3)           2   \n",
       "\n",
       "             Date Division     Season Overall Score  \\\n",
       "10985  09/10/2023       10  2023-2024           5-0   \n",
       "10987  09/10/2023       10  2023-2024           3-2   \n",
       "10990  16/10/2023       10  2023-2024           4-1   \n",
       "10991  16/10/2023       10  2023-2024           4-1   \n",
       "10992  16/10/2023       10  2023-2024           3-2   \n",
       "\n",
       "                         Rubbers  Home Score  Away Score  CR  WO  CR_WO  \\\n",
       "10985  [3-0, 3-0, 3-0, 3-0, 3-1]           5           0   0   0      0   \n",
       "10987  [3-1, 0-3, 3-0, 3-1, 0-3]           3           2   0   0      0   \n",
       "10990  [3-1, 3-0, 3-1, 3-1, 0-3]           4           1   0   0      0   \n",
       "10991  [3-1, 3-0, 3-0, 0-3, 3-1]           4           1   0   0      0   \n",
       "10992  [0-3, 3-2, 3-0, 3-1, 2-3]           3           2   0   0      0   \n",
       "\n",
       "                      Away Team Home  Home Win  \n",
       "10985  Cornwall Street Squash Centre         1  \n",
       "10987        HKJC Sha Tin Club House         1  \n",
       "10990  Cornwall Street Squash Centre         1  \n",
       "10991        Hong Kong Football Club         1  \n",
       "10992  Cornwall Street Squash Centre         1  "
      ]
     },
     "execution_count": 83,
     "metadata": {},
     "output_type": "execute_result"
    }
   ],
   "source": [
    "filtered_merged_5_2023_df.head()"
   ]
  },
  {
   "cell_type": "code",
   "execution_count": null,
   "metadata": {},
   "outputs": [],
   "source": [
    "filtered_merged_5_df[(filtered_merged_5_df[\"Home Team\"].str.contains(\"Hong Kong Cricket Club\")) &\n",
    "                      (filtered_merged_5_df[\"Away Team Home\"].str.contains(\"Cornwall\"))][\"Home Win\"].mean()"
   ]
  },
  {
   "cell_type": "code",
   "execution_count": null,
   "metadata": {},
   "outputs": [],
   "source": [
    "filtered_merged_5_df[filtered_merged_5_df[\"Home Team\"].str.contains(\"Hong Kong Cricket Club\")][\"Home Win\"].mean()"
   ]
  },
  {
   "cell_type": "code",
   "execution_count": 84,
   "metadata": {},
   "outputs": [
    {
     "data": {
      "text/plain": [
       "Venue\n",
       "Sir Denys Roberts Squash Court         2.200000\n",
       "Tai Po Sports Ground                   1.937500\n",
       "Wai Tsuen Sports Centre                1.823529\n",
       "Tsing Yi Sports Centre                 1.333333\n",
       "Kwun Chung Sports Centre               0.846154\n",
       "Pei Ho Street Sports Centre            0.810811\n",
       "Java Road Sports Centre                0.750000\n",
       "HK Squash Centre                       0.707819\n",
       "HK CLUB                                0.625000\n",
       "HKJC Sha Tin Club House                0.625000\n",
       "Yuen Long Jockey Club Squash Courts    0.588235\n",
       "Cornwall Street Squash Centre          0.577657\n",
       "Kowloon Cricket Club                   0.483516\n",
       "Ladies Recreation Club                 0.482759\n",
       "Masters - HK Squash Centre             0.458333\n",
       "Hong Kong Cricket Club                 0.428571\n",
       "Hong Kong Football Club                0.314607\n",
       "United Services Recreation Club        0.240741\n",
       "Harbour Road Sports Centre             0.090909\n",
       "Craigengower Cricket Club              0.000000\n",
       "Royal Hong Kong Yacht Club             0.000000\n",
       "Tai Kiu Market Squash Courts           0.000000\n",
       "Yeung Uk Road Sports Centre            0.000000\n",
       "MTR Club House                         0.000000\n",
       "Name: CR_WO, dtype: float64"
      ]
     },
     "execution_count": 84,
     "metadata": {},
     "output_type": "execute_result"
    }
   ],
   "source": [
    "filtered_merged_5_2023_df.groupby(\"Venue\")[\"CR_WO\"].mean().sort_values(ascending=False)"
   ]
  },
  {
   "cell_type": "code",
   "execution_count": 85,
   "metadata": {},
   "outputs": [
    {
     "data": {
      "text/plain": [
       "Division\n",
       "17A    1.436620\n",
       "18     1.250000\n",
       "12B    1.060606\n",
       "19     1.000000\n",
       "17B    0.886364\n",
       "13     0.800000\n",
       "16     0.650943\n",
       "3      0.617647\n",
       "7      0.490909\n",
       "5      0.480769\n",
       "2      0.472222\n",
       "12A    0.447368\n",
       "11     0.333333\n",
       "4      0.272727\n",
       "M3     0.264706\n",
       "14     0.128205\n",
       "10     0.120690\n",
       "8      0.092308\n",
       "15     0.088889\n",
       "M2     0.015152\n",
       "Name: CR_WO, dtype: float64"
      ]
     },
     "execution_count": 85,
     "metadata": {},
     "output_type": "execute_result"
    }
   ],
   "source": [
    "filtered_merged_5_2023_df.groupby(\"Division\")[\"CR_WO\"].mean().sort_values(ascending=False)"
   ]
  },
  {
   "cell_type": "code",
   "execution_count": null,
   "metadata": {},
   "outputs": [],
   "source": []
  }
 ],
 "metadata": {
  "kernelspec": {
   "display_name": "venv",
   "language": "python",
   "name": "python3"
  },
  "language_info": {
   "codemirror_mode": {
    "name": "ipython",
    "version": 3
   },
   "file_extension": ".py",
   "mimetype": "text/x-python",
   "name": "python",
   "nbconvert_exporter": "python",
   "pygments_lexer": "ipython3",
   "version": "3.11.4"
  }
 },
 "nbformat": 4,
 "nbformat_minor": 2
}
