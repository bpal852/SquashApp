{
 "cells": [
  {
   "cell_type": "code",
   "execution_count": 2,
   "metadata": {},
   "outputs": [],
   "source": [
    "import pandas as pd"
   ]
  },
  {
   "cell_type": "code",
   "execution_count": 3,
   "metadata": {},
   "outputs": [],
   "source": [
    "df = pd.read_csv(r\"C:\\Users\\bpali\\PycharmProjects\\SquashApp\\2024-2025\\combined_player_results_df.csv\")"
   ]
  },
  {
   "cell_type": "code",
   "execution_count": 4,
   "metadata": {},
   "outputs": [
    {
     "data": {
      "text/html": [
       "<div>\n",
       "<style scoped>\n",
       "    .dataframe tbody tr th:only-of-type {\n",
       "        vertical-align: middle;\n",
       "    }\n",
       "\n",
       "    .dataframe tbody tr th {\n",
       "        vertical-align: top;\n",
       "    }\n",
       "\n",
       "    .dataframe thead th {\n",
       "        text-align: right;\n",
       "    }\n",
       "</style>\n",
       "<table border=\"1\" class=\"dataframe\">\n",
       "  <thead>\n",
       "    <tr style=\"text-align: right;\">\n",
       "      <th></th>\n",
       "      <th>Unnamed: 0</th>\n",
       "      <th>Player Name</th>\n",
       "      <th>Team</th>\n",
       "      <th>Opponent Name</th>\n",
       "      <th>Opponent Team</th>\n",
       "      <th>Match Date</th>\n",
       "      <th>Venue</th>\n",
       "      <th>Rubber Number</th>\n",
       "      <th>Score</th>\n",
       "      <th>Result</th>\n",
       "      <th>Home/Away</th>\n",
       "      <th>Division</th>\n",
       "    </tr>\n",
       "  </thead>\n",
       "  <tbody>\n",
       "    <tr>\n",
       "      <th>0</th>\n",
       "      <td>0</td>\n",
       "      <td>Wong Gary Ming Ho</td>\n",
       "      <td>Sha Tin 4</td>\n",
       "      <td>Tam Wai Nam</td>\n",
       "      <td>RELAY 1</td>\n",
       "      <td>07/10/2024</td>\n",
       "      <td>Cornwall Street Squash Centre</td>\n",
       "      <td>1</td>\n",
       "      <td>0-3</td>\n",
       "      <td>Loss</td>\n",
       "      <td>Home</td>\n",
       "      <td>10</td>\n",
       "    </tr>\n",
       "    <tr>\n",
       "      <th>1</th>\n",
       "      <td>1</td>\n",
       "      <td>Tam Wai Nam</td>\n",
       "      <td>RELAY 1</td>\n",
       "      <td>Wong Gary Ming Ho</td>\n",
       "      <td>Sha Tin 4</td>\n",
       "      <td>07/10/2024</td>\n",
       "      <td>Cornwall Street Squash Centre</td>\n",
       "      <td>1</td>\n",
       "      <td>3-0</td>\n",
       "      <td>Win</td>\n",
       "      <td>Away</td>\n",
       "      <td>10</td>\n",
       "    </tr>\n",
       "    <tr>\n",
       "      <th>2</th>\n",
       "      <td>2</td>\n",
       "      <td>Leung Siu Lun</td>\n",
       "      <td>Sha Tin 4</td>\n",
       "      <td>Cheung Danny Yui Nam</td>\n",
       "      <td>RELAY 1</td>\n",
       "      <td>07/10/2024</td>\n",
       "      <td>Cornwall Street Squash Centre</td>\n",
       "      <td>2</td>\n",
       "      <td>0-3</td>\n",
       "      <td>Loss</td>\n",
       "      <td>Home</td>\n",
       "      <td>10</td>\n",
       "    </tr>\n",
       "    <tr>\n",
       "      <th>3</th>\n",
       "      <td>3</td>\n",
       "      <td>Cheung Danny Yui Nam</td>\n",
       "      <td>RELAY 1</td>\n",
       "      <td>Leung Siu Lun</td>\n",
       "      <td>Sha Tin 4</td>\n",
       "      <td>07/10/2024</td>\n",
       "      <td>Cornwall Street Squash Centre</td>\n",
       "      <td>2</td>\n",
       "      <td>3-0</td>\n",
       "      <td>Win</td>\n",
       "      <td>Away</td>\n",
       "      <td>10</td>\n",
       "    </tr>\n",
       "    <tr>\n",
       "      <th>4</th>\n",
       "      <td>4</td>\n",
       "      <td>Kan Alvin Ho Yin</td>\n",
       "      <td>Sha Tin 4</td>\n",
       "      <td>Yuen Tsun Kit</td>\n",
       "      <td>RELAY 1</td>\n",
       "      <td>07/10/2024</td>\n",
       "      <td>Cornwall Street Squash Centre</td>\n",
       "      <td>3</td>\n",
       "      <td>1-3</td>\n",
       "      <td>Loss</td>\n",
       "      <td>Home</td>\n",
       "      <td>10</td>\n",
       "    </tr>\n",
       "  </tbody>\n",
       "</table>\n",
       "</div>"
      ],
      "text/plain": [
       "   Unnamed: 0           Player Name       Team         Opponent Name  \\\n",
       "0           0     Wong Gary Ming Ho  Sha Tin 4           Tam Wai Nam   \n",
       "1           1           Tam Wai Nam    RELAY 1     Wong Gary Ming Ho   \n",
       "2           2         Leung Siu Lun  Sha Tin 4  Cheung Danny Yui Nam   \n",
       "3           3  Cheung Danny Yui Nam    RELAY 1         Leung Siu Lun   \n",
       "4           4      Kan Alvin Ho Yin  Sha Tin 4         Yuen Tsun Kit   \n",
       "\n",
       "  Opponent Team  Match Date                          Venue  Rubber Number  \\\n",
       "0       RELAY 1  07/10/2024  Cornwall Street Squash Centre              1   \n",
       "1     Sha Tin 4  07/10/2024  Cornwall Street Squash Centre              1   \n",
       "2       RELAY 1  07/10/2024  Cornwall Street Squash Centre              2   \n",
       "3     Sha Tin 4  07/10/2024  Cornwall Street Squash Centre              2   \n",
       "4       RELAY 1  07/10/2024  Cornwall Street Squash Centre              3   \n",
       "\n",
       "  Score Result Home/Away Division  \n",
       "0   0-3   Loss      Home       10  \n",
       "1   3-0    Win      Away       10  \n",
       "2   0-3   Loss      Home       10  \n",
       "3   3-0    Win      Away       10  \n",
       "4   1-3   Loss      Home       10  "
      ]
     },
     "execution_count": 4,
     "metadata": {},
     "output_type": "execute_result"
    }
   ],
   "source": [
    "df.head()"
   ]
  },
  {
   "cell_type": "code",
   "execution_count": 5,
   "metadata": {},
   "outputs": [],
   "source": [
    "# Create Integer Division column\n",
    "df[\"div_int\"] = df[\"Division\"].str.strip(\"A|B\")"
   ]
  },
  {
   "cell_type": "code",
   "execution_count": 6,
   "metadata": {},
   "outputs": [],
   "source": [
    "# Divisions to exclude\n",
    "divisions = ['L2', 'L3', 'L4', 'M2', 'M3', 'M4', 'Premier Ladies',\n",
    "       'Premier Main', 'Premier Masters']\n",
    "\n",
    "# Filter out the divisions to exclude\n",
    "df = df[~df[\"div_int\"].isin(divisions)]\n",
    "\n",
    "# Convert the div_int column to integer\n",
    "df[\"div_int\"] = df[\"div_int\"].astype(int)\n",
    "\n",
    "# Keep only rows where the div_int column is 2 to 8\n",
    "df = df[df[\"div_int\"].between(2, 8)]"
   ]
  },
  {
   "cell_type": "code",
   "execution_count": 7,
   "metadata": {},
   "outputs": [
    {
     "data": {
      "text/plain": [
       "Score\n",
       "3-0    295\n",
       "0-3    295\n",
       "3-1    195\n",
       "1-3    195\n",
       "3-2    113\n",
       "2-3    113\n",
       "CR      30\n",
       "WO       2\n",
       "Name: count, dtype: int64"
      ]
     },
     "execution_count": 7,
     "metadata": {},
     "output_type": "execute_result"
    }
   ],
   "source": [
    "df[\"Score\"].value_counts()"
   ]
  },
  {
   "cell_type": "code",
   "execution_count": 8,
   "metadata": {},
   "outputs": [],
   "source": [
    "# Exclude rows where the score is 'CR' or 'WO'\n",
    "df = df[~df[\"Score\"].isin(['CR', 'WO'])]"
   ]
  },
  {
   "cell_type": "code",
   "execution_count": 9,
   "metadata": {},
   "outputs": [
    {
     "data": {
      "text/plain": [
       "0.18739635157545606"
      ]
     },
     "execution_count": 9,
     "metadata": {},
     "output_type": "execute_result"
    }
   ],
   "source": [
    "# Count the percentage of scores that are 3-2 or 2-3\n",
    "df[\"Score\"].str.contains(\"3-2|2-3\").mean()"
   ]
  },
  {
   "cell_type": "code",
   "execution_count": 10,
   "metadata": {},
   "outputs": [
    {
     "data": {
      "text/plain": [
       "0.18739635157545606"
      ]
     },
     "execution_count": 10,
     "metadata": {},
     "output_type": "execute_result"
    }
   ],
   "source": [
    "113 / (295 + 195 + 113)"
   ]
  },
  {
   "cell_type": "code",
   "execution_count": 12,
   "metadata": {},
   "outputs": [
    {
     "data": {
      "text/plain": [
       "Player Name\n",
       "Chan Keiko Tsun Ling    3\n",
       "Chan Ming Yan Calvin    3\n",
       "Au Alex Ka Man          3\n",
       "Wong Kin Tung           2\n",
       "Lin Charles Lan Kay     2\n",
       "                       ..\n",
       "Tam Thomas Siu Ying     1\n",
       "Ng Tsz Chun             1\n",
       "Li James King Hei       1\n",
       "Leung Sum Nam           1\n",
       "Yum Chun Ting           1\n",
       "Name: count, Length: 188, dtype: int64"
      ]
     },
     "execution_count": 12,
     "metadata": {},
     "output_type": "execute_result"
    }
   ],
   "source": [
    "# Show the players in Player Name column with most 3-2 or 2-3 scores\n",
    "df[df[\"Score\"].str.contains(\"3-2|2-3\")][\"Player Name\"].value_counts()"
   ]
  },
  {
   "cell_type": "code",
   "execution_count": 15,
   "metadata": {},
   "outputs": [
    {
     "data": {
      "text/plain": [
       "Player Name\n",
       "Chan Keiko Tsun Ling    3\n",
       "Chan Ming Yan Calvin    3\n",
       "Au Alex Ka Man          3\n",
       "Name: count, dtype: int64"
      ]
     },
     "execution_count": 15,
     "metadata": {},
     "output_type": "execute_result"
    }
   ],
   "source": [
    "# Show the players in Player Name column where count of 3-2 or 2-3 results is 3 or more\n",
    "df[df[\"Score\"].str.contains(\"3-2|2-3\")][\"Player Name\"].value_counts()[df[df[\"Score\"].str.contains(\"3-2|2-3\")][\"Player Name\"].value_counts() >= 3]"
   ]
  },
  {
   "cell_type": "code",
   "execution_count": null,
   "metadata": {},
   "outputs": [],
   "source": []
  }
 ],
 "metadata": {
  "kernelspec": {
   "display_name": "venv",
   "language": "python",
   "name": "python3"
  },
  "language_info": {
   "codemirror_mode": {
    "name": "ipython",
    "version": 3
   },
   "file_extension": ".py",
   "mimetype": "text/x-python",
   "name": "python",
   "nbconvert_exporter": "python",
   "pygments_lexer": "ipython3",
   "version": "3.11.4"
  }
 },
 "nbformat": 4,
 "nbformat_minor": 2
}
