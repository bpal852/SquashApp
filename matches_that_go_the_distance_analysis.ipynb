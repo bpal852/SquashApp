{
 "cells": [
  {
   "cell_type": "code",
   "execution_count": 145,
   "metadata": {},
   "outputs": [],
   "source": [
    "import pandas as pd\n",
    "import os"
   ]
  },
  {
   "cell_type": "code",
   "execution_count": 146,
   "metadata": {},
   "outputs": [],
   "source": [
    "df = pd.read_csv(r\"C:\\Users\\bpali\\PycharmProjects\\SquashApp\\2024-2025\\combined_player_results_df.csv\")"
   ]
  },
  {
   "cell_type": "markdown",
   "metadata": {},
   "source": [
    "#### Create a new column that removes A/B from Division"
   ]
  },
  {
   "cell_type": "code",
   "execution_count": 147,
   "metadata": {},
   "outputs": [],
   "source": [
    "# Create Integer Division column\n",
    "df[\"div_int\"] = df[\"Division\"].str.strip(\"A|B\")"
   ]
  },
  {
   "cell_type": "markdown",
   "metadata": {},
   "source": [
    "#### Filter out non main league divisions or those that still play to 15"
   ]
  },
  {
   "cell_type": "code",
   "execution_count": 148,
   "metadata": {},
   "outputs": [],
   "source": [
    "# Divisions to exclude\n",
    "divisions = ['L2', 'L3', 'L4', 'M2', 'M3', 'M4', 'Premier Ladies',\n",
    "       'Premier Main', 'Premier Masters']\n",
    "\n",
    "# Filter out the divisions to exclude\n",
    "df = df[~df[\"div_int\"].isin(divisions)]\n",
    "\n",
    "# Convert the div_int column to integer\n",
    "df[\"div_int\"] = df[\"div_int\"].astype(int)\n",
    "\n",
    "# Keep only rows where the div_int column is 2 to 8\n",
    "df = df[df[\"div_int\"].between(2, 8)]"
   ]
  },
  {
   "cell_type": "code",
   "execution_count": 149,
   "metadata": {},
   "outputs": [],
   "source": [
    "# Exclude rows where the score is 'CR' or 'WO'\n",
    "df = df[~df[\"Score\"].isin(['CR', 'WO'])]"
   ]
  },
  {
   "cell_type": "code",
   "execution_count": 150,
   "metadata": {},
   "outputs": [
    {
     "data": {
      "text/plain": [
       "Score\n",
       "3-0    0.489221\n",
       "3-1    0.323383\n",
       "3-2    0.187396\n",
       "Name: proportion, dtype: float64"
      ]
     },
     "execution_count": 150,
     "metadata": {},
     "output_type": "execute_result"
    }
   ],
   "source": [
    "# Group 3-0 with 0-3, 3-1 with 1-3, 3-2 with 2-3\n",
    "df[\"Score\"] = df[\"Score\"].replace({'0-3': '3-0', '1-3': '3-1', '2-3': '3-2'})\n",
    "\n",
    "# Get percentage value counts for 3-0, 3-1, 3-2\n",
    "df[\"Score\"].value_counts(normalize=True)"
   ]
  },
  {
   "cell_type": "code",
   "execution_count": 151,
   "metadata": {},
   "outputs": [
    {
     "name": "stdout",
     "output_type": "stream",
     "text": [
      "Percentage of 5 game matches: 18.74%\n"
     ]
    }
   ],
   "source": [
    "# Count the percentage of scores that are 3-2 or 2-3\n",
    "five_game_matches_perc = df[\"Score\"].str.contains(\"3-2|2-3\").mean()\n",
    "print(f\"Percentage of 5 game matches: {five_game_matches_perc:.2%}\")"
   ]
  },
  {
   "cell_type": "code",
   "execution_count": 152,
   "metadata": {},
   "outputs": [
    {
     "data": {
      "text/plain": [
       "Player Name\n",
       "Chan Keiko Tsun Ling    3\n",
       "Chan Ming Yan Calvin    3\n",
       "Au Alex Ka Man          3\n",
       "Wong Kin Tung           2\n",
       "Lin Charles Lan Kay     2\n",
       "                       ..\n",
       "Tam Thomas Siu Ying     1\n",
       "Ng Tsz Chun             1\n",
       "Li James King Hei       1\n",
       "Leung Sum Nam           1\n",
       "Yum Chun Ting           1\n",
       "Name: count, Length: 188, dtype: int64"
      ]
     },
     "execution_count": 152,
     "metadata": {},
     "output_type": "execute_result"
    }
   ],
   "source": [
    "# Show the players in Player Name column with most 3-2 or 2-3 scores\n",
    "df[df[\"Score\"].str.contains(\"3-2|2-3\")][\"Player Name\"].value_counts()"
   ]
  },
  {
   "cell_type": "code",
   "execution_count": 153,
   "metadata": {},
   "outputs": [
    {
     "data": {
      "text/plain": [
       "Player Name\n",
       "Chan Keiko Tsun Ling    3\n",
       "Chan Ming Yan Calvin    3\n",
       "Au Alex Ka Man          3\n",
       "Name: count, dtype: int64"
      ]
     },
     "execution_count": 153,
     "metadata": {},
     "output_type": "execute_result"
    }
   ],
   "source": [
    "# Show the players in Player Name column where count of 3-2 or 2-3 results is 3 or more\n",
    "df[df[\"Score\"].str.contains(\"3-2|2-3\")][\"Player Name\"].value_counts()[df[df[\"Score\"].str.contains(\"3-2|2-3\")][\"Player Name\"].value_counts() >= 3]"
   ]
  },
  {
   "cell_type": "markdown",
   "metadata": {},
   "source": [
    "#### Get Equivalent divisions from last season"
   ]
  },
  {
   "cell_type": "code",
   "execution_count": 154,
   "metadata": {},
   "outputs": [],
   "source": [
    "# Div 8 equals former Div 12"
   ]
  },
  {
   "cell_type": "code",
   "execution_count": 155,
   "metadata": {},
   "outputs": [],
   "source": [
    "schedules_directory = r\"C:\\Users\\bpali\\PycharmProjects\\SquashApp\\previous_seasons\\2023-2024\\schedules_df\""
   ]
  },
  {
   "cell_type": "code",
   "execution_count": 156,
   "metadata": {},
   "outputs": [],
   "source": [
    "# Import all CSVs in the schedules directory\n",
    "schedules_list = []\n",
    "for file in os.listdir(schedules_directory):\n",
    "    df = pd.read_csv(os.path.join(schedules_directory, file))\n",
    "    df[\"Division\"] = file.split(\"_\")[0]\n",
    "    df[\"div_int\"] = df[\"Division\"].str.strip(\"A|B\")\n",
    "    schedules_list.append(df)\n",
    "\n",
    "schedules_df = pd.concat(schedules_list, ignore_index=True)"
   ]
  },
  {
   "cell_type": "code",
   "execution_count": 157,
   "metadata": {},
   "outputs": [],
   "source": [
    "# Filter dataframe for relevant divisions\n",
    "divisions_to_keep = ['2', '3', '4', '5', '6', '7', '8', \"10\", \"11\", \"12\"]\n",
    "schedules_df = schedules_df[schedules_df[\"div_int\"].isin(divisions_to_keep)]\n",
    "schedules_df[\"div_int\"] = schedules_df[\"div_int\"].astype(int)"
   ]
  },
  {
   "cell_type": "code",
   "execution_count": 158,
   "metadata": {},
   "outputs": [
    {
     "data": {
      "text/html": [
       "<div>\n",
       "<style scoped>\n",
       "    .dataframe tbody tr th:only-of-type {\n",
       "        vertical-align: middle;\n",
       "    }\n",
       "\n",
       "    .dataframe tbody tr th {\n",
       "        vertical-align: top;\n",
       "    }\n",
       "\n",
       "    .dataframe thead th {\n",
       "        text-align: right;\n",
       "    }\n",
       "</style>\n",
       "<table border=\"1\" class=\"dataframe\">\n",
       "  <thead>\n",
       "    <tr style=\"text-align: right;\">\n",
       "      <th></th>\n",
       "      <th>Home Team</th>\n",
       "      <th>vs</th>\n",
       "      <th>Away Team</th>\n",
       "      <th>Venue</th>\n",
       "      <th>Time</th>\n",
       "      <th>Result</th>\n",
       "      <th>Match Week</th>\n",
       "      <th>Date</th>\n",
       "      <th>Division</th>\n",
       "      <th>div_int</th>\n",
       "    </tr>\n",
       "  </thead>\n",
       "  <tbody>\n",
       "    <tr>\n",
       "      <th>0</th>\n",
       "      <td>Kowloon Cricket Club 10</td>\n",
       "      <td>v</td>\n",
       "      <td>Twister 2</td>\n",
       "      <td>Kowloon Cricket Club</td>\n",
       "      <td>19:00</td>\n",
       "      <td>5-0(3-0,3-0,3-0,3-0,3-1)</td>\n",
       "      <td>1</td>\n",
       "      <td>09/10/2023</td>\n",
       "      <td>10</td>\n",
       "      <td>10</td>\n",
       "    </tr>\n",
       "    <tr>\n",
       "      <th>1</th>\n",
       "      <td>The Best Group</td>\n",
       "      <td>v</td>\n",
       "      <td>FC 3</td>\n",
       "      <td>Cornwall Street Squash Centre</td>\n",
       "      <td>19:00</td>\n",
       "      <td>1-4(0-3,3-0,0-3,0-3,0-3)</td>\n",
       "      <td>1</td>\n",
       "      <td>09/10/2023</td>\n",
       "      <td>10</td>\n",
       "      <td>10</td>\n",
       "    </tr>\n",
       "    <tr>\n",
       "      <th>2</th>\n",
       "      <td>HKU</td>\n",
       "      <td>v</td>\n",
       "      <td>The Hong Kong Jockey Club Div 10</td>\n",
       "      <td>Cornwall Street Squash Centre</td>\n",
       "      <td>19:00</td>\n",
       "      <td>3-2(3-1,0-3,3-0,3-1,0-3)</td>\n",
       "      <td>1</td>\n",
       "      <td>09/10/2023</td>\n",
       "      <td>10</td>\n",
       "      <td>10</td>\n",
       "    </tr>\n",
       "    <tr>\n",
       "      <th>3</th>\n",
       "      <td>Hong Kong Football Club 10A</td>\n",
       "      <td>v</td>\n",
       "      <td>Hong Kong Football Club 10B</td>\n",
       "      <td>Hong Kong Football Club</td>\n",
       "      <td>19:00</td>\n",
       "      <td>4-1(3-1,3-2,2-3,3-0,3-0)</td>\n",
       "      <td>1</td>\n",
       "      <td>09/10/2023</td>\n",
       "      <td>10</td>\n",
       "      <td>10</td>\n",
       "    </tr>\n",
       "    <tr>\n",
       "      <th>4</th>\n",
       "      <td>Social Squash Team</td>\n",
       "      <td>v</td>\n",
       "      <td>[BYE]</td>\n",
       "      <td>NaN</td>\n",
       "      <td>NaN</td>\n",
       "      <td>NaN</td>\n",
       "      <td>1</td>\n",
       "      <td>09/10/2023</td>\n",
       "      <td>10</td>\n",
       "      <td>10</td>\n",
       "    </tr>\n",
       "  </tbody>\n",
       "</table>\n",
       "</div>"
      ],
      "text/plain": [
       "                     Home Team vs                         Away Team  \\\n",
       "0      Kowloon Cricket Club 10  v                         Twister 2   \n",
       "1               The Best Group  v                              FC 3   \n",
       "2                          HKU  v  The Hong Kong Jockey Club Div 10   \n",
       "3  Hong Kong Football Club 10A  v       Hong Kong Football Club 10B   \n",
       "4           Social Squash Team  v                             [BYE]   \n",
       "\n",
       "                           Venue   Time                    Result  Match Week  \\\n",
       "0           Kowloon Cricket Club  19:00  5-0(3-0,3-0,3-0,3-0,3-1)           1   \n",
       "1  Cornwall Street Squash Centre  19:00  1-4(0-3,3-0,0-3,0-3,0-3)           1   \n",
       "2  Cornwall Street Squash Centre  19:00  3-2(3-1,0-3,3-0,3-1,0-3)           1   \n",
       "3        Hong Kong Football Club  19:00  4-1(3-1,3-2,2-3,3-0,3-0)           1   \n",
       "4                            NaN    NaN                       NaN           1   \n",
       "\n",
       "         Date Division  div_int  \n",
       "0  09/10/2023       10       10  \n",
       "1  09/10/2023       10       10  \n",
       "2  09/10/2023       10       10  \n",
       "3  09/10/2023       10       10  \n",
       "4  09/10/2023       10       10  "
      ]
     },
     "execution_count": 158,
     "metadata": {},
     "output_type": "execute_result"
    }
   ],
   "source": [
    "schedules_df.head()"
   ]
  },
  {
   "cell_type": "code",
   "execution_count": 159,
   "metadata": {},
   "outputs": [],
   "source": [
    "def parse_result(result):\n",
    "    \"\"\"\n",
    "    Function to parse the 'result' string\n",
    "    \"\"\"\n",
    "    overall, rubbers = result.split('(')\n",
    "    rubbers = rubbers.strip(')').split(',')\n",
    "    return overall, rubbers"
   ]
  },
  {
   "cell_type": "code",
   "execution_count": 160,
   "metadata": {},
   "outputs": [],
   "source": [
    "# Exclude rows where 'Away Team' is '[BYE]' (indicative of a bye week)\n",
    "results_df = schedules_df[schedules_df['Away Team'] != '[BYE]'].copy()\n",
    "\n",
    "# Replace NaN values in 'Result' with an empty string before applying str.contains\n",
    "results_df['Result'] = results_df['Result'].fillna('')\n",
    "\n",
    "# Keep rows where 'Result' contains brackets (indicative of a played match)\n",
    "results_df = results_df[results_df['Result'].str.contains(r'\\(')]\n",
    "\n",
    "# Apply the function to the 'Result' column\n",
    "results_df[['Overall Score', 'Rubbers']] = results_df['Result'].apply(lambda x: pd.Series(parse_result(x)))"
   ]
  },
  {
   "cell_type": "code",
   "execution_count": 161,
   "metadata": {},
   "outputs": [
    {
     "data": {
      "text/html": [
       "<div>\n",
       "<style scoped>\n",
       "    .dataframe tbody tr th:only-of-type {\n",
       "        vertical-align: middle;\n",
       "    }\n",
       "\n",
       "    .dataframe tbody tr th {\n",
       "        vertical-align: top;\n",
       "    }\n",
       "\n",
       "    .dataframe thead th {\n",
       "        text-align: right;\n",
       "    }\n",
       "</style>\n",
       "<table border=\"1\" class=\"dataframe\">\n",
       "  <thead>\n",
       "    <tr style=\"text-align: right;\">\n",
       "      <th></th>\n",
       "      <th>Home Team</th>\n",
       "      <th>vs</th>\n",
       "      <th>Away Team</th>\n",
       "      <th>Venue</th>\n",
       "      <th>Time</th>\n",
       "      <th>Result</th>\n",
       "      <th>Match Week</th>\n",
       "      <th>Date</th>\n",
       "      <th>Division</th>\n",
       "      <th>div_int</th>\n",
       "      <th>Overall Score</th>\n",
       "      <th>Rubbers</th>\n",
       "    </tr>\n",
       "  </thead>\n",
       "  <tbody>\n",
       "    <tr>\n",
       "      <th>0</th>\n",
       "      <td>Kowloon Cricket Club 10</td>\n",
       "      <td>v</td>\n",
       "      <td>Twister 2</td>\n",
       "      <td>Kowloon Cricket Club</td>\n",
       "      <td>19:00</td>\n",
       "      <td>5-0(3-0,3-0,3-0,3-0,3-1)</td>\n",
       "      <td>1</td>\n",
       "      <td>09/10/2023</td>\n",
       "      <td>10</td>\n",
       "      <td>10</td>\n",
       "      <td>5-0</td>\n",
       "      <td>[3-0, 3-0, 3-0, 3-0, 3-1]</td>\n",
       "    </tr>\n",
       "    <tr>\n",
       "      <th>1</th>\n",
       "      <td>The Best Group</td>\n",
       "      <td>v</td>\n",
       "      <td>FC 3</td>\n",
       "      <td>Cornwall Street Squash Centre</td>\n",
       "      <td>19:00</td>\n",
       "      <td>1-4(0-3,3-0,0-3,0-3,0-3)</td>\n",
       "      <td>1</td>\n",
       "      <td>09/10/2023</td>\n",
       "      <td>10</td>\n",
       "      <td>10</td>\n",
       "      <td>1-4</td>\n",
       "      <td>[0-3, 3-0, 0-3, 0-3, 0-3]</td>\n",
       "    </tr>\n",
       "    <tr>\n",
       "      <th>2</th>\n",
       "      <td>HKU</td>\n",
       "      <td>v</td>\n",
       "      <td>The Hong Kong Jockey Club Div 10</td>\n",
       "      <td>Cornwall Street Squash Centre</td>\n",
       "      <td>19:00</td>\n",
       "      <td>3-2(3-1,0-3,3-0,3-1,0-3)</td>\n",
       "      <td>1</td>\n",
       "      <td>09/10/2023</td>\n",
       "      <td>10</td>\n",
       "      <td>10</td>\n",
       "      <td>3-2</td>\n",
       "      <td>[3-1, 0-3, 3-0, 3-1, 0-3]</td>\n",
       "    </tr>\n",
       "    <tr>\n",
       "      <th>3</th>\n",
       "      <td>Hong Kong Football Club 10A</td>\n",
       "      <td>v</td>\n",
       "      <td>Hong Kong Football Club 10B</td>\n",
       "      <td>Hong Kong Football Club</td>\n",
       "      <td>19:00</td>\n",
       "      <td>4-1(3-1,3-2,2-3,3-0,3-0)</td>\n",
       "      <td>1</td>\n",
       "      <td>09/10/2023</td>\n",
       "      <td>10</td>\n",
       "      <td>10</td>\n",
       "      <td>4-1</td>\n",
       "      <td>[3-1, 3-2, 2-3, 3-0, 3-0]</td>\n",
       "    </tr>\n",
       "    <tr>\n",
       "      <th>5</th>\n",
       "      <td>FC 3</td>\n",
       "      <td>v</td>\n",
       "      <td>HKU</td>\n",
       "      <td>Cornwall Street Squash Centre</td>\n",
       "      <td>19:00</td>\n",
       "      <td>4-1(2-3,3-0,3-0,3-0,3-0)</td>\n",
       "      <td>2</td>\n",
       "      <td>16/10/2023</td>\n",
       "      <td>10</td>\n",
       "      <td>10</td>\n",
       "      <td>4-1</td>\n",
       "      <td>[2-3, 3-0, 3-0, 3-0, 3-0]</td>\n",
       "    </tr>\n",
       "  </tbody>\n",
       "</table>\n",
       "</div>"
      ],
      "text/plain": [
       "                     Home Team vs                         Away Team  \\\n",
       "0      Kowloon Cricket Club 10  v                         Twister 2   \n",
       "1               The Best Group  v                              FC 3   \n",
       "2                          HKU  v  The Hong Kong Jockey Club Div 10   \n",
       "3  Hong Kong Football Club 10A  v       Hong Kong Football Club 10B   \n",
       "5                         FC 3  v                               HKU   \n",
       "\n",
       "                           Venue   Time                    Result  Match Week  \\\n",
       "0           Kowloon Cricket Club  19:00  5-0(3-0,3-0,3-0,3-0,3-1)           1   \n",
       "1  Cornwall Street Squash Centre  19:00  1-4(0-3,3-0,0-3,0-3,0-3)           1   \n",
       "2  Cornwall Street Squash Centre  19:00  3-2(3-1,0-3,3-0,3-1,0-3)           1   \n",
       "3        Hong Kong Football Club  19:00  4-1(3-1,3-2,2-3,3-0,3-0)           1   \n",
       "5  Cornwall Street Squash Centre  19:00  4-1(2-3,3-0,3-0,3-0,3-0)           2   \n",
       "\n",
       "         Date Division  div_int Overall Score                    Rubbers  \n",
       "0  09/10/2023       10       10           5-0  [3-0, 3-0, 3-0, 3-0, 3-1]  \n",
       "1  09/10/2023       10       10           1-4  [0-3, 3-0, 0-3, 0-3, 0-3]  \n",
       "2  09/10/2023       10       10           3-2  [3-1, 0-3, 3-0, 3-1, 0-3]  \n",
       "3  09/10/2023       10       10           4-1  [3-1, 3-2, 2-3, 3-0, 3-0]  \n",
       "5  16/10/2023       10       10           4-1  [2-3, 3-0, 3-0, 3-0, 3-0]  "
      ]
     },
     "execution_count": 161,
     "metadata": {},
     "output_type": "execute_result"
    }
   ],
   "source": [
    "results_df.head()"
   ]
  },
  {
   "cell_type": "code",
   "execution_count": 162,
   "metadata": {},
   "outputs": [],
   "source": [
    "# Create new columns to get counts of 3-0 or 0-3, 3-1 or 1-3, 3-2 or 2-3 for each match\n",
    "results_df['3-0'] = results_df['Rubbers'].apply(lambda x: x.count('3-0'))\n",
    "results_df['3-1'] = results_df['Rubbers'].apply(lambda x: x.count('3-1'))\n",
    "results_df['3-2'] = results_df['Rubbers'].apply(lambda x: x.count('3-2'))\n",
    "results_df[\"0-3\"] = results_df[\"Rubbers\"].apply(lambda x: x.count(\"0-3\"))\n",
    "results_df[\"1-3\"] = results_df[\"Rubbers\"].apply(lambda x: x.count(\"1-3\"))\n",
    "results_df[\"2-3\"] = results_df[\"Rubbers\"].apply(lambda x: x.count(\"2-3\"))\n",
    "\n",
    "# Group 3-0 columns with 0-3, 3-1 columns with 1-3, 3-2 columns with 2-3\n",
    "results_df['3 games'] = results_df['3-0'] + results_df[\"0-3\"]\n",
    "results_df['4 games'] = results_df['3-1'] + results_df[\"1-3\"]\n",
    "results_df['5 games'] = results_df['3-2'] + results_df[\"2-3\"]"
   ]
  },
  {
   "cell_type": "code",
   "execution_count": 163,
   "metadata": {},
   "outputs": [
    {
     "data": {
      "text/plain": [
       "div_int\n",
       "2     0.300000\n",
       "3     0.375000\n",
       "4     0.316667\n",
       "5     0.347222\n",
       "7     0.325758\n",
       "8     0.486111\n",
       "10    0.402778\n",
       "11    0.349206\n",
       "12    0.272109\n",
       "Name: proportion, dtype: float64"
      ]
     },
     "execution_count": 163,
     "metadata": {},
     "output_type": "execute_result"
    }
   ],
   "source": [
    "# Get percentage of 5 games matches by Division\n",
    "results_df.groupby('div_int')['5 games'].value_counts(normalize=True).loc[:, 1]"
   ]
  },
  {
   "cell_type": "code",
   "execution_count": 164,
   "metadata": {},
   "outputs": [
    {
     "data": {
      "text/html": [
       "<div>\n",
       "<style scoped>\n",
       "    .dataframe tbody tr th:only-of-type {\n",
       "        vertical-align: middle;\n",
       "    }\n",
       "\n",
       "    .dataframe tbody tr th {\n",
       "        vertical-align: top;\n",
       "    }\n",
       "\n",
       "    .dataframe thead th {\n",
       "        text-align: right;\n",
       "    }\n",
       "</style>\n",
       "<table border=\"1\" class=\"dataframe\">\n",
       "  <thead>\n",
       "    <tr style=\"text-align: right;\">\n",
       "      <th></th>\n",
       "      <th>Home Team</th>\n",
       "      <th>vs</th>\n",
       "      <th>Away Team</th>\n",
       "      <th>Venue</th>\n",
       "      <th>Time</th>\n",
       "      <th>Result</th>\n",
       "      <th>Match Week</th>\n",
       "      <th>Date</th>\n",
       "      <th>Division</th>\n",
       "      <th>div_int</th>\n",
       "      <th>...</th>\n",
       "      <th>Rubbers</th>\n",
       "      <th>3-0</th>\n",
       "      <th>3-1</th>\n",
       "      <th>3-2</th>\n",
       "      <th>0-3</th>\n",
       "      <th>1-3</th>\n",
       "      <th>2-3</th>\n",
       "      <th>3 games</th>\n",
       "      <th>4 games</th>\n",
       "      <th>5 games</th>\n",
       "    </tr>\n",
       "  </thead>\n",
       "  <tbody>\n",
       "    <tr>\n",
       "      <th>0</th>\n",
       "      <td>Kowloon Cricket Club 10</td>\n",
       "      <td>v</td>\n",
       "      <td>Twister 2</td>\n",
       "      <td>Kowloon Cricket Club</td>\n",
       "      <td>19:00</td>\n",
       "      <td>5-0(3-0,3-0,3-0,3-0,3-1)</td>\n",
       "      <td>1</td>\n",
       "      <td>09/10/2023</td>\n",
       "      <td>10</td>\n",
       "      <td>10</td>\n",
       "      <td>...</td>\n",
       "      <td>[3-0, 3-0, 3-0, 3-0, 3-1]</td>\n",
       "      <td>4</td>\n",
       "      <td>1</td>\n",
       "      <td>0</td>\n",
       "      <td>0</td>\n",
       "      <td>0</td>\n",
       "      <td>0</td>\n",
       "      <td>4</td>\n",
       "      <td>1</td>\n",
       "      <td>0</td>\n",
       "    </tr>\n",
       "    <tr>\n",
       "      <th>1</th>\n",
       "      <td>The Best Group</td>\n",
       "      <td>v</td>\n",
       "      <td>FC 3</td>\n",
       "      <td>Cornwall Street Squash Centre</td>\n",
       "      <td>19:00</td>\n",
       "      <td>1-4(0-3,3-0,0-3,0-3,0-3)</td>\n",
       "      <td>1</td>\n",
       "      <td>09/10/2023</td>\n",
       "      <td>10</td>\n",
       "      <td>10</td>\n",
       "      <td>...</td>\n",
       "      <td>[0-3, 3-0, 0-3, 0-3, 0-3]</td>\n",
       "      <td>1</td>\n",
       "      <td>0</td>\n",
       "      <td>0</td>\n",
       "      <td>4</td>\n",
       "      <td>0</td>\n",
       "      <td>0</td>\n",
       "      <td>5</td>\n",
       "      <td>0</td>\n",
       "      <td>0</td>\n",
       "    </tr>\n",
       "    <tr>\n",
       "      <th>2</th>\n",
       "      <td>HKU</td>\n",
       "      <td>v</td>\n",
       "      <td>The Hong Kong Jockey Club Div 10</td>\n",
       "      <td>Cornwall Street Squash Centre</td>\n",
       "      <td>19:00</td>\n",
       "      <td>3-2(3-1,0-3,3-0,3-1,0-3)</td>\n",
       "      <td>1</td>\n",
       "      <td>09/10/2023</td>\n",
       "      <td>10</td>\n",
       "      <td>10</td>\n",
       "      <td>...</td>\n",
       "      <td>[3-1, 0-3, 3-0, 3-1, 0-3]</td>\n",
       "      <td>1</td>\n",
       "      <td>2</td>\n",
       "      <td>0</td>\n",
       "      <td>2</td>\n",
       "      <td>0</td>\n",
       "      <td>0</td>\n",
       "      <td>3</td>\n",
       "      <td>2</td>\n",
       "      <td>0</td>\n",
       "    </tr>\n",
       "    <tr>\n",
       "      <th>3</th>\n",
       "      <td>Hong Kong Football Club 10A</td>\n",
       "      <td>v</td>\n",
       "      <td>Hong Kong Football Club 10B</td>\n",
       "      <td>Hong Kong Football Club</td>\n",
       "      <td>19:00</td>\n",
       "      <td>4-1(3-1,3-2,2-3,3-0,3-0)</td>\n",
       "      <td>1</td>\n",
       "      <td>09/10/2023</td>\n",
       "      <td>10</td>\n",
       "      <td>10</td>\n",
       "      <td>...</td>\n",
       "      <td>[3-1, 3-2, 2-3, 3-0, 3-0]</td>\n",
       "      <td>2</td>\n",
       "      <td>1</td>\n",
       "      <td>1</td>\n",
       "      <td>0</td>\n",
       "      <td>0</td>\n",
       "      <td>1</td>\n",
       "      <td>2</td>\n",
       "      <td>1</td>\n",
       "      <td>2</td>\n",
       "    </tr>\n",
       "    <tr>\n",
       "      <th>5</th>\n",
       "      <td>FC 3</td>\n",
       "      <td>v</td>\n",
       "      <td>HKU</td>\n",
       "      <td>Cornwall Street Squash Centre</td>\n",
       "      <td>19:00</td>\n",
       "      <td>4-1(2-3,3-0,3-0,3-0,3-0)</td>\n",
       "      <td>2</td>\n",
       "      <td>16/10/2023</td>\n",
       "      <td>10</td>\n",
       "      <td>10</td>\n",
       "      <td>...</td>\n",
       "      <td>[2-3, 3-0, 3-0, 3-0, 3-0]</td>\n",
       "      <td>4</td>\n",
       "      <td>0</td>\n",
       "      <td>0</td>\n",
       "      <td>0</td>\n",
       "      <td>0</td>\n",
       "      <td>1</td>\n",
       "      <td>4</td>\n",
       "      <td>0</td>\n",
       "      <td>1</td>\n",
       "    </tr>\n",
       "  </tbody>\n",
       "</table>\n",
       "<p>5 rows × 21 columns</p>\n",
       "</div>"
      ],
      "text/plain": [
       "                     Home Team vs                         Away Team  \\\n",
       "0      Kowloon Cricket Club 10  v                         Twister 2   \n",
       "1               The Best Group  v                              FC 3   \n",
       "2                          HKU  v  The Hong Kong Jockey Club Div 10   \n",
       "3  Hong Kong Football Club 10A  v       Hong Kong Football Club 10B   \n",
       "5                         FC 3  v                               HKU   \n",
       "\n",
       "                           Venue   Time                    Result  Match Week  \\\n",
       "0           Kowloon Cricket Club  19:00  5-0(3-0,3-0,3-0,3-0,3-1)           1   \n",
       "1  Cornwall Street Squash Centre  19:00  1-4(0-3,3-0,0-3,0-3,0-3)           1   \n",
       "2  Cornwall Street Squash Centre  19:00  3-2(3-1,0-3,3-0,3-1,0-3)           1   \n",
       "3        Hong Kong Football Club  19:00  4-1(3-1,3-2,2-3,3-0,3-0)           1   \n",
       "5  Cornwall Street Squash Centre  19:00  4-1(2-3,3-0,3-0,3-0,3-0)           2   \n",
       "\n",
       "         Date Division  div_int  ...                    Rubbers 3-0  3-1  3-2  \\\n",
       "0  09/10/2023       10       10  ...  [3-0, 3-0, 3-0, 3-0, 3-1]   4    1    0   \n",
       "1  09/10/2023       10       10  ...  [0-3, 3-0, 0-3, 0-3, 0-3]   1    0    0   \n",
       "2  09/10/2023       10       10  ...  [3-1, 0-3, 3-0, 3-1, 0-3]   1    2    0   \n",
       "3  09/10/2023       10       10  ...  [3-1, 3-2, 2-3, 3-0, 3-0]   2    1    1   \n",
       "5  16/10/2023       10       10  ...  [2-3, 3-0, 3-0, 3-0, 3-0]   4    0    0   \n",
       "\n",
       "   0-3  1-3  2-3  3 games  4 games  5 games  \n",
       "0    0    0    0        4        1        0  \n",
       "1    4    0    0        5        0        0  \n",
       "2    2    0    0        3        2        0  \n",
       "3    0    0    1        2        1        2  \n",
       "5    0    0    1        4        0        1  \n",
       "\n",
       "[5 rows x 21 columns]"
      ]
     },
     "execution_count": 164,
     "metadata": {},
     "output_type": "execute_result"
    }
   ],
   "source": [
    "results_df.head()"
   ]
  },
  {
   "cell_type": "code",
   "execution_count": 165,
   "metadata": {},
   "outputs": [
    {
     "data": {
      "text/plain": [
       "Rubbers\n",
       "3-0    0.542214\n",
       "3-1    0.292683\n",
       "3-2    0.165103\n",
       "Name: proportion, dtype: float64"
      ]
     },
     "execution_count": 165,
     "metadata": {},
     "output_type": "execute_result"
    }
   ],
   "source": [
    "# Get counts of 3-0, 3-1, 3-2, 2-3, 1-3, 0-3 in the 'Rubbers' column, with Division column\n",
    "rubbers_df = results_df['Rubbers'].apply(pd.Series).stack().reset_index(level=1, drop=True).to_frame('Rubbers')\n",
    "\n",
    "# Group 3-0 with 0-3, 3-1 with 1-3, and 3-2 with 2-3\n",
    "rubbers_df['Rubbers'] = rubbers_df['Rubbers'].replace({'0-3': '3-0', '1-3': '3-1', '2-3': '3-2'})\n",
    "\n",
    "# Drop rows where 'Rubbers' is 'CR', 'WO', '1-2', '4-1', '2-1'\n",
    "rubbers_df = rubbers_df[~rubbers_df['Rubbers'].isin(['CR', 'WO', '1-2', '4-1', '2-1'])]\n",
    "\n",
    "rubbers_df['Rubbers'].value_counts(normalize=True)"
   ]
  },
  {
   "cell_type": "code",
   "execution_count": 166,
   "metadata": {},
   "outputs": [],
   "source": [
    "##rubbers_df = results_df['Rubbers'].apply(pd.Series).stack().reset_index(level=1, drop=True).to_frame('Rubbers')"
   ]
  },
  {
   "cell_type": "code",
   "execution_count": null,
   "metadata": {},
   "outputs": [],
   "source": []
  }
 ],
 "metadata": {
  "kernelspec": {
   "display_name": "venv",
   "language": "python",
   "name": "python3"
  },
  "language_info": {
   "codemirror_mode": {
    "name": "ipython",
    "version": 3
   },
   "file_extension": ".py",
   "mimetype": "text/x-python",
   "name": "python",
   "nbconvert_exporter": "python",
   "pygments_lexer": "ipython3",
   "version": "3.11.4"
  }
 },
 "nbformat": 4,
 "nbformat_minor": 2
}
