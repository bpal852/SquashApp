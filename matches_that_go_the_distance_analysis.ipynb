{
 "cells": [
  {
   "cell_type": "code",
   "execution_count": 23,
   "metadata": {},
   "outputs": [],
   "source": [
    "import pandas as pd\n",
    "import os"
   ]
  },
  {
   "cell_type": "code",
   "execution_count": 24,
   "metadata": {},
   "outputs": [],
   "source": [
    "df = pd.read_csv(r\"C:\\Users\\bpali\\PycharmProjects\\SquashApp\\2024-2025\\combined_player_results_df.csv\")"
   ]
  },
  {
   "cell_type": "markdown",
   "metadata": {},
   "source": [
    "#### Create a new column that removes A/B from Division"
   ]
  },
  {
   "cell_type": "code",
   "execution_count": 25,
   "metadata": {},
   "outputs": [],
   "source": [
    "# Create Integer Division column\n",
    "df[\"div_int\"] = df[\"Division\"].str.strip(\"A|B\")"
   ]
  },
  {
   "cell_type": "markdown",
   "metadata": {},
   "source": [
    "#### Filter out non main league divisions or those that still play to 15"
   ]
  },
  {
   "cell_type": "code",
   "execution_count": 26,
   "metadata": {},
   "outputs": [],
   "source": [
    "# Divisions to exclude\n",
    "divisions = ['L2', 'L3', 'L4', 'M2', 'M3', 'M4', 'Premier Ladies',\n",
    "       'Premier Main', 'Premier Masters']\n",
    "\n",
    "# Filter out the divisions to exclude\n",
    "df = df[~df[\"div_int\"].isin(divisions)]\n",
    "\n",
    "# Convert the div_int column to integer\n",
    "df[\"div_int\"] = df[\"div_int\"].astype(int)\n",
    "\n",
    "# Keep only rows where the div_int column is 2 to 8\n",
    "df = df[df[\"div_int\"].between(2, 8)]"
   ]
  },
  {
   "cell_type": "code",
   "execution_count": 27,
   "metadata": {},
   "outputs": [],
   "source": [
    "# Exclude rows where the score is 'CR' or 'WO'\n",
    "df = df[~df[\"Score\"].isin(['CR', 'WO'])]"
   ]
  },
  {
   "cell_type": "code",
   "execution_count": 28,
   "metadata": {},
   "outputs": [
    {
     "data": {
      "text/plain": [
       "Score\n",
       "3-0    0.485616\n",
       "3-1    0.317990\n",
       "3-2    0.196394\n",
       "Name: proportion, dtype: float64"
      ]
     },
     "execution_count": 28,
     "metadata": {},
     "output_type": "execute_result"
    }
   ],
   "source": [
    "# Group 3-0 with 0-3, 3-1 with 1-3, 3-2 with 2-3\n",
    "df[\"Score\"] = df[\"Score\"].replace({'0-3': '3-0', '1-3': '3-1', '2-3': '3-2'})\n",
    "\n",
    "# Get percentage value counts for 3-0, 3-1, 3-2\n",
    "df[\"Score\"].value_counts(normalize=True)"
   ]
  },
  {
   "cell_type": "code",
   "execution_count": 29,
   "metadata": {},
   "outputs": [
    {
     "name": "stdout",
     "output_type": "stream",
     "text": [
      "Percentage of 5 game matches: 19.64%\n"
     ]
    }
   ],
   "source": [
    "# Count the percentage of scores that are 3-2 or 2-3\n",
    "five_game_matches_perc = df[\"Score\"].str.contains(\"3-2|2-3\").mean()\n",
    "print(f\"Percentage of 5 game matches: {five_game_matches_perc:.2%}\")"
   ]
  },
  {
   "cell_type": "code",
   "execution_count": 30,
   "metadata": {},
   "outputs": [
    {
     "data": {
      "text/plain": [
       "Player Name\n",
       "Unknown                 11\n",
       "Osmund Ronnie            7\n",
       "Au Alex Ka Man           7\n",
       "Chan Ming Yan Calvin     6\n",
       "Au Pak Ki                6\n",
       "                        ..\n",
       "Mao Junhong              1\n",
       "Chiang Ieng Long         1\n",
       "Chung Ka Yau             1\n",
       "Choi Angel Chung Yin     1\n",
       "Man Kin Cheong           1\n",
       "Name: count, Length: 477, dtype: int64"
      ]
     },
     "execution_count": 30,
     "metadata": {},
     "output_type": "execute_result"
    }
   ],
   "source": [
    "# Show the players in Player Name column with most 3-2 or 2-3 scores\n",
    "df[df[\"Score\"].str.contains(\"3-2|2-3\")][\"Player Name\"].value_counts()"
   ]
  },
  {
   "cell_type": "code",
   "execution_count": 32,
   "metadata": {},
   "outputs": [
    {
     "data": {
      "text/plain": [
       "Player Name\n",
       "Unknown                 11\n",
       "Osmund Ronnie            7\n",
       "Au Alex Ka Man           7\n",
       "Chan Ming Yan Calvin     6\n",
       "Au Pak Ki                6\n",
       "Siu Chen Dong            6\n",
       "Yip Tsz Ho               6\n",
       "Liou King Long           6\n",
       "Mohammad Gull Ilyas      5\n",
       "Sze James Wang Cho       5\n",
       "Lee Tin Hang             5\n",
       "Yeung Kai San            5\n",
       "Chow Hester Yuk Ting     5\n",
       "Amjad Zain               5\n",
       "Tanner Julian            5\n",
       "Chan Siu Kwan            5\n",
       "Chan Cheuk Fung          5\n",
       "Choy Chun Hei Bosco      5\n",
       "Chan Yan Yu              5\n",
       "Lee Tsz Long Max         5\n",
       "Leung Sum Nam            5\n",
       "Lam Timmy Tin Yi         5\n",
       "Chan Keiko Tsun Ling     5\n",
       "Chan Chun Ching          5\n",
       "Tam Kai Chung Hades      5\n",
       "Yiu Sai Ngoi             5\n",
       "Name: count, dtype: int64"
      ]
     },
     "execution_count": 32,
     "metadata": {},
     "output_type": "execute_result"
    }
   ],
   "source": [
    "# Show the players in Player Name column where count of 3-2 or 2-3 results is 3 or more\n",
    "df[df[\"Score\"].str.contains(\"3-2|2-3\")][\"Player Name\"].value_counts()[df[df[\"Score\"].str.contains(\"3-2|2-3\")][\"Player Name\"].value_counts() >= 5]"
   ]
  },
  {
   "cell_type": "code",
   "execution_count": 38,
   "metadata": {},
   "outputs": [
    {
     "data": {
      "text/plain": [
       "Player Name\n",
       "Unknown                   32\n",
       "Chan Ming Yan Calvin      16\n",
       "Cheng Tak Kwong           14\n",
       "Sze James Wang Cho        14\n",
       "Leung Chun Ho             13\n",
       "Chan Cheuk Fung           13\n",
       "Mak Chun Wai              12\n",
       "Au Alex Ka Man            12\n",
       "Osmund Ronnie             12\n",
       "Lee Tsz Long Max          11\n",
       "Raducki Stephen           11\n",
       "Lai Michael Cheuk Fung    11\n",
       "Chow Hester Yuk Ting      11\n",
       "Tanner Julian             11\n",
       "Wong Sze Yu               10\n",
       "Hathiramani Dinesh        10\n",
       "Yiu Sai Ngoi              10\n",
       "Chow Ming Hei Quincy      10\n",
       "Achouch Frank             10\n",
       "Salahuddin                10\n",
       "Bhandari Raghav           10\n",
       "Wong Chun Fai             10\n",
       "Yip Tsz Ho                10\n",
       "Siu Chen Dong             10\n",
       "Bidal Jay                 10\n",
       "Name: count, dtype: int64"
      ]
     },
     "execution_count": 38,
     "metadata": {},
     "output_type": "execute_result"
    }
   ],
   "source": [
    "# Get value counts for number of times a player's match wasn't 3-0 or 0-3\n",
    "df[df[\"Score\"].str.contains(\"3-0|0-3\") == False][\"Player Name\"].value_counts().head(25)"
   ]
  },
  {
   "cell_type": "markdown",
   "metadata": {},
   "source": [
    "#### Get Equivalent divisions from last season"
   ]
  },
  {
   "cell_type": "code",
   "execution_count": null,
   "metadata": {},
   "outputs": [],
   "source": [
    "# Div 8 equals former Div 12"
   ]
  },
  {
   "cell_type": "code",
   "execution_count": null,
   "metadata": {},
   "outputs": [],
   "source": [
    "schedules_directory = r\"C:\\Users\\bpali\\PycharmProjects\\SquashApp\\previous_seasons\\2023-2024\\schedules_df\""
   ]
  },
  {
   "cell_type": "code",
   "execution_count": null,
   "metadata": {},
   "outputs": [],
   "source": [
    "# Import all CSVs in the schedules directory\n",
    "schedules_list = []\n",
    "for file in os.listdir(schedules_directory):\n",
    "    df = pd.read_csv(os.path.join(schedules_directory, file))\n",
    "    df[\"Division\"] = file.split(\"_\")[0]\n",
    "    df[\"div_int\"] = df[\"Division\"].str.strip(\"A|B\")\n",
    "    schedules_list.append(df)\n",
    "\n",
    "schedules_df = pd.concat(schedules_list, ignore_index=True)"
   ]
  },
  {
   "cell_type": "code",
   "execution_count": null,
   "metadata": {},
   "outputs": [],
   "source": [
    "# Filter dataframe for relevant divisions\n",
    "divisions_to_keep = ['2', '3', '4', '5', '6', '7', '8', \"10\", \"11\", \"12\"]\n",
    "schedules_df = schedules_df[schedules_df[\"div_int\"].isin(divisions_to_keep)]\n",
    "schedules_df[\"div_int\"] = schedules_df[\"div_int\"].astype(int)"
   ]
  },
  {
   "cell_type": "code",
   "execution_count": null,
   "metadata": {},
   "outputs": [],
   "source": [
    "schedules_df.head()"
   ]
  },
  {
   "cell_type": "code",
   "execution_count": null,
   "metadata": {},
   "outputs": [],
   "source": [
    "def parse_result(result):\n",
    "    \"\"\"\n",
    "    Function to parse the 'result' string\n",
    "    \"\"\"\n",
    "    overall, rubbers = result.split('(')\n",
    "    rubbers = rubbers.strip(')').split(',')\n",
    "    return overall, rubbers"
   ]
  },
  {
   "cell_type": "code",
   "execution_count": null,
   "metadata": {},
   "outputs": [],
   "source": [
    "# Exclude rows where 'Away Team' is '[BYE]' (indicative of a bye week)\n",
    "results_df = schedules_df[schedules_df['Away Team'] != '[BYE]'].copy()\n",
    "\n",
    "# Replace NaN values in 'Result' with an empty string before applying str.contains\n",
    "results_df['Result'] = results_df['Result'].fillna('')\n",
    "\n",
    "# Keep rows where 'Result' contains brackets (indicative of a played match)\n",
    "results_df = results_df[results_df['Result'].str.contains(r'\\(')]\n",
    "\n",
    "# Apply the function to the 'Result' column\n",
    "results_df[['Overall Score', 'Rubbers']] = results_df['Result'].apply(lambda x: pd.Series(parse_result(x)))"
   ]
  },
  {
   "cell_type": "code",
   "execution_count": null,
   "metadata": {},
   "outputs": [],
   "source": [
    "results_df.head()"
   ]
  },
  {
   "cell_type": "code",
   "execution_count": null,
   "metadata": {},
   "outputs": [],
   "source": [
    "# Create new columns to get counts of 3-0 or 0-3, 3-1 or 1-3, 3-2 or 2-3 for each match\n",
    "results_df['3-0'] = results_df['Rubbers'].apply(lambda x: x.count('3-0'))\n",
    "results_df['3-1'] = results_df['Rubbers'].apply(lambda x: x.count('3-1'))\n",
    "results_df['3-2'] = results_df['Rubbers'].apply(lambda x: x.count('3-2'))\n",
    "results_df[\"0-3\"] = results_df[\"Rubbers\"].apply(lambda x: x.count(\"0-3\"))\n",
    "results_df[\"1-3\"] = results_df[\"Rubbers\"].apply(lambda x: x.count(\"1-3\"))\n",
    "results_df[\"2-3\"] = results_df[\"Rubbers\"].apply(lambda x: x.count(\"2-3\"))\n",
    "\n",
    "# Group 3-0 columns with 0-3, 3-1 columns with 1-3, 3-2 columns with 2-3\n",
    "results_df['3 games'] = results_df['3-0'] + results_df[\"0-3\"]\n",
    "results_df['4 games'] = results_df['3-1'] + results_df[\"1-3\"]\n",
    "results_df['5 games'] = results_df['3-2'] + results_df[\"2-3\"]"
   ]
  },
  {
   "cell_type": "code",
   "execution_count": null,
   "metadata": {},
   "outputs": [],
   "source": [
    "# Get percentage of 5 games matches by Division\n",
    "results_df.groupby('div_int')['5 games'].value_counts(normalize=True).loc[:, 1]"
   ]
  },
  {
   "cell_type": "code",
   "execution_count": null,
   "metadata": {},
   "outputs": [],
   "source": [
    "results_df.head()"
   ]
  },
  {
   "cell_type": "code",
   "execution_count": null,
   "metadata": {},
   "outputs": [],
   "source": [
    "# Get counts of 3-0, 3-1, 3-2, 2-3, 1-3, 0-3 in the 'Rubbers' column, with Division column\n",
    "rubbers_df = results_df['Rubbers'].apply(pd.Series).stack().reset_index(level=1, drop=True).to_frame('Rubbers')\n",
    "\n",
    "# Group 3-0 with 0-3, 3-1 with 1-3, and 3-2 with 2-3\n",
    "rubbers_df['Rubbers'] = rubbers_df['Rubbers'].replace({'0-3': '3-0', '1-3': '3-1', '2-3': '3-2'})\n",
    "\n",
    "# Drop rows where 'Rubbers' is 'CR', 'WO', '1-2', '4-1', '2-1'\n",
    "rubbers_df = rubbers_df[~rubbers_df['Rubbers'].isin(['CR', 'WO', '1-2', '4-1', '2-1'])]\n",
    "\n",
    "rubbers_df['Rubbers'].value_counts(normalize=True)"
   ]
  },
  {
   "cell_type": "code",
   "execution_count": null,
   "metadata": {},
   "outputs": [],
   "source": [
    "##rubbers_df = results_df['Rubbers'].apply(pd.Series).stack().reset_index(level=1, drop=True).to_frame('Rubbers')"
   ]
  },
  {
   "cell_type": "code",
   "execution_count": null,
   "metadata": {},
   "outputs": [],
   "source": []
  },
  {
   "cell_type": "code",
   "execution_count": null,
   "metadata": {},
   "outputs": [],
   "source": []
  }
 ],
 "metadata": {
  "kernelspec": {
   "display_name": "venv",
   "language": "python",
   "name": "python3"
  },
  "language_info": {
   "codemirror_mode": {
    "name": "ipython",
    "version": 3
   },
   "file_extension": ".py",
   "mimetype": "text/x-python",
   "name": "python",
   "nbconvert_exporter": "python",
   "pygments_lexer": "ipython3",
   "version": "3.11.4"
  }
 },
 "nbformat": 4,
 "nbformat_minor": 2
}
