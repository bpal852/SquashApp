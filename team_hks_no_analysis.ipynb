{
 "cells": [
  {
   "cell_type": "code",
   "execution_count": 4,
   "metadata": {},
   "outputs": [],
   "source": [
    "import pandas as pd\n",
    "import os\n",
    "import glob"
   ]
  },
  {
   "cell_type": "code",
   "execution_count": 2,
   "metadata": {},
   "outputs": [],
   "source": [
    "base_directory = r\"C:\\Users\\bpali\\PycharmProjects\\SquashApp\\2024-2025\\players_df\\week_1\""
   ]
  },
  {
   "cell_type": "code",
   "execution_count": 5,
   "metadata": {},
   "outputs": [],
   "source": [
    "# Find all csvs in base directory, import them, and concatenate them into a single dataframe\n",
    "dfs = []\n",
    "for file in glob.glob(os.path.join(base_directory, \"*.csv\")):\n",
    "    df = pd.read_csv(file)\n",
    "    dfs.append(df)\n"
   ]
  },
  {
   "cell_type": "code",
   "execution_count": 6,
   "metadata": {},
   "outputs": [],
   "source": [
    "df = pd.concat(dfs, ignore_index=True)"
   ]
  },
  {
   "cell_type": "code",
   "execution_count": 7,
   "metadata": {},
   "outputs": [
    {
     "data": {
      "text/html": [
       "<div>\n",
       "<style scoped>\n",
       "    .dataframe tbody tr th:only-of-type {\n",
       "        vertical-align: middle;\n",
       "    }\n",
       "\n",
       "    .dataframe tbody tr th {\n",
       "        vertical-align: top;\n",
       "    }\n",
       "\n",
       "    .dataframe thead th {\n",
       "        text-align: right;\n",
       "    }\n",
       "</style>\n",
       "<table border=\"1\" class=\"dataframe\">\n",
       "  <thead>\n",
       "    <tr style=\"text-align: right;\">\n",
       "      <th></th>\n",
       "      <th>Order</th>\n",
       "      <th>Player</th>\n",
       "      <th>HKS No.</th>\n",
       "      <th>Ranking</th>\n",
       "      <th>Points</th>\n",
       "      <th>Team</th>\n",
       "      <th>Unnamed: 6</th>\n",
       "      <th>Unnamed: 7</th>\n",
       "      <th>Unnamed: 8</th>\n",
       "      <th>Unnamed: 9</th>\n",
       "    </tr>\n",
       "  </thead>\n",
       "  <tbody>\n",
       "    <tr>\n",
       "      <th>0</th>\n",
       "      <td>1</td>\n",
       "      <td>Swan Owen</td>\n",
       "      <td>32975</td>\n",
       "      <td>0</td>\n",
       "      <td>12.0</td>\n",
       "      <td>Banbil</td>\n",
       "      <td>NaN</td>\n",
       "      <td>NaN</td>\n",
       "      <td>NaN</td>\n",
       "      <td>NaN</td>\n",
       "    </tr>\n",
       "    <tr>\n",
       "      <th>1</th>\n",
       "      <td>2</td>\n",
       "      <td>Foo Chun Huey</td>\n",
       "      <td>32317</td>\n",
       "      <td>0</td>\n",
       "      <td>0.0</td>\n",
       "      <td>Banbil</td>\n",
       "      <td>NaN</td>\n",
       "      <td>NaN</td>\n",
       "      <td>NaN</td>\n",
       "      <td>NaN</td>\n",
       "    </tr>\n",
       "    <tr>\n",
       "      <th>2</th>\n",
       "      <td>3</td>\n",
       "      <td>Au Wing Yin Francis</td>\n",
       "      <td>33697</td>\n",
       "      <td>0</td>\n",
       "      <td>0.0</td>\n",
       "      <td>Banbil</td>\n",
       "      <td>NaN</td>\n",
       "      <td>NaN</td>\n",
       "      <td>NaN</td>\n",
       "      <td>NaN</td>\n",
       "    </tr>\n",
       "    <tr>\n",
       "      <th>3</th>\n",
       "      <td>4</td>\n",
       "      <td>Leow Kin Leung</td>\n",
       "      <td>33698</td>\n",
       "      <td>0</td>\n",
       "      <td>9.0</td>\n",
       "      <td>Banbil</td>\n",
       "      <td>NaN</td>\n",
       "      <td>NaN</td>\n",
       "      <td>NaN</td>\n",
       "      <td>NaN</td>\n",
       "    </tr>\n",
       "    <tr>\n",
       "      <th>4</th>\n",
       "      <td>5</td>\n",
       "      <td>Huang Kai Tao</td>\n",
       "      <td>34612</td>\n",
       "      <td>0</td>\n",
       "      <td>9.0</td>\n",
       "      <td>Banbil</td>\n",
       "      <td>NaN</td>\n",
       "      <td>NaN</td>\n",
       "      <td>NaN</td>\n",
       "      <td>NaN</td>\n",
       "    </tr>\n",
       "    <tr>\n",
       "      <th>...</th>\n",
       "      <td>...</td>\n",
       "      <td>...</td>\n",
       "      <td>...</td>\n",
       "      <td>...</td>\n",
       "      <td>...</td>\n",
       "      <td>...</td>\n",
       "      <td>...</td>\n",
       "      <td>...</td>\n",
       "      <td>...</td>\n",
       "      <td>...</td>\n",
       "    </tr>\n",
       "    <tr>\n",
       "      <th>1959</th>\n",
       "      <td>1</td>\n",
       "      <td>Tulloch Gillem</td>\n",
       "      <td>29779</td>\n",
       "      <td>0</td>\n",
       "      <td>0.0</td>\n",
       "      <td>Ladies Recreation Club M1</td>\n",
       "      <td>NaN</td>\n",
       "      <td>NaN</td>\n",
       "      <td>NaN</td>\n",
       "      <td>NaN</td>\n",
       "    </tr>\n",
       "    <tr>\n",
       "      <th>1960</th>\n",
       "      <td>2</td>\n",
       "      <td>Nihalani Rajesh</td>\n",
       "      <td>25743</td>\n",
       "      <td>0</td>\n",
       "      <td>0.0</td>\n",
       "      <td>Ladies Recreation Club M1</td>\n",
       "      <td>NaN</td>\n",
       "      <td>NaN</td>\n",
       "      <td>NaN</td>\n",
       "      <td>NaN</td>\n",
       "    </tr>\n",
       "    <tr>\n",
       "      <th>1961</th>\n",
       "      <td>3</td>\n",
       "      <td>Caves Christopher</td>\n",
       "      <td>29552</td>\n",
       "      <td>0</td>\n",
       "      <td>0.0</td>\n",
       "      <td>Ladies Recreation Club M1</td>\n",
       "      <td>NaN</td>\n",
       "      <td>NaN</td>\n",
       "      <td>NaN</td>\n",
       "      <td>NaN</td>\n",
       "    </tr>\n",
       "    <tr>\n",
       "      <th>1962</th>\n",
       "      <td>4</td>\n",
       "      <td>Brantly Charles</td>\n",
       "      <td>32208</td>\n",
       "      <td>0</td>\n",
       "      <td>0.0</td>\n",
       "      <td>Ladies Recreation Club M1</td>\n",
       "      <td>NaN</td>\n",
       "      <td>NaN</td>\n",
       "      <td>NaN</td>\n",
       "      <td>NaN</td>\n",
       "    </tr>\n",
       "    <tr>\n",
       "      <th>1963</th>\n",
       "      <td>5</td>\n",
       "      <td>* Leung Adco</td>\n",
       "      <td>30998</td>\n",
       "      <td>0</td>\n",
       "      <td>0.0</td>\n",
       "      <td>Ladies Recreation Club M1</td>\n",
       "      <td>NaN</td>\n",
       "      <td>NaN</td>\n",
       "      <td>NaN</td>\n",
       "      <td>NaN</td>\n",
       "    </tr>\n",
       "  </tbody>\n",
       "</table>\n",
       "<p>1964 rows × 10 columns</p>\n",
       "</div>"
      ],
      "text/plain": [
       "      Order               Player  HKS No.  Ranking  Points  \\\n",
       "0         1            Swan Owen    32975        0    12.0   \n",
       "1         2        Foo Chun Huey    32317        0     0.0   \n",
       "2         3  Au Wing Yin Francis    33697        0     0.0   \n",
       "3         4       Leow Kin Leung    33698        0     9.0   \n",
       "4         5        Huang Kai Tao    34612        0     9.0   \n",
       "...     ...                  ...      ...      ...     ...   \n",
       "1959      1       Tulloch Gillem    29779        0     0.0   \n",
       "1960      2      Nihalani Rajesh    25743        0     0.0   \n",
       "1961      3    Caves Christopher    29552        0     0.0   \n",
       "1962      4      Brantly Charles    32208        0     0.0   \n",
       "1963      5         * Leung Adco    30998        0     0.0   \n",
       "\n",
       "                           Team  Unnamed: 6  Unnamed: 7  Unnamed: 8  \\\n",
       "0                        Banbil         NaN         NaN         NaN   \n",
       "1                        Banbil         NaN         NaN         NaN   \n",
       "2                        Banbil         NaN         NaN         NaN   \n",
       "3                        Banbil         NaN         NaN         NaN   \n",
       "4                        Banbil         NaN         NaN         NaN   \n",
       "...                         ...         ...         ...         ...   \n",
       "1959  Ladies Recreation Club M1         NaN         NaN         NaN   \n",
       "1960  Ladies Recreation Club M1         NaN         NaN         NaN   \n",
       "1961  Ladies Recreation Club M1         NaN         NaN         NaN   \n",
       "1962  Ladies Recreation Club M1         NaN         NaN         NaN   \n",
       "1963  Ladies Recreation Club M1         NaN         NaN         NaN   \n",
       "\n",
       "      Unnamed: 9  \n",
       "0            NaN  \n",
       "1            NaN  \n",
       "2            NaN  \n",
       "3            NaN  \n",
       "4            NaN  \n",
       "...          ...  \n",
       "1959         NaN  \n",
       "1960         NaN  \n",
       "1961         NaN  \n",
       "1962         NaN  \n",
       "1963         NaN  \n",
       "\n",
       "[1964 rows x 10 columns]"
      ]
     },
     "execution_count": 7,
     "metadata": {},
     "output_type": "execute_result"
    }
   ],
   "source": [
    "df"
   ]
  },
  {
   "cell_type": "code",
   "execution_count": 8,
   "metadata": {},
   "outputs": [
    {
     "data": {
      "text/plain": [
       "Team\n",
       "7NT                              29303.0\n",
       "8 Virtues + 1                    34197.5\n",
       "Alpha CUHK                       24699.0\n",
       "Arctic Circle                    32928.5\n",
       "BOSS                             21996.0\n",
       "                                  ...   \n",
       "i-Mask Advance Squash Club 4     34091.0\n",
       "i-Mask Advance Squash Club 5     34116.0\n",
       "i-Mask Advance Squash Club 6     34447.0\n",
       "i-Mask Advance Squash Club L3    31965.5\n",
       "i-Mask Advance Squash Club L4    34788.0\n",
       "Name: HKS No., Length: 215, dtype: float64"
      ]
     },
     "execution_count": 8,
     "metadata": {},
     "output_type": "execute_result"
    }
   ],
   "source": [
    "# Get median HKS No. for each Team\n",
    "df.groupby('Team')['HKS No.'].median()"
   ]
  },
  {
   "cell_type": "code",
   "execution_count": 13,
   "metadata": {},
   "outputs": [
    {
     "data": {
      "text/plain": [
       "Team\n",
       "Alpha CUHK                          True\n",
       "BOSS                                True\n",
       "Global Squash 1                     True\n",
       "Hong Kong Football Club 1A          True\n",
       "SKCSC                               True\n",
       "South China Athletic Association    True\n",
       "Xavier                              True\n",
       "i-Mask Advance Squash Club 2        True\n",
       "Name: HKS No., dtype: bool"
      ]
     },
     "execution_count": 13,
     "metadata": {},
     "output_type": "execute_result"
    }
   ],
   "source": [
    "# List the teams where every HKS No. is under 30000\n",
    "df.groupby('Team')['HKS No.'].apply(lambda x: all(x < 30000))\n",
    "# Show only the teams where every HKS No. is under 30000\n",
    "df.groupby('Team')['HKS No.'].apply(lambda x: all(x < 30000)).loc[lambda x: x]"
   ]
  },
  {
   "cell_type": "code",
   "execution_count": 20,
   "metadata": {},
   "outputs": [
    {
     "data": {
      "text/plain": [
       "28.0"
      ]
     },
     "execution_count": 20,
     "metadata": {},
     "output_type": "execute_result"
    }
   ],
   "source": [
    "# Rank every Team by median HKS No. from lowest to highest and order the teams by rank\n",
    "df.groupby('Team')['HKS No.'].median().rank().sort_values()\n",
    "# Show the top 20 teams by median HKS No.\n",
    "df.groupby('Team')['HKS No.'].median().rank().sort_values().head(20)\n",
    "\n",
    "# Find Team 'Xavier' rank\n",
    "df.groupby('Team')['HKS No.'].median().rank().sort_values().loc['Xavier']"
   ]
  },
  {
   "cell_type": "code",
   "execution_count": null,
   "metadata": {},
   "outputs": [],
   "source": []
  }
 ],
 "metadata": {
  "kernelspec": {
   "display_name": "venv",
   "language": "python",
   "name": "python3"
  },
  "language_info": {
   "codemirror_mode": {
    "name": "ipython",
    "version": 3
   },
   "file_extension": ".py",
   "mimetype": "text/x-python",
   "name": "python",
   "nbconvert_exporter": "python",
   "pygments_lexer": "ipython3",
   "version": "3.11.4"
  }
 },
 "nbformat": 4,
 "nbformat_minor": 2
}
